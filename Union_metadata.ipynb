{
 "cells": [
  {
   "cell_type": "code",
   "execution_count": 1,
   "id": "b43166da",
   "metadata": {},
   "outputs": [],
   "source": [
    "import json"
   ]
  },
  {
   "cell_type": "code",
   "execution_count": 2,
   "id": "b36f00e4",
   "metadata": {},
   "outputs": [],
   "source": [
    "def print_dict(d, indent=0):\n",
    "    \"\"\"\n",
    "    Recursively prints a dictionary, including nested dictionaries, \n",
    "    with indentation to represent structure.\n",
    "    \"\"\"\n",
    "    for key, value in d.items():\n",
    "        print('  ' * indent + str(key) + \": \", end=\"\")\n",
    "        if isinstance(value, dict):\n",
    "            print()  # Print a newline for nested dictionaries\n",
    "            print_dict(value, indent + 1)\n",
    "        else:\n",
    "            print(str(value))"
   ]
  },
  {
   "cell_type": "code",
   "execution_count": 3,
   "id": "df320ada",
   "metadata": {},
   "outputs": [],
   "source": [
    "def get_decription(topic, topic_dict, llm):\n",
    "    \n",
    "    \n",
    "    des = topic_dict.get(topic, None)\n",
    "    if des is not None:\n",
    "        return des\n",
    "    else:\n",
    "        des = llm.invoke({ \"topic\": topic })\n",
    "        return des[topic]"
   ]
  },
  {
   "cell_type": "code",
   "execution_count": 24,
   "id": "f89dec2c",
   "metadata": {},
   "outputs": [],
   "source": [
    "with open('./data/data_rag/conference/conference.json', 'r') as f: \n",
    "    meta_data = json.load(f) "
   ]
  },
  {
   "cell_type": "code",
   "execution_count": 5,
   "id": "835bcdf7",
   "metadata": {},
   "outputs": [],
   "source": [
    "with open('AI4AM_topics2.json', 'r') as f: \n",
    "    topics = json.load(f) "
   ]
  },
  {
   "cell_type": "code",
   "execution_count": 25,
   "id": "f05e258c",
   "metadata": {},
   "outputs": [],
   "source": [
    "topic_dict = {k: v['description'] for k, v in topics.items()}\n",
    "\n",
    "for doc in meta_data:\n",
    "    if doc.get('title', None):\n",
    "        for t, v in topics.items():\n",
    "            for d in v['metadata']:\n",
    "                if d['source'] == doc['source']:\n",
    "                    doc['topics'] = {**doc.get('topics', {}), **{t:  topic_dict.get(t)}}\n",
    "                        "
   ]
  },
  {
   "cell_type": "code",
   "execution_count": 26,
   "id": "258a8b35",
   "metadata": {},
   "outputs": [
    {
     "data": {
      "text/plain": [
       "{'source': './data/data_rag/conference/89_AI4AM2024_Botti.pdf',\n",
       " 'page': 0,\n",
       " 'title': 'The future is here: accelerating computational materials science with machine learning',\n",
       " 'authors': {'Silvana Botti': ['Research Center Future Energy Materials and Systems, Faculty of Physics and Astronomy and ICAMS, Ruhr University Bochum, Germany']},\n",
       " 'topics': {'Machine Learning in Materials Science': 'A subset of machine learning that uses neural networks with many layers to analyze and interpret complex data, particularly effective for image processing tasks.',\n",
       "  'Computational Materials Science': 'The study of materials using computational methods to predict their properties and behaviors.',\n",
       "  'Density Functional Theory (DFT)': 'A quantum mechanical method used to investigate the electronic structure of many-body systems, applied here to confirm the thermodynamic stability of proposed crystal structures.',\n",
       "  'Band Gap Engineering': 'The study of how to manipulate the electronic band structure of materials to achieve desired electronic properties.',\n",
       "  'Exchange-Correlation Functionals': 'Mathematical functions used in DFT to describe the effects of electron exchange and correlation, crucial for accurate predictions of material properties.'}}"
      ]
     },
     "execution_count": 26,
     "metadata": {},
     "output_type": "execute_result"
    }
   ],
   "source": [
    "doc"
   ]
  },
  {
   "cell_type": "code",
   "execution_count": 27,
   "id": "432b42c9",
   "metadata": {},
   "outputs": [],
   "source": [
    "with open ('./data/data_rag/conference/conference_authors_topics2.json', 'w') as f: \n",
    "    json.dump(meta_data, f, indent=4) "
   ]
  },
  {
   "cell_type": "code",
   "execution_count": 6,
   "id": "16bab9bf",
   "metadata": {},
   "outputs": [
    {
     "name": "stderr",
     "output_type": "stream",
     "text": [
      "/home/oleg/miniconda3/envs/llm/lib/python3.10/site-packages/langchain_core/utils/utils.py:161: UserWarning: WARNING! top_p is not default parameter.\n",
      "                top_p was transferred to model_kwargs.\n",
      "                Please confirm that top_p is what you intended.\n",
      "  warnings.warn(\n"
     ]
    }
   ],
   "source": [
    "import os, json\n",
    "#from langchain.chains import AnalyzeDocumentChain\n",
    "from langchain_core.output_parsers import JsonOutputParser, StrOutputParser\n",
    "from langchain_openai import ChatOpenAI\n",
    "\n",
    "from utils import OPENAI_API_KEY\n",
    "\n",
    "os.environ['OPENAI_API_KEY'] = OPENAI_API_KEY \n",
    "from langchain_openai import ChatOpenAI\n",
    "#llm = ChatOpenAI(model=\"gpt-3.5-turbo\", temperature=0)\n",
    "\n",
    "llm = ChatOpenAI(model=\"gpt-4o-mini\", temperature=0.0, top_p=0.2)  "
   ]
  },
  {
   "cell_type": "code",
   "execution_count": 7,
   "id": "c1bd0ee3",
   "metadata": {},
   "outputs": [],
   "source": [
    "from prompt_utills import *"
   ]
  },
  {
   "cell_type": "code",
   "execution_count": 8,
   "id": "0bd4e3f9",
   "metadata": {},
   "outputs": [],
   "source": [
    "topic_description = PromptTemplate.from_template(\n",
    "            \"\"\"\n",
    "            You are an expert in analyzing scientific papers.\n",
    "            You have received an topic name that is learned in a some scientific paper:\n",
    "            ###\n",
    "                {topic}\n",
    "            ------------- \\n\n",
    "            Your task is to get a short description of the topic.\n",
    "            \n",
    "            \n",
    "            The output format is a list in valid JSON format.\n",
    "            Where key is the topic name and value is a desciption of the topic.\n",
    "            \n",
    "            Example: \n",
    "            'Phase Problem in Crystallography': 'A challenge in crystallography that involves determining the phase information of scattered waves, which is essential for reconstructing the electron density of a crystal.'\n",
    "            \n",
    "            \"\"\"\n",
    "        )"
   ]
  },
  {
   "cell_type": "code",
   "execution_count": 9,
   "id": "719fc25a",
   "metadata": {},
   "outputs": [],
   "source": [
    "topic_llm = topic_description | llm | JsonOutputParser()"
   ]
  },
  {
   "cell_type": "code",
   "execution_count": 17,
   "id": "95637129",
   "metadata": {},
   "outputs": [],
   "source": [
    "topic_dict = {k: v['description'] for k, v in topics.items()}\n",
    "\n",
    "for doc in meta_data:\n",
    "    if doc.get('title', None):\n",
    "        for t, v in topics.items():\n",
    "            for d in v['metadata']:\n",
    "                if d['source'] == doc['source']:\n",
    "                    for k in d['topic']:\n",
    "                        if k not in topic_dict:\n",
    "                            topic_dict[k] = get_decription(k, topic_dict, topic_llm)\n",
    "                    doc['topics'] = {**doc.get('topics', {}), **{k:  topic_dict.get(k) for k in d['topic']}}\n",
    "                        "
   ]
  },
  {
   "cell_type": "code",
   "execution_count": 11,
   "id": "0e06494c",
   "metadata": {},
   "outputs": [
    {
     "name": "stdout",
     "output_type": "stream",
     "text": [
      "source: ./data/data_rag/conference/45_AI4AM2024_Hakim_AMARA_8.pdf\n",
      "page: 0\n",
      "title: Unlocking 3D Nanoparticle Shapes from 2D HRTEM images: A Deep Learning Breakthrough\n",
      "authors: \n",
      "  R. Moreau: ['LEM (ONERA -CNRS), Châtillon, France']\n",
      "  H. Amara: ['LEM (ONERA -CNRS), Châtillon, France', 'MPQ, Paris, France']\n",
      "  M. Moreaud: ['IFP Energies Nouvelles, Solaize, France']\n",
      "  J. Nelayah: ['MPQ, Paris, France']\n",
      "  A. Moncomble: ['MPQ, Paris, France']\n",
      "  D. Alloyeau: ['MPQ, Paris, France']\n",
      "  C. Ricolleau: ['MPQ, Paris, France']\n",
      "  R. Gatti: ['LEM (ONERA -CNRS), Châtillon, France']\n",
      "topics: \n",
      "  Deep Learning: A subset of machine learning that uses neural networks with many layers to model complex patterns in data, applied here to predict properties of 2D materials.\n",
      "  High Resolution Transmission Electron Microscopy (HRTEM): A sophisticated imaging technique that utilizes a transmission electron microscope to achieve atomic-scale resolution, allowing for the detailed observation of the internal structure of materials, including their crystallography, defects, and interfaces.\n",
      "  Simulated Imaging: A computational technique used to create synthetic images based on theoretical models or simulations, often employed in fields such as medical imaging, astrophysics, and materials science to visualize complex structures and phenomena.\n",
      "  Nanoparticle Characterization: The process of analyzing and measuring the physical and chemical properties of nanoparticles, including their size, shape, surface area, composition, and distribution, to understand their behavior and potential applications in various fields such as medicine, electronics, and materials science.\n",
      "  Deep Learning Algorithms for Image Processing: A subset of machine learning techniques that utilize neural networks with multiple layers to analyze and interpret visual data, enabling tasks such as image classification, object detection, and image enhancement.\n",
      "--- --- --- --- --- --- --- --- --- --- --- --- --- --- --- --- --- --- --- --- \n",
      "source: ./data/data_rag/conference/35_AI4AM2024_Cheng.pdf\n",
      "page: 0\n",
      "title: Predicting material properties with the help of machine learning\n",
      "authors: \n",
      "  Bingqing Cheng: ['UC Berkeley, USA']\n",
      "topics: \n",
      "  Statistical Mechanics: A branch of theoretical physics that uses statistical methods to explain and predict the thermodynamic properties of systems composed of a large number of particles, linking microscopic behavior to macroscopic phenomena.\n",
      "  Machine Learning: A subset of artificial intelligence that focuses on the development of algorithms and statistical models that enable computers to perform tasks without explicit instructions, relying on patterns and inference instead.\n",
      "  Interatomic Potentials: Mathematical functions that describe the interaction between atoms, crucial for simulating material properties.\n",
      "  Computational Chemistry: A branch of chemistry that uses computer simulations to assist in solving chemical problems, involving the application of quantum mechanics, molecular mechanics, and statistical mechanics to predict the structure, properties, and behavior of molecules and materials.\n",
      "  Phase Diagrams: Graphs that show the stability of different phases of a material as a function of temperature and pressure.\n",
      "--- --- --- --- --- --- --- --- --- --- --- --- --- --- --- --- --- --- --- --- \n",
      "source: ./data/data_rag/conference/4_AI4AM2024_Magdau_Ioan_Bogdan_39.pdf\n",
      "page: 0\n",
      "title: Foundational MLIP: the Li-ion Battery\n",
      "authors: \n",
      "topics: \n",
      "  Computational Chemistry: A branch of chemistry that uses computer simulations to assist in solving chemical problems, involving the application of quantum mechanics, molecular mechanics, and statistical mechanics to predict the structure, properties, and behavior of molecules and materials.\n",
      "  Electrochemical Devices: Devices that convert chemical energy into electrical energy, such as batteries and fuel cells, focusing on their performance and underlying mechanisms.\n",
      "  Interatomic Potentials: Mathematical functions that describe the interaction between atoms, crucial for simulating material properties.\n",
      "--- --- --- --- --- --- --- --- --- --- --- --- --- --- --- --- --- --- --- --- \n",
      "source: ./data/data_rag/conference/4_AI4AM2024_Magdau_Ioan_Bogdan_39.pdf\n",
      "page: 0\n",
      "title: Foundational MLIP: the Li-ion Battery\n",
      "authors: \n",
      "  Ioan-Bogdan Magdău: ['Newcastle University, NE1 7RU, UK']\n",
      "  I Batatia: ['University of Cambridge, CB2 1TN, UK']\n",
      "  P Benner: ['BAM, D-12205, Germany']\n",
      "  Y Chiang: ['University of California Berkeley, CA 94720, USA', 'LBNL, CA 94720, USA']\n",
      "  AM Elena: ['STFC, WA4 4AD, UK']\n",
      "  DP Kovács: ['University of Cambridge, CB2 1TN, UK']\n",
      "  J Riebesel: ['University of California Berkeley, CA 94720, USA']\n",
      "  G Csányi: ['University of Cambridge, CB2 1TN, UK']\n",
      "topics: \n",
      "  Computational Chemistry: A branch of chemistry that uses computer simulations to assist in solving chemical problems, involving the application of quantum mechanics, molecular mechanics, and statistical mechanics to predict the structure, properties, and behavior of molecules and materials.\n",
      "  Electrochemical Devices: Devices that convert chemical energy into electrical energy, such as batteries and fuel cells, focusing on their performance and underlying mechanisms.\n",
      "  Interatomic Potentials: Mathematical functions that describe the interaction between atoms, crucial for simulating material properties.\n",
      "--- --- --- --- --- --- --- --- --- --- --- --- --- --- --- --- --- --- --- --- \n",
      "source: ./data/data_rag/conference/4_AI4AM2024_Magdau_Ioan_Bogdan_39.pdf\n",
      "page: 0\n",
      "--- --- --- --- --- --- --- --- --- --- --- --- --- --- --- --- --- --- --- --- \n",
      "source: ./data/data_rag/conference/4_AI4AM2024_Magdau_Ioan_Bogdan_39.pdf\n",
      "page: 0\n",
      "--- --- --- --- --- --- --- --- --- --- --- --- --- --- --- --- --- --- --- --- \n",
      "source: ./data/data_rag/conference/44_AI4AM2024_Piaggi_Pablo_48.pdf\n",
      "page: 0\n",
      "title: Understanding crystallization from solution and at interfaces with ab-initio machine-learning models\n",
      "authors: \n",
      "  Pablo M. Piaggi: ['CIC nanoGUNE BRTA, Tolosa Hiribidea 76, Donostia-San Sebastián 20018, Basque Country, Spain', 'Ikerbasque, The Basque Foundation for Science, Bilbao 48013, Basque Country, Spain']\n",
      "topics: \n",
      "  Machine Learning and Deep Learning: Machine Learning is a subset of artificial intelligence that enables systems to learn from data and improve their performance over time without being explicitly programmed. Deep Learning, a further subset of Machine Learning, utilizes neural networks with many layers to model complex patterns in large datasets, making it particularly effective for tasks such as image and speech recognition.\n",
      "  Computational Chemistry: A branch of chemistry that uses computer simulations to assist in solving chemical problems, involving the application of quantum mechanics, molecular mechanics, and statistical mechanics to predict the structure, properties, and behavior of molecules and materials.\n",
      "  Statistical Mechanics: A branch of theoretical physics that uses statistical methods to explain and predict the thermodynamic properties of systems composed of a large number of particles, linking microscopic behavior to macroscopic phenomena.\n",
      "  Interatomic Potentials: Mathematical functions that describe the interaction between atoms, crucial for simulating material properties.\n",
      "--- --- --- --- --- --- --- --- --- --- --- --- --- --- --- --- --- --- --- --- \n",
      "source: ./data/data_rag/conference/19_AI4AM2024_Febrer_Pol_38.pdf\n",
      "page: 0\n",
      "title: Learning the density matrix, a symmetry rich encoding of the electronic density.\n",
      "authors: \n",
      "  Pol Febrer: ['Institut Català de Nanociència I Nanotecnologia (ICN2), UAB campus, Bellaterra, Spain']\n",
      "  Peter B Jørgensen: ['Denmark Technical University (DTU), Anker Engelunds Vej 101, Kongens Lingby, Denmark']\n",
      "  Miguel Pruneda: ['Institut Català de Nanociència I Nanotecnologia (ICN2), UAB campus, Bellaterra, Spain', 'Nanomaterials and Nanotechnology Research Center (CINN-CSIC), Universidad de Oviedo, El Entrego, Spain']\n",
      "  Alberto García: ['Institut Català de Ciencia de Materials (ICMAB), UAB campus, Bellaterra, Spain']\n",
      "  Arghya Bhowmik: ['Denmark Technical University (DTU), Anker Engelunds Vej 101, Kongens Lingby, Denmark']\n",
      "topics: \n",
      "  Machine Learning and Deep Learning: Machine Learning is a subset of artificial intelligence that enables systems to learn from data and improve their performance over time without being explicitly programmed. Deep Learning, a further subset of Machine Learning, utilizes neural networks with many layers to model complex patterns in large datasets, making it particularly effective for tasks such as image and speech recognition.\n",
      "  Computational Chemistry: A branch of chemistry that uses computer simulations to assist in solving chemical problems, involving the application of quantum mechanics, molecular mechanics, and statistical mechanics to predict the structure, properties, and behavior of molecules and materials.\n",
      "  Interatomic Potentials: Mathematical functions that describe the interaction between atoms, crucial for simulating material properties.\n",
      "--- --- --- --- --- --- --- --- --- --- --- --- --- --- --- --- --- --- --- --- \n",
      "source: ./data/data_rag/conference/67_AI4AM2024_Alcon_Isaac_3.pdf\n",
      "page: 0\n",
      "title: Colossal quantum transport anisotropy in nanoporous graphenes at room temperature\n",
      "authors: \n",
      "  Isaac Alcón: ['Catalan Institute of Nanoscience and Nanotechnology (ICN2), CSIC and BIST, Campus UAB, Bellaterra, 08193 Barcelona, Spain']\n",
      "  Gaetano Calogero: ['CNR Institute for Microelectronics and Microsystems (CNR-IMM), Zona Industriale, Strada VIII, 5, 95121 Catania, Italy']\n",
      "  Onucan Kaya: ['Catalan Institute of Nanoscience and Nanotechnology (ICN2), CSIC and BIST, Campus UAB, Bellaterra, 08193 Barcelona, Spain']\n",
      "  Nick Papior: ['Computing Center, Technical University of Denmark, DK-2800 Kongens Lyngby, Denmark']\n",
      "  Aron W. Cummings: ['Catalan Institute of Nanoscience and Nanotechnology (ICN2), CSIC and BIST, Campus UAB, Bellaterra, 08193 Barcelona, Spain']\n",
      "  Mads Brandbyge: ['Department of Physics, Technical University of Denmark, DK-2800 Kongens Lyngby, Denmark']\n",
      "  Stephan Roche: ['Catalan Institute of Nanoscience and Nanotechnology (ICN2), CSIC and BIST, Campus UAB, Bellaterra, 08193 Barcelona, Spain', 'ICREA, Institució Catalana de Recerca i Estudis Avançats, 08070 Barcelona, Spain']\n",
      "topics: \n",
      "  Computational Chemistry: A branch of chemistry that uses computer simulations to assist in solving chemical problems, involving the application of quantum mechanics, molecular mechanics, and statistical mechanics to predict the structure, properties, and behavior of molecules and materials.\n",
      "  Nanoparticle Characterization and Imaging Techniques: The study of the structural properties and shapes of nanoparticles using advanced imaging techniques, including high resolution transmission electron microscopy and simulated imaging.\n",
      "  Thermal Activation: The process by which thermal energy enables a system to overcome energy barriers, relevant in material studies.\n",
      "  Interatomic Potentials: Mathematical functions that describe the interaction between atoms, crucial for simulating material properties.\n",
      "--- --- --- --- --- --- --- --- --- --- --- --- --- --- --- --- --- --- --- --- \n",
      "source: ./data/data_rag/conference/67_AI4AM2024_Alcon_Isaac_3.pdf\n",
      "page: 0\n",
      "--- --- --- --- --- --- --- --- --- --- --- --- --- --- --- --- --- --- --- --- \n"
     ]
    }
   ],
   "source": [
    "for d in  meta_data[:10]:\n",
    "    print_dict(d)\n",
    "    print(\"--- \"*20)"
   ]
  },
  {
   "cell_type": "code",
   "execution_count": 18,
   "id": "347627bb",
   "metadata": {},
   "outputs": [
    {
     "data": {
      "text/plain": [
       "{'source': './data/data_rag/conference/9_AI4AM2024_Dale_Stephen_75.pdf',\n",
       " 'page': 0,\n",
       " 'title': 'Transferable diversity – a data-driven representation of chemical space.',\n",
       " 'authors': {'Stephen G. Dale': ['Institute for Functional Intelligent Materials, National University of Singapore, Block S9, Level 9, 4 Science Drive 2, Singapore 117544'],\n",
       "  'Tim Gould': ['Queensland Micro- and Nanotechnology Centre, Griffith University, Nathan, Qld 4111, Australia'],\n",
       "  'Bun Chan': ['Graduate School of Engineering, Nagasaki University, Bunkyo 1-14, Nagasaki 852-8521, Japan'],\n",
       "  'Stefan Vuckovic': ['Department of Chemistry, University of Fribourg, Chem. du Musée 9, 1700 Fribourg, Switzerland']},\n",
       " 'topics': {'Transferable Diversity': 'A concept introduced in the text that refers to the ability of training data to maintain its applicability across different chemical contexts, enhancing model generalization.',\n",
       "  'Machine Learning in Materials Science': 'A subset of machine learning that uses neural networks with many layers to analyze and interpret complex data, particularly effective for image processing tasks.',\n",
       "  'Transferability Assessment Tool (TAT)': 'A tool developed to evaluate and improve the transferability of data-driven models in chemical research, particularly in the context of density functional approximations.',\n",
       "  'Density Functional Approximations (DFAs)': 'Mathematical models used in computational chemistry to approximate the properties of many-electron systems, crucial for predicting chemical behavior.'}}"
      ]
     },
     "execution_count": 18,
     "metadata": {},
     "output_type": "execute_result"
    }
   ],
   "source": [
    "meta_data[-2]"
   ]
  },
  {
   "cell_type": "code",
   "execution_count": 19,
   "id": "2a31efd0",
   "metadata": {},
   "outputs": [],
   "source": [
    "with open ('./data/data_rag/conference/conference_authors_topics.json', 'w') as f: \n",
    "    json.dump(meta_data, f, indent=4) "
   ]
  },
  {
   "cell_type": "code",
   "execution_count": null,
   "id": "446bc6eb",
   "metadata": {},
   "outputs": [],
   "source": []
  }
 ],
 "metadata": {
  "kernelspec": {
   "display_name": "Python 3 (ipykernel)",
   "language": "python",
   "name": "python3"
  },
  "language_info": {
   "codemirror_mode": {
    "name": "ipython",
    "version": 3
   },
   "file_extension": ".py",
   "mimetype": "text/x-python",
   "name": "python",
   "nbconvert_exporter": "python",
   "pygments_lexer": "ipython3",
   "version": "3.10.12"
  }
 },
 "nbformat": 4,
 "nbformat_minor": 5
}
