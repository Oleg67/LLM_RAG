{
 "cells": [
  {
   "cell_type": "markdown",
   "id": "2588af5e",
   "metadata": {},
   "source": [
    "### Ragas is a framework that helps you evaluate your Retrieval Augmented Generation (RAG) pipelines\n"
   ]
  },
  {
   "cell_type": "code",
   "execution_count": 1,
   "id": "20e13d6c",
   "metadata": {},
   "outputs": [
    {
     "name": "stderr",
     "output_type": "stream",
     "text": [
      "[nltk_data] Downloading package punkt_tab to /home/oleg/nltk_data...\n",
      "[nltk_data]   Package punkt_tab is already up-to-date!\n",
      "[nltk_data] Downloading package averaged_perceptron_tagger_eng to\n",
      "[nltk_data]     /home/oleg/nltk_data...\n",
      "[nltk_data]   Package averaged_perceptron_tagger_eng is already up-to-\n",
      "[nltk_data]       date!\n"
     ]
    }
   ],
   "source": [
    "import os, json\n",
    "from langchain.chains import AnalyzeDocumentChain\n",
    "from langchain_openai import ChatOpenAI\n",
    "\n",
    "from utils import OPENAI_API_KEY\n",
    "\n",
    "os.environ['OPENAI_API_KEY'] = OPENAI_API_KEY \n",
    "from agentic_chunker import AgenticChunker\n",
    "from llm_utils import *\n",
    "from llm_utils import _text\n",
    "#os.environ[\"LANGCHAIN_TRACING_V2\"] = \"true\"\n",
    "\n",
    "#openai.api_key = os.environ['OPENAI_API_KEY']"
   ]
  },
  {
   "cell_type": "code",
   "execution_count": 2,
   "id": "1d2116d3",
   "metadata": {},
   "outputs": [],
   "source": [
    "from langchain_openai import ChatOpenAI, OpenAIEmbeddings\n",
    "#llm = ChatOpenAI(model=\"gpt-3.5-turbo\", temperature=0)\n",
    "\n",
    "llm = ChatOpenAI(model=\"gpt-4o-mini\", temperature=0)  "
   ]
  },
  {
   "cell_type": "code",
   "execution_count": 3,
   "id": "6452a064",
   "metadata": {},
   "outputs": [
    {
     "name": "stderr",
     "output_type": "stream",
     "text": [
      "Created a chunk of size 1135, which is longer than the specified 1000\n"
     ]
    },
    {
     "name": "stdout",
     "output_type": "stream",
     "text": [
      "128 35\n"
     ]
    }
   ],
   "source": [
    "#loader_url =SeleniumURLLoader([\"https://arxiv.org/pdf/2312.10997\",\n",
    "pdf_list = [\"./data/data_rag/s41524-023-01062-z.pdf\",\n",
    "    \"./data/data_rag/s41699-023-00369-1.pdf\"\n",
    "         #   \"https://github.com/HSE-LAMBDA/ai4material_design/tree/main/docs/CONSTRUCTOR-MOCK.md\"\n",
    "         #   \"https://github.com/HSE-LAMBDA/ai4material_design/blob/main/docs/CONSTRUCTOR.md\",\n",
    "         #   \"https://github.com/HSE-LAMBDA/ai4material_design/blob/main/docs/DATA.md\",\n",
    "         #   \"https://github.com/HSE-LAMBDA/ai4material_design/blob/main/docs/ENVIRONMENT.md\",\n",
    "         #   \"https://github.com/HSE-LAMBDA/ai4material_design/blob/main/docs/GENERATING-CONSTRUCTOR.md\",\n",
    "         #   \"https://github.com/HSE-LAMBDA/ai4material_design/blob/main/docs/GENERATING-MOCK.md\",\n",
    "         #   \"https://github.com/HSE-LAMBDA/ai4material_design/blob/main/docs/PILOT.md\",\n",
    "         #   \"https://github.com/HSE-LAMBDA/ai4material_design/blob/main/docs/SPARSE-PAPER.md\"\n",
    "          #  \"https://www.nature.com/articles/s41377-024-01407-3\",\n",
    "          #  \"https://www.nature.com/articles/s41565-023-01407-1\",\n",
    "          #  \"https://www.nature.com/articles/s41699-023-00369-1\",\n",
    "           ]\n",
    "                               \n",
    "chunks, documents = load_pdf_documets(pdf_list, tokens=1000)\n",
    "print(len(chunks), len(documents))"
   ]
  },
  {
   "cell_type": "markdown",
   "id": "a3ec6a9e",
   "metadata": {},
   "source": [
    "### Prompts"
   ]
  },
  {
   "cell_type": "code",
   "execution_count": 4,
   "id": "f2120b9f",
   "metadata": {},
   "outputs": [],
   "source": [
    "from langchain_core.prompts import PromptTemplate\n",
    "\n",
    "agent_chunking = PromptTemplate.from_template(\"\"\"\n",
    "You are an expert in analyzing scientific articles.\n",
    "You are given \"Text\":\n",
    "###\n",
    "{text}\n",
    "--------------\n",
    "Your task is to split this \"Text\" into chunks united by common meaning and ideas,\n",
    "consisting of sentences from this text. \n",
    "Each chunk should have one common idea or hypothetical question.\n",
    "The total number of words in each chunk should be greater than {Nmin}, but less than {Nmax}.\n",
    "Do not rewrite the text, keep the original spelling and sentences.\n",
    "All these chunks should contain all information from this \"Text\".\n",
    "\n",
    "Present the results as a list of strings, each element of the list is one chunk of splited text, formatted in JSON.\n",
    "\n",
    "Example:\n",
    "['Two-dimensional materials offer a promising platform for the next generation of (opto-) \n",
    "electronic devices and other high technology applications. One of the most exciting characteristics of \n",
    "2D crystals is the ability to tune their properties via controllable introduction of defects. \n",
    "However, the search space for such structures is enormous, and ab-initio computations prohibitively expensive. \n",
    "We propose a machine learning approach for rapid estimation of the properties of 2D material given \n",
    "the lattice structure and defect configuration. The method suggests a way to represent configuration of 2D materials\n",
    "with defects that allows a neural network to train quickly and accurately. \n",
    "We compare our methodology with the state-of-the-art approaches and demonstrate at least 3.7 times \n",
    "energy prediction error drop.',  'The search space for such structures is enormous, \n",
    "and ab-initio computations prohibitively expensive.']\n",
    "\"\"\")\n",
    "\n"
   ]
  },
  {
   "cell_type": "code",
   "execution_count": 5,
   "id": "81cc04a4",
   "metadata": {},
   "outputs": [],
   "source": [
    "from langchain_core.output_parsers import JsonOutputParser"
   ]
  },
  {
   "cell_type": "code",
   "execution_count": 6,
   "id": "96113959",
   "metadata": {},
   "outputs": [],
   "source": [
    "#agent2 = agent_chunking2 | llm | JsonOutputParser()\n",
    "agent = agent_chunking | llm | JsonOutputParser()"
   ]
  },
  {
   "cell_type": "code",
   "execution_count": 7,
   "id": "0b1db992",
   "metadata": {},
   "outputs": [],
   "source": [
    "from typing import Optional\n",
    "from langchain_core.pydantic_v1 import BaseModel\n",
    "\n",
    "class Documets(BaseModel):\n",
    "    page_content: str\n",
    "    metadata: dict\n",
    "    #def __init__(self, page_content: str, metadata: dict):\n",
    "    #    self.page_content = page_content\n",
    "    #    self.metadata = metadata\n",
    "    #def __str__(self):\n",
    "    #    return self.page_content\n",
    "    #def __repr__(self):\n",
    "    #    return f\"Documets(page_content={self.page_content}, metadata={self.metadata})\"\n",
    "#new_docs = "
   ]
  },
  {
   "cell_type": "markdown",
   "id": "d9c8f834",
   "metadata": {},
   "source": [
    "### Make vectores DB"
   ]
  },
  {
   "cell_type": "code",
   "execution_count": 16,
   "id": "492572ec",
   "metadata": {},
   "outputs": [],
   "source": [
    "from tqdm import tqdm\n",
    "from pymilvus import MilvusClient\n",
    "\n",
    "milvus_client = MilvusClient(\"./milvus_demo.db\")"
   ]
  },
  {
   "cell_type": "markdown",
   "id": "d0173482",
   "metadata": {},
   "source": [
    "### Split document by LLM"
   ]
  },
  {
   "cell_type": "code",
   "execution_count": 10,
   "id": "5d9df289",
   "metadata": {},
   "outputs": [
    {
     "name": "stdout",
     "output_type": "stream",
     "text": [
      "{'source': './data/data_rag/s41524-023-01062-z.pdf', 'page': 0}\n",
      "{'source': './data/data_rag/s41524-023-01062-z.pdf', 'page': 0}\n",
      "{'source': './data/data_rag/s41524-023-01062-z.pdf', 'page': 1}\n",
      "{'source': './data/data_rag/s41524-023-01062-z.pdf', 'page': 1}\n",
      "{'source': './data/data_rag/s41524-023-01062-z.pdf', 'page': 2}\n",
      "{'source': './data/data_rag/s41524-023-01062-z.pdf', 'page': 2}\n",
      "{'source': './data/data_rag/s41524-023-01062-z.pdf', 'page': 3}\n",
      "{'source': './data/data_rag/s41524-023-01062-z.pdf', 'page': 3}\n",
      "{'source': './data/data_rag/s41524-023-01062-z.pdf', 'page': 4}\n",
      "{'source': './data/data_rag/s41524-023-01062-z.pdf', 'page': 5}\n",
      "{'source': './data/data_rag/s41524-023-01062-z.pdf', 'page': 5}\n",
      "{'source': './data/data_rag/s41524-023-01062-z.pdf', 'page': 6}\n",
      "{'source': './data/data_rag/s41524-023-01062-z.pdf', 'page': 7}\n",
      "{'source': './data/data_rag/s41524-023-01062-z.pdf', 'page': 7}\n",
      "{'source': './data/data_rag/s41524-023-01062-z.pdf', 'page': 8}\n",
      "{'source': './data/data_rag/s41524-023-01062-z.pdf', 'page': 8}\n",
      "{'source': './data/data_rag/s41524-023-01062-z.pdf', 'page': 8}\n",
      "{'source': './data/data_rag/s41524-023-01062-z.pdf', 'page': 9}\n",
      "{'source': './data/data_rag/s41699-023-00369-1.pdf', 'page': 0}\n",
      "{'source': './data/data_rag/s41699-023-00369-1.pdf', 'page': 0}\n",
      "{'source': './data/data_rag/s41699-023-00369-1.pdf', 'page': 1}\n",
      "{'source': './data/data_rag/s41699-023-00369-1.pdf', 'page': 1}\n",
      "{'source': './data/data_rag/s41699-023-00369-1.pdf', 'page': 2}\n",
      "{'source': './data/data_rag/s41699-023-00369-1.pdf', 'page': 3}\n",
      "{'source': './data/data_rag/s41699-023-00369-1.pdf', 'page': 4}\n",
      "{'source': './data/data_rag/s41699-023-00369-1.pdf', 'page': 4}\n",
      "{'source': './data/data_rag/s41699-023-00369-1.pdf', 'page': 5}\n",
      "{'source': './data/data_rag/s41699-023-00369-1.pdf', 'page': 6}\n",
      "{'source': './data/data_rag/s41699-023-00369-1.pdf', 'page': 6}\n",
      "{'source': './data/data_rag/s41699-023-00369-1.pdf', 'page': 7}\n",
      "{'source': './data/data_rag/s41699-023-00369-1.pdf', 'page': 7}\n",
      "{'source': './data/data_rag/s41699-023-00369-1.pdf', 'page': 8}\n",
      "{'source': './data/data_rag/s41699-023-00369-1.pdf', 'page': 8}\n",
      "{'source': './data/data_rag/s41699-023-00369-1.pdf', 'page': 8}\n",
      "{'source': './data/data_rag/s41699-023-00369-1.pdf', 'page': 9}\n"
     ]
    }
   ],
   "source": [
    "\n",
    "article_propositions = []\n",
    "for d in documents:\n",
    "    answer_agent = agent.invoke({'text': d.page_content, \"Nmin\": 600, \"Nmax\": 1200})\n",
    "    #print(answer_agent)\n",
    "    #print(len(answer_agent), 10*'*** ')\n",
    "    #try:\n",
    "    #    chs = [\" \".join(answer_agent)]\n",
    "   # \n",
    "    #except TypeError:\n",
    "    #    chs = [\" \".join(a) for a in answer_agent]\n",
    "    article_propositions += [Documets(page_content=s, metadata=d.metadata) for s in answer_agent]\n",
    "    \n",
    "    print(d.metadata)"
   ]
  },
  {
   "cell_type": "code",
   "execution_count": 11,
   "id": "4fc5853d",
   "metadata": {},
   "outputs": [
    {
     "name": "stdout",
     "output_type": "stream",
     "text": [
      "67\n",
      "Two-dimensional materials offer a promising platform for the next generation of (opto-) electronic devices and other high technology applications. One of the most exciting characteristics of 2D crystals is the ability to tune their properties via controllable introduction of defects. However, the search space for such structures is enormous, and ab-initio computations prohibitively expensive. We propose a machine learning approach for rapid estimation of the properties of 2D material given the lattice structure and defect configuration. The method suggests a way to represent configuration of 2D materials with defects that allows a neural network to train quickly and accurately. We compare our methodology with the state-of-the-art approaches and demonstrate at least 3.7 times energy prediction error drop. Also, our approach is an order of magnitude more resource-efficient than its contenders both for the training and inference part. Atomic-scale tailoring of materials is one of the most promising paths towards achieving new, both quantum and classical properties. Controllable defect engineering, i.e., introduction of vacancies or desired impurities, enables properties modifications and new functionalities in crystalline materials. The opportunities for such controlled material engineering methods got a dramatic boost in the past two decades with the development of the methods for exfoliation of crystal into two-dimensional atomic layer. The reduced dimensionality in layered two-dimensional materials makes it possible to manipulate defects atom by atom and tune their properties down to quantum mechanics limits. Such atomic-scale preparation and fabrication techniques hold promise for the continual development of the semiconductor industry in the post-Moore age and the development of novel technologies such as quantum computing, catalysts, and photovoltaics. \n",
      "\n",
      "\n",
      "ADDITIONAL INFORMATION Supplementary information The online version contains supplementary material available at https://doi.org/10.1038/s41699-023-00369-1 . Correspondence and requests for materials should be addressed to Kostya S. Novoselov. Reprints and permission information is available at http://www.nature.com/reprints Publisher ’s note Springer Nature remains neutral with regard to jurisdictional claims in published maps and institutional af ﬁliations. Open Access This article is licensed under a Creative Commons Attribution 4.0 International License, which permits use, sharing, adaptation, distribution and reproduction in any medium or format, as long as you giveappropriate credit to the original author(s) and the source, provide a link to the CreativeCommons license, and indicate if changes were made. The images or other third partymaterial in this article are included in the article ’s Creative Commons license, unlessindicated otherwise in a credit line to the material. If material is not included in thearticle ’s Creative Commons license and your intended use is not permitted by statutoryregulation or exceeds the permitted use, you will need to obtain permission directlyfrom the copyright holder. To view a copy of this license, visit http://creativecommons.org/licenses/by/4.0/ . © The Author(s) 2023, corrected publication 2023 P. Huang et al. 10 npj 2D Materials and Applications (2023) 6 Published in partnership with FCT NOVA with the support of E-MRS\n"
     ]
    }
   ],
   "source": [
    "print(len(article_propositions))\n",
    "print(article_propositions[0].page_content, \"\\n\\n\")\n",
    "print(article_propositions[-1].page_content)"
   ]
  },
  {
   "cell_type": "markdown",
   "id": "2c6ed7a6",
   "metadata": {},
   "source": [
    "### Create chunks by union "
   ]
  },
  {
   "cell_type": "code",
   "execution_count": 12,
   "id": "bcf44557",
   "metadata": {},
   "outputs": [
    {
     "name": "stderr",
     "output_type": "stream",
     "text": [
      "/home/oleg/miniconda3/envs/llm/lib/python3.10/site-packages/langchain_core/_api/deprecation.py:119: LangChainDeprecationWarning: The class `ChatOpenAI` was deprecated in LangChain 0.0.10 and will be removed in 0.2.0. An updated version of the class exists in the langchain-openai package and should be used instead. To use it run `pip install -U langchain-openai` and import as `from langchain_openai import ChatOpenAI`.\n",
      "  warn_deprecated(\n"
     ]
    }
   ],
   "source": [
    "from agentic_chunker import AgenticChunker\n",
    "ac = AgenticChunker(openai_api_key=OPENAI_API_KEY)"
   ]
  },
  {
   "cell_type": "code",
   "execution_count": 13,
   "id": "cdd1834f",
   "metadata": {
    "scrolled": true
   },
   "outputs": [
    {
     "name": "stdout",
     "output_type": "stream",
     "text": [
      "\n",
      "Adding: 'Two-dimensional materials offer a promising platform for the next generation of (opto-) electronic devices and other high technology applications. One of the most exciting characteristics of 2D crystals is the ability to tune their properties via controllable introduction of defects. However, the search space for such structures is enormous, and ab-initio computations prohibitively expensive. We propose a machine learning approach for rapid estimation of the properties of 2D material given the lattice structure and defect configuration. The method suggests a way to represent configuration of 2D materials with defects that allows a neural network to train quickly and accurately. We compare our methodology with the state-of-the-art approaches and demonstrate at least 3.7 times energy prediction error drop. Also, our approach is an order of magnitude more resource-efficient than its contenders both for the training and inference part. Atomic-scale tailoring of materials is one of the most promising paths towards achieving new, both quantum and classical properties. Controllable defect engineering, i.e., introduction of vacancies or desired impurities, enables properties modifications and new functionalities in crystalline materials. The opportunities for such controlled material engineering methods got a dramatic boost in the past two decades with the development of the methods for exfoliation of crystal into two-dimensional atomic layer. The reduced dimensionality in layered two-dimensional materials makes it possible to manipulate defects atom by atom and tune their properties down to quantum mechanics limits. Such atomic-scale preparation and fabrication techniques hold promise for the continual development of the semiconductor industry in the post-Moore age and the development of novel technologies such as quantum computing, catalysts, and photovoltaics.'\n",
      "No chunks, creating a new one\n",
      "Created new chunk (55964): Two-Dimensional Materials Engineering\n",
      "\n",
      "Adding: 'Despite decades of research efforts, knowledge of the structure-property relation for defects in crystals is still limited. Only a small subset of defects in the vast configuration space have been investigated. The properties of complexes of multiple point defects, where quantum phenomena dominate, depend on the composition and configuration of such defects in a strongly non-trivial manner, making their prediction a very hard problem. The diversity and complexity of the problem come from the exchange interaction of defect orbitals separated by discrete lattices. On the other hand, the vast chemical and configuration space prohibits a thorough exploration of such structures by traditional trial and error experiments and even for computationally expensive state-of-the-art quantum mechanic simulations. The recent development of large materials databases has stimulated the application of deep learning methods for atomistic predictions. Machine learning (ML) methods trained on density functional theory (DFT) calculations have been used to identify materials for batteries, catalysts, and many other applications. Machine learning methods accelerate the design of the new materials by predicting material properties with accuracy comparable to ab-initio calculations, but with orders of magnitude lower computational costs. A series of fast and accurate deep learning architectures have been presented during the last few years. The most successful of them are graph neural networks, such as MEGNet, CGCNN, SchNet, GemNet, etc. In this work, we propose a method for predicting the energetic and electronic structures of defects in 2D materials with machine.'\n"
     ]
    },
    {
     "name": "stderr",
     "output_type": "stream",
     "text": [
      "/home/oleg/miniconda3/envs/llm/lib/python3.10/site-packages/langchain_core/_api/deprecation.py:119: LangChainDeprecationWarning: The method `Chain.run` was deprecated in langchain 0.1.0 and will be removed in 0.2.0. Use invoke instead.\n",
      "  warn_deprecated(\n"
     ]
    },
    {
     "name": "stdout",
     "output_type": "stream",
     "text": [
      "55964\n",
      "Chunk Found (55964), adding to: Two-Dimensional Materials Engineering\n",
      "\n",
      "Adding: 'In this work, we propose a method for predicting the energetic and electronic structures of defects in 2D materials with machine learning. Firstly, a machine learning-friendly 2D Material Defect database (2DMD) was established employing high throughput DFT calculations. The database is composed of both structured datasets and dispersive datasets of defects in represented 2D materials such as MoS2, WSe2, h-BN, GaSe, InSe, and black phosphorous (BP). We use the datasets to evaluate the performance of the previously reported approaches along with ours, which was specially designed to provide accurate description of materials with defects. Our computational experiments show that our approach provides a significant increase in prediction accuracy compared to the state-of-the-art general methods. The high accuracy allows to reproduce the nonlinear non-monotonic property-distance correlation of defects which is a combination of the quantum mechanic effect and the periodic lattice nature in 2D materials. The general methods, on the other hand, mostly fail to predict such property-structure functionals, as we show in subsection 'Aggregate performance'. Most importantly, our method shows great transferability for a wide range of defect concentrations in the various 2D materials we studied.'\n",
      "55964\n",
      "Chunk Found (55964), adding to: Two-Dimensional Materials and Machine Learning\n",
      "\n",
      "Adding: 'Machine learning offers two principal approaches to predicting atomistic properties: graph neural networks (GNN) and physics-based descriptors. Graph neural networks have several valuable properties that make them uniquely suitable for modeling atomic systems: invariance to permutations, rotations, and translation. The ability of GNNs to handle complex relationships and interactions in atomic structures allows for more accurate predictions of material properties, especially in the context of defects in 2D materials. This is crucial as defects can significantly alter the electronic and energetic characteristics of materials, impacting their performance in applications. By leveraging the strengths of GNNs, our proposed method aims to enhance the understanding and prediction of defect-related properties in 2D materials, paving the way for advancements in material design and optimization.'\n",
      "55964\n",
      "Chunk Found (55964), adding to: Engineering Two-Dimensional Materials with Machine Learning\n",
      "\n",
      "Adding: 'natural encoding of the locality of interactions. In the recent Open Catalyst benchmark5, GNNs solidly outperform the physics-based descriptors. Therefore, in this section, we only focus on GNNs. Xie et al.12is one of the ﬁrst works to propose applying a convolutional GNN to materials. Wolverton et al.16improves on it, by incorporating Voronoi-tessellated atomic structure, 3-body correlations of neighboring atoms, and chemical representation of interatomic bonds. Schütt et al.13(Schnet) proposes continuous-ﬁlter convolutional layers. Chen et al.11(MEGNet) uses a more advanced GNN: message-passing, instead of convolutional. Klicpera et al.14,17(GemNet) redresses an important shortcoming of the previous message-passing GNN ’s: loosing of geometric information due to considering only distances as edge features. Zitnick et al.18improves handling of angular information. Cloudhary et al. presents an Atomistic Line Graph Neural Network (ALIGNN)19, a GNN architecture that performs message passing on both the interatomic bond graph and its line graph corresponding to bond angles. Ying et al.20,21introduces Graphormer, a hybrid model between Transformers and GNNs allows for more expressive aggregation operations. Even though the described models are not evaluated on crystals with defects - they are in-principle capable of handling any atomistic structures, and thus we use the most established ones as baselines. Moreover, we demonstrate our approach using one of the most renowned GNN architectures for materials: MEGNet (see details in subsection “General message-passing graph neural networks for materials ”).'\n",
      "55964\n",
      "Chunk Found (55964), adding to: Defect Engineering in Two-Dimensional Materials Using Machine Learning\n",
      "\n",
      "Adding: 'The introduction of a defect site in general creates disturbed electronic states and the wave function associated with such states ﬂuctuates over a distance of a few lattice constants depending on the localization of the electrons in the host lattice, Fig. 1. This results in some localized defect levels in the energy spectrum of the solid. From a quantum embedding theory point of view22, the defects could be seen as the active region of interest embedded in the periodic lattice. Accordingly, the defect levels are governed by the interactions of the unsaturated electrons in the background of the valence band electrons. The properties of a defect complex composed of more than one defect sites are governed by the interference of the wave functions of suchelectrons 23. As the result, the formation energy, positions of defect levels, and the HOMO-LUMO gap are non-trivially dependent on the defect con ﬁgurations. As schematically shown in Fig. 1, two defect states interfere with each other, and the separation of the bonding and antibonding states is governed by the exchange integral of the two states in the screening background of valence electrons. The exchange integral is subtly dependent on the positions of defect components, and such a HOMO-LUMO gap is a complex functional of the defect con ﬁguration. It is still a challenge for machine learning to precisely predict such nonlinear quantum mechanic behavior of defects.'\n",
      "55964\n",
      "Chunk Found (55964), adding to: Machine Learning for Defect Engineering in 2D Materials\n",
      "\n",
      "Adding: 'Machine learning methods have been proposed for prediction of the formation energies of single point defects24–26across different materials, but the authors didn ’t consider con ﬁgurations with multiple interacting defects. In a recent preprint27, the authors use a model based on CGCNN12to conduct a large scale screening of single-vacancy structures for diverse energy applica- tions. In ref.4, the authors use MEGNet architecture for prediction of the properties of pristine 2D materials and choosing the ones that make optimal hosts for engineered point defects. Then they use matminer28combined with Random Forest29for predicting the properties of structures with point defects. A similar descriptor-based approach is used in ref.30. We evaluate the descriptor-based approach for our data, as described in subsection “Physics-based descriptors ”. ReaxFF31potential has been developed for dichalcogenides.'\n",
      "55964\n",
      "Chunk Found (55964), adding to: Machine Learning for 2D Material Defect Prediction\n",
      "\n",
      "Adding: 'descriptor-based approach for our data, as described in subsection “Physics-based descriptors ”. ReaxFF31potential has been developed for dichalcogenides, and is used for studying defect dynamics32,33. The potential is very computationally ef ﬁcient, and thus allows to probe dynamics on a larger time scale. However, it is not as precise as DFT, and doesn ’t offer a way to predict the electronic properties. The paper is structured as follows. Section “Sparse representa- tion of crystals with defects ”presents our proposed method for representing structures with defects to machine learning algo- rithms. Section “Dataset ”provides the description of the dataset we use for evaluation. Sections “Aggregate performance ”, “Quantum oscillations prediction ”present the computational experiments, where we compare performances of different methods. Finally, section “Discussion ”summarizes our work. Fig. 1 The quantum mechanic nature of defects. a DFT-simulated defect wave function centered at a single Mo site of MoS 2crystal lattice. Red and green colors represent the opposite phases of the wave function isosurfaces. The dash circles are an illustration of the electronicorbital shells. bA schematic representation of the wave function interference of two defect sites in a crystal lattice. cThe defect levels are governed by the exchange interaction of defect components, and hence the separation of the defect levels is dominated by the exchange integral according to the valence bond theory.'\n"
     ]
    },
    {
     "name": "stdout",
     "output_type": "stream",
     "text": [
      "55964\n",
      "Chunk Found (55964), adding to: Machine Learning for Defect Engineering in 2D Materials\n",
      "\n",
      "Adding: 'Sparse representation of crystals with defectsFor machine learning algorithms, an atomic structure is a so-called point cloud: a set of points in 3D space. Each point is associated with a vector of properties, which at the least contains the atomic number, but may also include more physics-based features, such as radius, the number of valence electrons, etc. The structures with defects present a challenge to machine learning algorithms. The neighborhoods of the majority of the atoms are not affected by the point defects. In principle, this shouldn’t be an obstacle for a perfect algorithm. In practice, however, this comparatively small difference in the full structures is hard to learn. As we demonstrate in section “Aggregate performance” with our computational experiments, state-of-the-art algorithms underperform on crystal structures with defects. We propose a way to represent structures with defects that makes the problem of predicting properties easy for the ML algorithms leading to better performance. The core idea is presented in Fig. 2: instead of treating a crystal structure as a point cloud of atoms, we treat it as a point cloud of defects. To obtain it, we take the structure with defects, remove all the atoms that are not affected by substitution defects, and add virtual atoms on the vacancy sites. Each point has two parameters in addition to the coordinates: the atomic number of the atom on the site in the pristine structure and the atomic number of the atom in the structure with the defect. Vacancies are considered to have atomic number 0. The structure of the pristine unit cell is encoded as a global state for each structure using a vector with the set of atomic numbers of the pristine material, e.g. (42, 16) for MoS2. This simple approach is sufficient on our structures. As a future direction, in case generalization between materials is desired, graph embedding would be a logical choice: pristine material unit cell as an input to a different GNN, which outputs a vector of fixed dimensionality.'\n",
      "55964\n",
      "Chunk Found (55964), adding to: Machine Learning for Optimizing Defects in 2D Materials\n",
      "\n",
      "Adding: 'Secondly, we propose an augmentation specific to graph neural networks and 2D crystals: adding the difference in z-coordinate (perpendicular to the material surface) as an edge feature. Normally, such a feature would break the rotational symmetry. But in the case of a 2D crystal, the direction perpendicular to the material surface is physically defined and thus can be used. In a crystal, the replacement of an atom or the introduction of a vacancy causes a major disruption of the electronic states. Given the wave nature of electrons, the introduction of a localized defect creates oscillations in the electronic wave functions at the atomic level similar to a rock thrown into a pond. In the case of crystals, the wave function oscillations may involve one or several electronic orbitals, and the amplitude of those oscillations decays away from the defect at a rate that depends on the nature of those orbitals. This oscillatory nature of the electronic states away from a defect leads to the formation of electronic orbital shells (EOS). We ascribe an EOS index to such shells, that labels the amplitude of the wave function in decreasing order, the S atom labeled 1 filling the largest amplitude, as we show in Fig. 1. Formally we define EOS orbitals as follows. Firstly, we project all atoms on the x-y plane, making a truly 2D representation of the material. For binary crystals, for each atom, we draw circles centered on it and passing through the atoms of the other species, numbering them in the order of radius increase. For unary materials (BP in our dataset), the circle radii are multiples of the unit cell size. The circle number is the EOS index of the site with respect to the central atom. The intuition behind those indices is described in the paper 34, which claims that the atomic electron shells’ interaction strength is not monotonic with respect to atom.'\n",
      "55964\n",
      "Chunk Found (55964), adding to: Machine Learning for Defect Prediction in 2D Materials\n",
      "\n",
      "Adding: 'respect to the central atom. The intuition behind those indices is described in the paper 34, which claims that the atomic electron shells ’interaction strength is not monotonic with respect to atom distance, but it oscillates in a way such that minima and maxima coincide with the crystal lattice nodes. To represent those oscillations, we also add parity of the EOS index as a separate feature, which we call EOS parity. Fig. 2 The transition from full to sparse representation for an example MoS 2 supercell. a A full MoS 2 structure with one Mo →W, two S→Se substitutions, and two S vacancies; b sparse representation, containing only defects types and coordinates; c intermediate point of the graph construction: cutoff radius centered on the metal substitution defect; d the final graph with sparse representation. A dashed green line indicates a virtual graph edge that effectively connects one node with another via a periodic boundary condition. N. Kazeev et al. 3 Published in partnership with the Shanghai Institute of Ceramics of the Chinese Academy of Sciences npj Computational Materials (2023) 113'\n",
      "No chunks\n",
      "No chunks found\n",
      "Created new chunk (4b416): Atomic Interactions & Material Structure\n",
      "\n",
      "Adding: 'Incorporating sparse representation into a graph neural network Our proposed representation ﬁts into the graph neural networks (GNN) framework (described in subsection 'General message-passing graph neural networks for materials') as follows: 1. Graph nodes correspond to point defects, not to all the atoms in a structure; 2. Threshold for connecting nodes with edges is increased; 3. Node attributes contain the atomic number of the atom on this site in the pristine structure, and the atomic number of the atom in the structure with defect, with 0 for vacancies; 4. Edge attributes contain not only the Euclidean distance between point defects corresponding to the adjacent vertices, but also EOS index, EOS parity index, and Z-plane distance; 5. Input global state contains the chemical composition of the crystal as a vector of atomic numbers. Dataset We established a machine learning friendly 2D material defect database (2DMD) for the training and evaluation of models. The datasets contain structures with point defects for the most widely used 2D materials: MoS2, WSe2, hexagonal boron nitride (h-BN), GaSe, InSe, and black phosphorous (BP). The types of point defects are listed in Table 1. Supercell details are available in Supplementary Table 1 and example defect depictions in Supplementary Fig. 1. The datasets consist of two parts: low defect concentration of structured configurations and high defect concentration of random configurations. The low defect concentration part consists of 5933 MoS2 structures and 5933 WSe2 with all possible configurations in the 8x8 supercell for defect types depicted in Fig. 3. We used pymatgen to find the configurations, taking into account symmetry. The high-density dataset contains a sample of randomly generated substitution and vacancy defects for all the materials. For each total defect concentration 2.5%, 5%, 7.5%, 10%, and 12.5% 100 structures were generated, totaling 500 configurations for each material and 3000 in total. Overall, the dataset contains 14866 structures with 120 –192 atoms each. The datasets as designed could provide training data for AI methods both the fine features of quantum mechanic nature and those features associated with different elements, crystal structures, and defect concentrations.'\n",
      "55964\n",
      "Chunk Found (55964), adding to: Machine Learning for Defect Properties in 2D Materials\n",
      "\n",
      "Adding: 'We used Density Functional Theory (DFT) for computing the properties, the details are described in the subsection 'DFT computations'. We use two target variables for evaluating machine learning methods: defect formation energy per site and HOMO –LUMO gap. Formation energy, i.e., the energy required to create a defect is defined as Ef=ED/C0Epristine + X iniμi where ED is the total energy of the structure with defects, Epristine is the total energy of the pristine base material, ni is the number of the i-th atoms removed from (ni> 0) or added to (ni< 0) the supercell to/from a chemical reservoir, and μi is the chemical potential of the i-th element, computed with the same DFT settings. Finally, to make the results better comparable across examples with different numbers of defects, we normalize the formation energy by dividing it by the number of defect sites: E0f=Ef/Nd, where Nd is the number of defects in the structure. The electronic properties of defects are characterized by the energy spacing between the highest occupied states and the lowest unoccupied states. For the sake of representation, we adopt the terminologies of HOMO-LUMO gap for the separation of defect levels. Defects in some of the materials (BP, GaSe, InSe, h-BN) have unpaired electrons and hence non-zero magnetic momentum. Therefore, DFT was computed taking into account two channels of spin-up and spin-down bands, resulting in the majority and minority HOMO-LUMO gaps. For evaluating the machine learning algorithms, we took the minimum of those gaps as the target variable. Aggregate performance We split the dataset into 3 parts: train (60%), validation (20%), and test (20%). The split is random and stratified with respect to'\n"
     ]
    },
    {
     "name": "stdout",
     "output_type": "stream",
     "text": [
      "55964\n",
      "Chunk Found (55964), adding to: Machine Learning for Analyzing Defects in 2D Materials\n",
      "\n",
      "Adding: 'We split the dataset into 3 parts: train (60%), validation (20%), and test (20%). The split is random and stratiﬁed with respect to each base material. For each model, we use random search for hyperparameter optimization; we generate 50 hyperparameter conﬁgurations, train the model with each conﬁguration on the train part, and select the best-performing conﬁguration by evaluating quality on the validation part. The search spaces and optimal conﬁgurations are present in Supplementary Discussion 1. To obtain the ﬁnal result, we train each model with the optimal parameters on the combination of train and validation parts and evaluate the quality on the unseen test part. We do this 12 times to estimate the effects of the random initialization. We use unrelaxed structures as inputs and predict the energy and HOMO –LUMO gap after relaxation. To account for the material class imbalance, we use weighted mean absolute error (MAE) as the quality metric during both training and evaluation: MAE = PN i=1 |yi - yi|wi / PN i=1 wi, where wi is the weight assigned to each example; yi is the predicted value; yi is the true value; N is the number of the structures in the dataset. The purpose of using weights is to prevent the combined error value from being dominated by the low defect density dataset part, as it’s 4 times more numerous compared to the high defect density part.'\n",
      "55964\n",
      "Chunk Found (55964), adding to: Machine Learning for Defect Analysis in 2D Materials\n",
      "\n",
      "Adding: 'The weights are computed as follows: wpart = Ntotal / (Cparts * Npart), where wdataset is the weight associated with each example in a dataset part, Ntotal = 14866 is the total number of examples, Cparts = 8 is the total number of dataset parts (2 low-density and 6 high-density), Npart ∈ {500, 5933} is the number of examples in the part (500 for low defect density parts, 5933 for the high defect density parts). We compare the performance of our sparse representation combined with MEGNet to several baseline methods: MEGNet, SchNet, and GemNet on full representation, and CatBoost with matminer-generated features. The results are presented in Table 2. For energy prediction, our model achieves 3.7× less combined MAE compared to the best baseline, with 2.2× – 6.0× difference in individual dataset parts. For HOMO-LUMO gap, using sparse representation doesn’t lead to an increase in overall performance. The point defect types present in the 2DMD datasets include various substitutions and vacancies across different materials such as MoS2, WSe2, h-BN, GaSe, InSe, and BP.'\n",
      "None\n",
      "No chunks found\n",
      "Created new chunk (70199): Data Analysis & Model Comparison\n",
      "\n",
      "Adding: 'The prediction quality for MoS 2 and WSe 2 is improved by a factor of 1.3 –4.8, but this is outweighed by a factor of 1.06 –1.15 increase in MAE for the other materials. Coincidentally, the combined MAEs are similar, being averaged over the absolute error values. In terms of computation time, when trained on a Tesla V100 GPU, MegNet with sparse representation took 45 minutes; MegNet with full representation 105 minutes; GemNet 210 minutes; SchNet 100 minutes; CatBoost 0.5 minutes. Low memory footprint and GPU utilization allow to fit 4 simultaneous runs with sparse representation on the same GPU (16 GiB RAM) without losing speed, this is not possible for the GNNs running on full representation. Computing matminer features can't be done on a GPU, and costs 7.5 CPU core-minutes per structure and 1860 core-hours for the whole 2DMD dataset. Model configurations are listed in Supplementary Discussion 1. Quantum oscillations prediction. In addition to the overall performance, we specifically evaluate the models with respect to learning quantum oscillations. We use the MoS 2 with one Mo and one S vacancy as the test dataset, and the rest of the 2DMD dataset as the training dataset. No sample weighting is used. We train every model 12 times with both optimal hyperparameters found via random search and the default parameters. As seen in Table 2, sparse representation performs especially well on the low-density data. This behavior extends nicely to the 2-vacancy data, as shown in Fig. 4. The baseline approaches fail to meaningfully learn the dependence, while sparse representation succeeds perfectly, including the non-monotonous reduction at 5 Å. As shown in the Supplementary Discussion 3, the result is similar for untuned hyperparameters.'\n",
      "70199\n",
      "Chunk Found (70199), adding to: Data Analysis & Model Comparison\n",
      "\n",
      "Adding: 'The ablation study investigates how much each proposed improvement contributes to the final result. The performance values are presented in Table 3. To conduct the ablation study, we took the optimal configurations for MEGNet with sparse and full representations found by random search. We then took the configuration for the sparse representation turned off our enhancements one-by-one, trained and evaluated the resulting models. We use a value averaged over 12 experiments, same as in Table 2 to estimate training stability. For formation energy, just enabling the z-coordinate difference in sparse representation edges allows the Sparse-Z model to outperform the Full model everywhere except h-BN; adding pristine atom species (Sparse-Z-Were) as the node features contributes the most of the remaining gain. The most likely explanation for the importance of the pristine species for h-BN is Fig. 3 Defect types in low density dataset. The ‘Mo’ and two ‘S’ columns denote the type of site that is being perturbed either by substituting the listed element, or a vacancy (vac). ‘Num’ column contains the number of structures with defects of the type in the dataset. Finally, ‘Example’ column presents a structure with such defect. Note that the actual supercell size is 8 × 8, here we draw 4 × 4 window centred on the defects to conserve space. Drawings of example structures with 8 × 8 supercells are available in Supplementary Fig. 1.'\n",
      "70199\n",
      "Chunk Found (70199), adding to: Weights, Model Performance & Defects in 2D Materials\n",
      "\n",
      "Adding: 'that both atoms can be substituted to C, without this additional information, the model can ’t distinguish between B and N substitutions. Adding EOS improves expected prediction quality and stability by a small amount for the low-density datasets. For HOMO –LUMO gap, Sparse-Z-Were and Sparse-Z-Were-EOS perform similarly to Full in terms of the combined metric, outperform it by a factor of 4 for low-density data. EOS again improves prediction quality and stability by a small amount for the low-density datasets. 2D crystals present an incredible potential for the future of material design. Their two-dimensional nature makes them prone to chemical modification, which further increases their tunability for a variety of applications. However, the search space for possible configurations is vast. Thus, the ability to predict the properties of such crystals efficiently becomes a vital task. In this paper, we focus on predicting the properties of such crystals blended with defects, substitutions, and vacancies. State-of-the-art machine learning algorithms struggle to learn the properties of crystals’ defects accurately. We propose using a sparse representation combined with graph neural network architectures like MEGnet and show that it dramatically improves energy prediction quality. Our studies demonstrate that the prediction error drops 3.7 times compared to the nearest contender. Moreover, the representation is compatible with any machine learning algorithm based on point clouds. Computationally the training of a graph neural network using sparse representation takes at least 4x less memory and 8x less GPU operations compared to the full representation. Thus, we conclude that our approach gives a practical and sound way to explore a vast domain of possible crystal configurations confidently.'\n",
      "70199\n",
      "Chunk Found (70199), adding to: Weights & Model Performance in 2D Materials\n",
      "\n",
      "Adding: 'We see two principal directions for future work. Firstly, 3D materials. Sparse representation can be used as is for ordinary 3D crystals with point defects. Secondly, generalization to unseen materials. In our paper, we consider setup where each base material is present in the training dataset. Combining sparse defect representation with advanced base material representation opens up an enticing possibility for predicting properties of defect complexes in new materials, without having to prepare a training dataset with defects in those new materials. DFT computations Our calculations are based on density functional theory (DFT) using the PBE functional as implemented in the Vienna Ab Initio Simulation Package (VASP). The interaction between the valence electrons and ionic cores is described within the projector augmented (PAW) approach with a plane-wave energy cutoff of 500 eV. The initial crystal structures were obtained from the Material Project database, and the supercell sizes and the computational parameters for each material can be found in Supplementary Table 1. Since very large supercells are used for the calculation of defects, the Brillouin zone was sampled using Γ-point. Table 2. Performance of the different methods in terms of the mean absolute error (MAE). Formation energy per site MAE, meV; lower is better Material Density SchNet GemNet MEGNet (Full) CatBoost Sparse (MEGNet) Combined Both 631 ± 31 483 ± 91 158 ± 47 164 ± 5 43±5 BP High 2088 ± 72 1490 ± 429 198 ± 211 382 ± 30 80±10 GaSe High 245 ± 12 230 ± 41 107 ± 25 103 ± 4 48±7 InSe High 268 ± 19 247 ± 26 95 ± 27 137 ± 5 35±2 MoS 2 High 321 ± 100 535 ± 206 136 ± 22 136 ± 5 23±5 WSe 2 High 536 ± 123 575 ± 181 112 ± 33 162 ± 6 23±4 h-BN High 1442 ± 68 697 ± 315 496 ± 229 363 ± 17 127±16 MoS 2 Low 65 ± 5 44 ± 14 58 ± 11 12.6 ± 0.4 4±1 WSe 2 Low 85 ± 22 42 ± 9 65 ± 16 16.3 ± 0.8 6±1 HOMO –LUMO gap MAE, meV; lower is better Material Density SchNet GemNet MEGNet (Full) CatBoost Sparse (MEGNet) Combined Both 224 ± 111 166 ± 42 112±3 117 ±1 112 ±3 BP High 208 ± 20 176 ± 10 170±4 174 ±2 187 ± 9 GaSe High 309 ± 83 196 ± 11 178±8 173 ±4 194 ± 11'\n"
     ]
    },
    {
     "name": "stdout",
     "output_type": "stream",
     "text": [
      "70199\n",
      "Chunk Found (70199), adding to: Sparse Representation & Model Performance in 2D Materials\n",
      "\n",
      "Adding: 'Combined Both 224 ± 111 166 ± 42 112±3 117 ±1 112 ±3 BP High 208 ± 20 176 ± 10 170±4 174 ±2 187 ± 9 GaSe High 309 ± 83 196 ± 11 178±8 173 ±4 194 ± 11 InSe High 214 ± 69 178 ± 22 156±7 155 ±1 167 ±15 MoS 2 High 204 ± 121 174 ± 111 54 ± 4 71 ± 4 39±4 WSe 2 High 186 ± 177 268 ± 182 47 ± 3 106 ± 6 38±4 h-BN High 244 ± 24 227 ± 6 233 ± 4 208±3 260 ± 14 MoS 2 Low 187 ± 180 46 ± 42 30 ± 2 26.7 ± 0.8 5.7±0.2 WSe 2 Low 236 ± 224 64 ± 46 32 ± 5 18.3 ± 0.6 8.1±0.6 Sparse (MEGNet) is our representation implemented in the MEGNet model with all the improvements enabled. SchNet, GemNet, MEGNet (full) have full structures as their input with no additional features. CatBoost uses matminer featurizers. All the models were trained on the same dataset, containing stratified samples of all the parts of 2DMD dataset. The dataset splitting strategy is described in detail in subsection 'Aggregate performance'. Combined refers to the whole test sample, with the error contributions weighted according to equation (4). The individual material/density combinations refer to the subsets of the combined test dataset. Error indicates the standard deviation of the results obtained from 12 experiments with the same datasets and model parameters, but different random initialization. Bold font indicates the best results for each dataset, taking the uncertainty into account.'\n",
      "No chunks\n",
      "No chunks found\n",
      "Created new chunk (8a32c): Materials Data & Performance\n",
      "\n",
      "Adding: 'only Monkhorst-Pack grid for structural relaxation and denser grids for further electronic structure calculations. A vacuum space of atleast 15 Åwas used to avoid interaction between neighboring layers. In the structural energy minimization, the atomic coordi-nates are allowed to relax until the forces on all the atoms are lessthan 0.01 eV/ Å. The energy tolerance is 10 −6eV. For defect structures with unpaired electrons, we utilize standard collinearspin-polarized calculations with magnetic ions in a high-spin ferromagnetic initialization (the ion moments can of course relax to a low spin state during the ionic and electronic relaxations).Currently, we are focusing on basic properties of defects at thelevel of single-particle physics and did not include spin-orbitcoupling (SOC) and charged states calculations. Since the materialswe considered are normal nonmagnetic semiconductors and noneof them are strongly correlated systems, we did not employ theGGA+U method. A comparison of a few selected the computedvalues to the ones available in the literature is available in Supplementary Table 2.'\n",
      "No chunks\n",
      "No chunks found\n",
      "Created new chunk (887a8): Computational Methods in Materials Science\n",
      "\n",
      "Adding: 'General message-passing graph neural networks for materials There are many types of graph neural networks (GNN). In this section, we outline the message-passing neural network proposedby Battaglia et al. Those became rather popular for analyzing material structure11. To prepare a training sample, a graph is constructed out of a crystal con figuration: atoms become graph nodes, and graph edges connect nodes at distances less than a prede fined threshold. The connections respect periodic boundary conditions, i.e., for a signi ficantly large threshold, an edge can connect a node to its image in an adjacent supercell. Speci fic property vectors also characterize nodes and edges. A node contains the atomic Fig. 4 Predicted and DFT formation energy as a function of the distance between the defects for MoS 2with one Mo and one S vacancy. Error bars represent the standard deviation across 12 models trained from different random initialisation.N. Kazeev et al. Published in partnership with the Shanghai Institute of Ceramics of the Chinese Academy of Sciences npj Computational Materials (2023) 113'\n",
      "55964\n",
      "Chunk Found (55964), adding to: Machine Learning for Defect Properties in 2D Materials\n",
      "\n",
      "Adding: 'number, and an edge contains the Euclidean distance between the atoms it connects. A layer of a message-passing neural network transforms a graph into another graph with the same connectivity structure, changing only the nodes, edges, and global attributes. The layers are stacked to provide an expressive deep architecture. Let G=(V,E,u) be a crystal graph from the previous step, the nodes are represented by vectors V¼fv i g j V j i¼0, where vi2Rdv and ∣V∣ is the number of atoms in the supercell. The edge states are represented by vectors fekgjEj k¼0, where ek2Rde. Each edge has a sender node index vs∈{0,⋯,∣V∣−1}, a receiver node vr∈{0,⋯,∣V∣−1} and a vector of edge attributes. An edge is represented by a tuple ðvs k;vr k;ekÞ, where the superscripts s,r denote the sender and the receiver nodes respectively. The global state vector u2Rd represents the global state of the system. In the input graph, the global state is used to provide the algorithm with information about the system as a whole, in the case of our sparse representation, the composition of the base material. In the output graph, the global state contains the model predictions of the target variables. A message-passing layer is a mapping from G=(V,E,u) to G 0¼ðV0;E0;u0Þ, this mapping is based on update rules for nodes, edges, and global state. Edge update rule operates on the information from the sender vs k, receiver nodes vr k, edge itself ek, and the global state u. We can represent this rule by a function φe: e0 k¼ϕe(vs i;vr i;ek;u/C0/C1: (5). Node update rule aggregates the information from all the edges Evi¼fe0 k e0 k2neighbors ðviÞg connected to the node vi, the node itself vi and the global state u. We can represent this rule by function ϕv: ei¼1 jEvijX neighbors ðviÞe0 k (6) v0 i¼ϕvðei;vi;uÞ (7). Finally, the global state u is updated based on the aggregation of both nodes and edges alongside the global state itself and process them with ϕ u: uv¼1 jVjX jVj/C01 i¼0v0 i (8) ue¼1 jEjX jEj/C01 k¼0e0 k(9) u0¼ϕuðuv;ue;uÞ (10). The functions ϕv,ϕe,ϕu are fully-connected neural networks. The model is trained with ordinary backpropagation, minimizing the mean squared error (MSE) loss between the predicted values in u of the output graph, and the target values in the training dataset.'\n",
      "55964\n",
      "Chunk Found (55964), adding to: Machine Learning Approaches for Defect Properties in 2D Materials\n",
      "\n",
      "Adding: 'To make a complete comparison, we also evaluate a classic setup, where physics-based descriptors are combined with a classic machine learning algorithm for tabular data, CatBoost. The numerical features we extract from the crystal structures using the matminer package are outlined in Table 4. Table 3. Performance of various combinations of our proposed features. Formation energy per site MAE, meV; lower is better Material Density Full Sparse Sparse-Z Sparse-Z-Were Sparse-Z-Were-EOS Combined Both 158 ± 47 432 ± 29 404 ± 24 42±44 3 ±5 BP High 198 ± 211 116 ± 18 104 ± 16 75±98 0 ±10 GaSe High 107 ± 25 76 ± 9 66 ± 10 48±74 8 ±7 InSe High 95 ± 27 81 ± 8 69 ± 8 34±33 5 ±2 MoS 2 High 136 ± 22 223 ± 21 96 ± 15 23±42 3 ±5 WSe 2 High 112 ± 33 147 ± 27 63 ± 11 23±22 3 ±4 h-BN High 496 ± 229 2741 ± 202 2792 ± 184 123±14 127 ±16 MoS 2 Low 58 ± 11 37 ± 15 19 ± 4 5±24 ±1 WSe 2 Low 65 ± 16 30 ± 9 21 ± 5 7±26 ±1 HOMO –LUMO gap MAE, meV; lower is better Material Density Full Sparse Sparse-Z Sparse-Z-Were Sparse-Z-Were-EOS Combined Both 112±3 148 ± 5 121 ± 2 114±7 112 ±3 BP High 170±4 197 ± 10 192 ± 9 188±18 187 ± 9 GaSe High 178±8 237 ± 12 205 ± 16 207 ± 16 194 ± 11 InSe High 156±7 170 ± 8 172 ± 14 160±9 167 ±15 MoS 2 High 54 ± 4 110 ± 10 45±24 0 ±53 9 ±4 WSe 2 High 47 ± 3 173 ± 13 66 ± 4 39±63 8 ±4 h-BN High 233±4 265 ± 16 271 ± 11 267 ± 21 260 ± 14 MoS 2 Low 30 ± 2 12 ± 1 7.2 ± 0.4 6.0±0.75 .7±0.2 WSe 2 Low 32 ± 5 19 ± 1 11.7 ± 0.6 8.4±0.68 .1±0.6 Full—full structure is used as MEGNet input. Sparse—sparse structure used as MEGNet input; Sparse-Z adds z-coordinate differences in edges; Sparse-Z-Were.'\n",
      "70199\n",
      "Chunk Found (70199), adding to: Sparse Representation & Machine Learning in 2D Materials\n",
      "\n",
      "Adding: 'Full—full structure is used as MEGNet input. Sparse —sparse structure used as MEGNet input; Sparse-Z adds zcoordinate differences in edges; Sparse-Z-Were adds the atomic species of the pristine material on the defects site as a node feature; Sparse-Z-Were-EOS add EOS index and EOS parity as edge features. Bold font indicates the best results for each dataset, taking the uncertainty into account. N. Kazeev et al. 8 npj Computational Materials (2023) 113 Published in partnership with the Shanghai Institute of Ceramics of the Chinese Academy of Sciences'\n"
     ]
    },
    {
     "name": "stdout",
     "output_type": "stream",
     "text": [
      "70199\n",
      "Chunk Found (70199), adding to: Sparse Representation & Prediction of 2D Material Properties\n",
      "\n",
      "Adding: 'DATA AVAILABILITY The datasets analyzed during this study are available at https:// research.constructor.tech/p/2d-defects-prediction . CODE AVAILABILITY Code used to calculate the results of this study is available under Apache License 2.0 at https://github.com/HSE-LAMBDA/ai4material_design It can be run online at at https://research.constructor.tech/p/2d-defects-prediction . Received: 23 May 2022; Accepted: 9 June 2023; REFERENCES 1. Lin, Y.-C., Torsi, R., Geohegan, D. B., Robinson, J. A. & Xiao, K. Controllable thin- ﬁlm approaches for doping and alloying transition metal dichalcogenides mono-layers. Adv. Sci. 8, 2004249 (2021). 2. Novoselov, K. S. et al. Two-dimensional gas of massless dirac fermions in gra- phene. Nature 438, 197 –200 (2005). 3. Aharonovich, I., Englund, D. & Toth, M. Solid-state single-photon emitters. Nat. Photonics 10, pp.631 –641 (2016). 4. Frey, N. C., Akinwande, D., Jariwala, D. & Shenoy, V. B. Machine learning-enabled design of point defects in 2d materials for quantum and neuromorphic infor- mation processing. ACS Nano 14, 13406 –13417 (2020). 5. Chanussot, L. et al. Open catalyst 2020 (oc20) dataset and community challenges. ACS Catal. 11, 6059 –6072 (2021). 6. Wang, Z. et al. Novel 2d material from amqs-based defect engineering for ef ﬁ- cient and stable organic solar cells. 2D Mater. 6, 045017 (2019). 7. Bertoldo, F., Ali, S., Manti, S. & Thygesen, K. S. Quantum point defects in 2d materials-the qpod database. npj Comput. Mater. 8, 56 (2022). 8. Freysoldt, C. et al. First-principles calculations for point defects in solids. Rev. Mod. Phys. 86, 253 (2014). 9. Smith, J. S., Isayev, O. & Roitberg, A. E. Ani-1: an extensible neural network potential with dft accuracy at force ﬁeld computational cost. Chem. Sci. 8, 3192 –3203 (2017). 10. Stocker, S., Gasteiger, J., Becker, F., Günnemann, S. & Margraf, J. T. How robust are modern graph neural network potentials in long and hot molecular dynamics simulations? Mach. Learn.: Sci. Technol. 3, 045010 (2022). 11. Chen, C., Ye, W., Zuo, Y., Zheng, C. & Ong, S. P. Graph networks as a universal machine learning framework for molecules and crystals. Chem. Mater. 31, 3564 –3572 (2019). 12. Xie, T. & Grossman, J. C. Crystal graph convolutional neural networks for an accurate and interpretable prediction of material properties. Phys. Rev. Lett. 120, 145301 (2018). 13. Schütt, K. T., Sauceda, H. E., Kindermans, P.-J., Tkatchenko, A. & Müller, K.-R. Schnet –a deep learning architecture for molecules and materials. J. Chem. Phys. 148, 241722 (2018). 14. Gasteiger, J., Becker, F. & Günnemann, S. Gemnet: Universal directional graph neural networks for molecules. Adv. Neural Inf. Process. Syst. 34,6 7 9 0 –6802 (2021).15. Huang, P. et al. Unveiling the complex structure-property correlation of defects in 2d materials based on high throughput datasets. npj 2D Mater. Appl. 7 , 6 (2023). 16. Park, C. W. & Wolverton, C. Developing an improved crystal graph convolutional neural network framework for accelerated materials discovery. Phys. Rev. Mater. 4, 063801 (2020). 17. Klicpera, J., Groß, J. & Günnemann, S. Directional message passing for molecular graphs. Published at the International Conference on Learning Representations(ICLR) 2020. Preprint at https://arXiv.org/abs/2003.03123 (2020). 18. Shuaibi, M. et al. Rotation invariant graph neural networks using spin convolu- tions. Preprint at https://arXiv.org/abs/2106.09575 (2021). 19. Choudhary, K. & DeCost, B. Atomistic line graph neural network for improved materials property predictions. npj Comput. Mater. 7,1–8 (2021). 20. Ying, C. et al. Do transformers really perform badly for graph representation? Adv. Neural Inform. Process. Syst. 34, 28877 –28888 (2021). 21. Shi, Y. et al. Benchmarking graphormer on large-scale molecular modeling datasets. Preprint at https://arXiv.org/abs/2203.04810 (2022). 22. Sun, Q. & Chan, G. K.-L. Quantum embedding theories. Acc. Chem. Res. 49, 2705 –2712 (2016).'\n",
      "No chunks\n",
      "No chunks found\n",
      "Created new chunk (8949b): Data & Code Availability\n",
      "\n",
      "Adding: 'datasets. Preprint at https://arXiv.org/abs/2203.04810 (2022). 22. Sun, Q. & Chan, G. K.-L. Quantum embedding theories. Acc. Chem. Res. 49, 2705 –2712 (2016). 23. Huang, P. et al. Carbon and vacancy centers in hexagonal boron nitride. Phys. Rev. B106, 014107 (2022). 24. Deml, A. M., Holder, A. M., O ’Hayre, R. P., Musgrave, C. B. & Stevanovi ć, V. Intrinsic material properties dictating oxygen vacancy formation energetics in metal-oxides. J. Phys. Chem. Lett. 6, 1948 –1953 (2015). 25. Choudhary, K. & Sumpter, B. G. A deep-learning model for fast prediction of vacancy formation in diverse materials. Preprint at https://arXiv.org/abs/2205.08366 (2022). 26. Wexler, R. B., Gautam, G. S., Stechel, E. B. & Carter, E. A. Factors governing oxygen vacancy formation in oxide perovskites. J. Am. Chem. Soc. 143, 13212 –13227 (2021). 27. Witman, M., Goyal, A., Ogitsu, T., McDaniel, A. & Lany, S. Materials discovery for high-temperature, clean-energy applications using graph neural network models of vacancy defects and free-energy calculations. Preprint at https://chemrxiv.org/engage/chemrxiv/article-details/63b7181c1f24031e9a1789e0 . 28. Ward, L. et al. Matminer: An open source toolkit for materials data mining. Comput. Mater. Sci. 152, 60 –69 (2018). 29. Breiman, L. Random forests. Mach. Learn. 45, 5–32 (2001). 30. Manzoor, A. et al. Machine learning based methodology to predict point defect energies in multi-principal element alloys. Front. Mater. 8 https://www.frontiersin.org/article/10.3389/fmats.2021.673574 (2021). 31. Ostadhossein, A. et al. Reaxff reactive force-ﬁeld study of molybdenum disulﬁde (MoS2). J. Phys. Chem. Lett. 8, 631 –640 (2017). 32. Patra, T. K. et al. Defect dynamics in 2-d MoS2 probed by using machine learning, atomistic simulations, and high-resolution microscopy. ACS Nano 12, 8006 –8016 (2018). 33. Banik, S. et al. Learning with delayed rewards – A case study on inverse defect design in 2d materials. ACS Appl. Mater. Interfaces 13, 36455 –36464 (2021). 34. Shytov, A. V., Abanin, D. A. & Levitov, L. S. Long-range interaction between adatoms in graphene. Phys. Rev. Lett. 103, 016806 (2009). 35. Ong, S. P. et al. Python materials genomics (pymatgen): A robust, open-source python library for materials analysis. Comput. Mater. Sci. 68, 314 –319 (2013). 36. Prokhorenkova, L., Gusev, G., Vorobev, A., Dorogush, A. V. & Gulin, A. CatBoost: unbiased boosting with categorical features. Adv. Neural Inform. Process. Syst. 31, 6639 –6649 (2018). 37. Perdew, J. P., Burke, K. & Ernzerhof, M. Generalized gradient approximation made simple. Phys. Rev. Lett. 77, 3865 –3868 (1996). 38. Kresse, G. & Furthmüller, J. Efficient iterative schemes for ab initio total-energy calculations using a plane-wave basis set. Phys. Rev. B 54, 11169 (1996). 39. Kresse, G. & Furthmüller, J. Efficiency of ab-initio total energy calculations for metals and semiconductors using a plane-wave basis set. Comput. Mater. Sci. 6, 15–50 (1996). 40. Blöchl, P. E. Projector augmented-wave method. Phys. Rev. B 50, 17953 (1994).'\n",
      "No chunks\n",
      "No chunks found\n",
      "Created new chunk (f7452): Materials Science & Analysis\n",
      "\n",
      "Adding: 'Battaglia, P. W. et al. Relational inductive biases, deep learning, and graph networks. Preprint at https://research.google/pubs/pub47094/ (2018). 42. Kostenetskiy, P. S., Chulkevich, R. A. & Kozyrev, V. I. HPC resources of the higher school of economics. J. Phys.: Conf. Ser. 1740, 012050 (2021). 43. Krivovichev, S. V. Structural complexity of minerals: information storage and processing in the mineral world. Mineral. Mag. 77, 275 –326 (2013). 44. Ong, S. P. et al. Python Materials Genomics (pymatgen): A robust, open-source python library for materials analysis. Comput. Mater. Sci. 68, 314 –319 (2013). 45. Lam Pham, T. et al. Machine learning reveals orbital interaction in materials. Sci. Technol. Adv. Mater. 18, 756 –765 (2017). 46. Choudhary, K., DeCost, B. & Tavazza, F. Machine learning with force-ﬁeld-inspired descriptors for materials: Fast screening and mapping energy landscape. Phys.'\n"
     ]
    },
    {
     "name": "stdout",
     "output_type": "stream",
     "text": [
      "No chunks\n",
      "No chunks found\n",
      "Created new chunk (dd8cf): Machine Learning in Materials Science\n",
      "\n",
      "Adding: '46. Choudhary, K., DeCost, B. & Tavazza, F. Machine learning with force- ﬁeld-inspired descriptors for materials: Fast screening and mapping energy landscape. Phys. Rev. Mater. 2, 083801 (2018). Table 4. Matminer feature groups used for a defect con ﬁguration description. Features Description Density Structure density, volume per atom, maximum packing fraction and maximum packing ef ﬁciency Structural Complexity43 Shannon information entropy of a structure XRD Powder Pattern44 Powder diffraction of a structure Orbital Field Matrix45 Representation based on the valence shell electrons of neighboring atoms JarvisCFID46 Pairwise radial, nearest neighbor, bond-angle, dihedral-angle and core-charge distributions N. Kazeev et al. 9 Published in partnership with the Shanghai Institute of Ceramics of the Chinese Academy of Sciences npj Computational Materials (2023) 113'\n",
      "No chunks\n",
      "No chunks found\n",
      "Created new chunk (fe3eb): Machine Learning in Materials Science\n",
      "\n",
      "Adding: 'This research/project is supported by the Ministry of Education, Singapore, under its Research Centre of Excellence award to the Institute for Functional Intelligent Materials (I-FIM, project No. EDUNC-33-18-279-V12). K.S.N. is grateful to the Royal Society (UK, grant number RSRP\\R\\190000) for support. This research was supported in part through computational resources of HPC facilities at HSE University. The article was prepared within the framework of the project 'Mirror Laboratories' HSE University, RF. This research has been financially supported by The Analytical Center for the Government of the Russian Federation (Agreement No. 70-2021-00143 dd. 01.11.2021, IGK 000000D730321P5Q0002). P.H. acknowledges the supports of the National Key Research and Development Program (2021YFB3802400) and the National Natural Science Foundation (52161037) of China. The computational work for this article was performed on resources at the National Supercomputing Centre of Singapore (NSCC) and NUS HPC. The research used computational resources provided by Constructor AG. The acknowledgements highlight the various funding sources and computational resources that facilitated the research, indicating a collaborative effort across institutions and countries.'\n",
      "No chunks\n",
      "No chunks found\n",
      "Created new chunk (62c80): Funding & Resources\n",
      "\n",
      "Adding: 'N.K. conceived the sparse representation and conducted computational experiments with sparse representation, CatBoost, and Schnet; generated structures with high defect density. A.R.A.M. implemented EOS, conducted computational experiments with sparse representation using EOS, MEGNet, and GemNet architectures and is considered a 'co-first author'. I.R. implemented MEGNet in pytorch, and conducted computational experiments with it. MF&RL jointly generated the low-density structures with defects and performed initial computational experiments using CatBoost + matminer and SchNet. A.T. contributed to discussion. A.H.C.N. proposed EOS. P.H. did the DFT computations. K.S.N. and A.U. jointly supervised the work. All authors contributed to the debate and analyses of the data, the writing of the paper, and approved the final version. This section details the contributions of each author, emphasizing the collaborative nature of the research and the specific roles played by each individual in the project.'\n",
      "No chunks\n",
      "No chunks found\n",
      "Created new chunk (9cd93): Author Contributions\n",
      "\n",
      "Adding: 'The authors declare no competing interests. Supplementary information The online version contains supplementary material available at https://doi.org/10.1038/s41524-023-01062-z. Correspondence and requests for materials should be addressed to Kostya S. Novoselov, Pengru Huang or Andrey Ustyuzhanin. Reprints and permission information is available at http://www.nature.com/reprints. Publisher's note Springer Nature remains neutral with regard to jurisdictional claims in published maps and institutional affiliations. Open Access This article is licensed under a Creative Commons Attribution 4.0 International License, which permits use, sharing, adaptation, distribution and reproduction in any medium or format, as long as you give appropriate credit to the original author(s) and the source, provide a link to the Creative Commons license, and indicate if changes were made. The images or other third party material in this article are included in the article's Creative Commons license, unless indicated otherwise in a credit line to the material. If material is not included in the article's Creative Commons license and your intended use is not permitted by statutory regulation or exceeds the permitted use, you will need to obtain permission directly from the copyright holder. To view a copy of this license, visit http://creativecommons.org/licenses/by/4.0/. This section provides information on the authors' declarations regarding competing interests, supplementary materials, correspondence, and licensing, ensuring transparency and accessibility of the research.'\n",
      "No chunks\n",
      "No chunks found\n",
      "Created new chunk (7928e): Research Article Transparency\n",
      "\n",
      "Adding: 'Modi ﬁcation of physical properties of materials and design of materials with on-demand characteristics is at the heart of modern technology. Rare application relies on pure materials —most devices and technologies require careful design of materials properties through alloying, creating heterostructures of composites, or controllable introduction of defects. At the same time, such designer materials are notoriously dif ﬁcult to model. Thus, it is very tempting to apply machine learning methods to such systems. Unfortunately, there is only a handful of machine learning-friendly material databases available these days. We develop a platform for easy implementation of machine learning techniques to materials design and populate it with datasets on pristine and defected materials. Here we introduce the 2D Material Defect (2DMD) datasets that include defect properties of represented 2D materials such as MoS2, WSe2, hBN, GaSe, InSe, and black phosphorous, calculated using DFT. Our study provides a data-driven physical understanding of complex behaviors of defect properties in 2D materials, holding promise for a guide to the development of efﬁcient machine learning models. In addition, with the increasing enrollment of datasets, our database could provide a platform for designing materials with predetermined properties.'\n",
      "None\n",
      "No chunks found\n",
      "Created new chunk (bd51c): Machine Learning in Materials Science\n",
      "\n",
      "Adding: 'The intelligent design of materials with predetermined properties is the central agenda for modern materials science. To this end, multiple materials genome projects have been established. Two-dimensional (2D) materials is a very important subset of our overall material library, and, thus, it is not surprising, that many genome projects have been associated exactly with 2D crystals. Still, one of the most exciting opportunities provided by 2D materials is the possibility to controllably alter their properties through chemical modi ﬁcation —materials without bulk are strongly susceptible to the introduction of foreign atoms either at the surface as adatoms or into the plane of the crystal as a substitution. Still, up to now, no database is available which would deal with the modi ﬁcation of the properties of 2D crystals by the introduction of defects. Here we present our database for 2D materials and defects in such crystals. We comprehensively analyze the electronic properties of defects in MoS2 material. Our database enables an analysis of the defect structures using machine learning methods (which will be described elsewhere). Defects play a very important role in terms of modi ﬁcation of the mechanical, thermal, electronic, optical, and other properties of solids. Thus, individual defects can act as single-photon emitters, qubits, be used for single atom catalysis, and further used for many other applications. Individual defects have been demonstrated to be even more important for the modi ﬁcation of properties of 2D materials. For instance, it has been shown that localized defects embed in transition metal dichalcogenides (TMDs) and hexagonal boron nitride (hBN) exhibit single-photon emission (SPE) at cryogenic and room temperatures, which hold advantages over the 3D counterpart of NV centers in diamond. Controllable defect engineering for the purpose of the modi ﬁcation of material properties requires knowledge of the structure-property relation of defects, which is a formidable task considering the vast space of possible host materials and defect conﬁgurations. Even though a single defect structure can be calculated with state-of-the-art density functional theory (DFT).'\n"
     ]
    },
    {
     "name": "stdout",
     "output_type": "stream",
     "text": [
      "None\n",
      "No chunks found\n",
      "Created new chunk (c1463): 2D Materials & Defects\n",
      "\n",
      "Adding: 'calculated with state-of-the-art density functional theory (DFT) methods in modern high-performance computing infrastructures within hours, such computations are not scalable. The properties of each new defect has to be calculated from scratch. The state-of-the-art research paradigm integrated of high throughput simulations, data science, and machine learning is appealing to accelerate material exploration. In this spirit, a large number of computational databases such as Material Projects, the Open Quantum Materials Database (OQMD), the Automatic Flow for Materials Discovery (AFLOWLIB), and the Novel Materials Discovery (NOMAD) Laboratory have been established. Various machine learning (ML), especially graph neural network-based methods for material science such as MEGNet, CGNN, SchNet, GemNet, etc., have been proposed for property prediction. The increasing repositories of computational datasets and the development of machine learning methods together have led to an exploding growth of in-silico material exploration in the areas of 2D materials, catalysts, batteries, photovoltaics, etc.'\n",
      "bd51c\n",
      "Chunk Found (bd51c), adding to: Machine Learning in Materials Science\n",
      "\n",
      "Adding: 'Still, great difficulties arise when trying to apply machine learning to predict properties of defects, which may be due to the lack of defect datasets and the challenge in the prediction of quantum states. Also, there is a great deal of uncertainty when the machine learning of 'black box' nature encounters the nonlinear quantum properties in defects. Due to these reasons, there have been few studies of machine learning applied to defects in solids. The reported studies mainly focus on the prediction of the key.'\n",
      "bd51c\n",
      "Chunk Found (bd51c), adding to: Machine Learning in Materials Design and Defect Analysis\n",
      "\n",
      "Adding: 'properties of point defects in 2D materials, predictions of vacancy migration and formation energies in alloys, and defect dynamics in 2D TMDCs19–21. Even though great efforts have been devoted to the screening and creation of a database of 2D materials15,16,22, such effort on defect properties is limited. Only recently, Fabian et.al. reported a quantum point defect database with a size of 503 defect structures in 82 different 2D materials 23. The study is comprehensive and includes a wide range of thermodynamic and electronic properties. However, according to our ongoing exploration of machine learning defect prediction, the size and the density of data is still limited, thus hindering efficient prediction with AI methods. A comprehensive dataset of defect properties is necessary not only for the engineering of imperfections in solids towards emerging technologies, but also for the perfection of machine learning models appropriate to defect prediction. In this paper, we present datasets of defect properties in represented 2D materials (2DMD) created by high throughput DFT calculations. The property distribution in the datasets can be visualized through a binary property map. Interestingly, the bandgap vs. formation energy plot shows a nontrivial correlation which is attributed to the hierarchical impact of defect components on the host crystal. Such property maps could be seen as fingerprints of 2D crystals and defects introduced. The interaction between defects decay with distance in an oscillatory manner due to the contributions of quantum phenomena. Such quantum oscillations are understood via a simplified quantum mechanics model and visualized by the wave function resonance of defect states. Our study provides a data-driven physical understanding of the electronic properties of defects in 2D materials, which would help the better design of machine learning models toward accurate and efficient prediction. Moreover, our datasets could serve as a platform for competitive model training, and with the enrollments of more and more datasets, scalable defect prediction would be expected.'\n",
      "bd51c\n",
      "Chunk Found (bd51c), adding to: Machine Learning in Materials Design and Defect Properties\n",
      "\n",
      "Adding: 'Defect space and the structure of the 2DMD datasets The defect space in 2D materials is mainly attributed to three aspects of variables, i.e. the 2D material hosts, the defect components, and the defect configurations (Fig. 1a). There are hundreds of existing 2D materials and even more are expected to be synthesized in the future. The components of defects are limited to a few types, such as intrinsic vacancies, impurity substitutions, and antisites. However, the configuration space for defects is in finite. These three variables together contribute to a vast defect space for 2D materials, which is impractical for thorough experimental or even computational investigations. Considering the extremely large space of defects, probably any practical datasets should be termed as 'small data'. Consequently, to train machine learning methods for efficient prediction of defect properties, the structure of the datasets should be carefully designed. Our datasets are established in two groups, including one structured and the other dispersive (Fig. 1b). The structured datasets contain fine-tune features of defects correlated with the periodic nature of crystal lattices and the quantum mechanical nature of defect properties. Herein, as one example, we generate and compute a structured dataset of TMDCs by screening all possible configurations in selected single, double, and triple-site defects in MoS2 and WSe2. The dataset includes properties of simple defects of different configurations and inter-defect separations, and provides very detailed information for machine learning. This dataset contains dense data and occupies only a small subspace of the whole defect space. The other group of dispersive datasets aims to spread data in the large defect space. This is done here by calculating the properties of a wide concentration range of defects for a wide range of 2D materials.'\n",
      "None\n",
      "No chunks found\n",
      "Created new chunk (7ce52): Defect Space in 2D Materials\n",
      "\n",
      "Adding: 'dispersive datasets aims to spread data in the large defect space. This is done here by calculating the properties of a wide concentration range of defects for a wide range of 2D materials. So far, we have finished the defect properties of a few popular materials, including MoS 2, WeSe 2, hBN, GaSe, InSe, and black phosphorus. Such a random sampling strategy has a disadvantage in the sparsity of data. However, it allows us to cover the diverse phase space of defect properties and facilitates the design of universal, transferable machine learning algorithms such as active learning. The distribution and the correlation of defect properties. The structured dataset is composed of DFT-computed properties of 5933 defect configurations for MoS 2 and another 5933 configurations for WSe 2. The compositions, numbers, atomic structures, and the variation range of properties of each type of defect for MoS 2 are summarized in Table 1. The dispersive dataset includes computational properties of defects in a wide range of concentrations for representative 2D materials such as MoS 2, WSe 2, hBN, GaSe, InSe, and black phosphorus. The datasets, together with the output data such as relaxed atomic structures, density of states (DOS), and band structures in the DFT PBE levels, are available for further studies and machine learning training.'\n",
      "7ce52\n",
      "Chunk Found (7ce52), adding to: Defect Space in 2D Materials\n",
      "\n",
      "Adding: 'The variation range in the formation energy provides knowledge about the amplitude of the interaction between the defects for each defect type. The formation energy for V3 defects composed of one Mo vacancy and two S vacancies span the Fig. 1 Machine learning-friendly 2D material defect (2DMD) datasets. a The space of defects in 2D materials and b the structure of the datasets for machine learning of defect properties. P. Huang et al. npj 2D Materials and Applications (2023) 6 Published in partnership with FCT NOVA with the support of E-MRS1234567890():,;'\n",
      "7ce52\n",
      "Chunk Found (7ce52), adding to: Defect Space and Datasets in 2D Materials\n",
      "\n",
      "Adding: 'Table 1. The composition, number, structure, and variation range of the formation energy, HOMO, and LUMO for each type of defect created in the 8 × 8 supercell of MoS 2. Type Defect site Count Variation range Structure Mo S S Energy (eV) HOMO (meV) LUMO (meV) X1 vac 1 X2 vac vac 19 0.113 105 358 X3 Se 1 X4 Se Se 19 0.012 <10 <10 X5 vac Se 29 0.106 <10 <10 V1 vac 1 V2 vac vac 15 1.992 59 124 V3 vac vac vac 743 4.121 328 450 P. Huang et al. 3 Published in partnership with FCT NOVA with the support of E-MRS npj 2D Materials and Applications (2023) 6'\n"
     ]
    },
    {
     "name": "stdout",
     "output_type": "stream",
     "text": [
      "None\n",
      "No chunks found\n",
      "Created new chunk (e58e3): Material Properties\n",
      "\n",
      "Adding: 'Table 1 continued Type Defect site Count Variation range Structure Mo S S Energy (eV) HOMO (meV) LUMO (meV) V4 vac Se 15 0.197 129 25 V5 vac Se Se 743 0.430 245 73 V6 vac vac Se 1415 2.282 203 236 S1 W 1 S2 W vac 15 0.042 15 24 S3 W vac vac 743 0.193 108 394 S4 W Se 15 0.028 <10 <10 S5 W Se Se 743 0.079 <10 <10 P. Huang et al. 4 npj 2D Materials and Applications (2023) 6 Published in partnership with FCT NOVA with the support of E-MRS'\n",
      "e58e3\n",
      "Chunk Found (e58e3), adding to: Material Properties\n",
      "\n",
      "Adding: 'widest range of ~4.1 eV, whereas defects that included one Mo vacancy and only one S vacancy varies within a moderate range of~2.2 eV. The variation in the formation energy of defects containing two S vacancies is only 0.1 eV. The variation of the formation energy of defects composed mainly by substitution atoms is only a few tens of meV. Such a spread of energies for different types of defects seems logical. The creation of a Mo vacancy breaks six Mo-S bonds and induces the most significant lattice imperfection. The large formation energy of Mo vacancy of 7.12 eV is needed to be paid for such imperfection. A creation of S vacancy requires the breaking of only three Mo-S bonds and thus produces a moderate disturbance to the lattice and requires a formation energy of 2.65 eV. Due to the similar outer electron configuration between W and Mo, and between Se and S, substitution atoms have almost negligible change in the host lattice and electronic structures. The formation energies for W substituted Mo, and Se substituted S, are 0.167 and 0.279 eV, respectively. The impurity orbitals of both of these two substitutions are merged into the valence band or conduction band of MoS2 and do not show any defect level in the band gap.'\n",
      "e58e3\n",
      "Chunk Found (e58e3), adding to: Defect Characteristics in MoS2\n",
      "\n",
      "Adding: 'The variation ranges of the frontier defect orbitals (HOMO and LUMO) for each type of defect provide knowledge about to what extend we can manipulate the defects to achieve desired properties. This information is of great importance for such applications as quantum computing and quantum telecommunications (single-photon emitters), catalysis, and many others. Vacancy defects create deep-lying levels that span a range of 0.1–0.4 eV inside the band gap. At the same time, substitutional defects create defect states inside the valence or conduction bands without significant change to the band edges —of the order of 10 meV. To visualize the distribution of the whole dataset in the property space, we show the binary property, i.e., band gap vs formation energy plot in Fig. 2. Most interestingly, as shown by the guideline in Fig. 2a, there is an overall trend for the whole dataset that the band gap of defect structures decreases with increasing formation energy and finally converge in groups near 0.3 eV. In other words, to achieve the deep defects levels inside the band gap (which reduces the gap) —large formation energy has to be paid. This provides a guideline for the manipulation of defects in TMDCs in order to achieve the desired properties. Thus, W and Se substitutions produce defect levels without a significant alteration of the electronic structure. On the other hand, shallow gap states can be introduced by single or double S vacancies. Formation of deep levels requires the presence of Mo vacancy.'\n",
      "e58e3\n",
      "Chunk Found (e58e3), adding to: Defect Formation Energies in MoS2\n",
      "\n",
      "Adding: 'The distribution of defects in the binary property plot can be understood by the hierarchy impact of defects on the host MoS2. For the substitution-only defects (X3, X4, S1, S4, and S5), since the disturbance on the lattice is negligible (<10 meV) —the formation energies are low. And because no gap state is introduced —the band gap of the substitution defects retains the separation of band edges of MoS2 of 1.81 eV. For defects composed of one S vacancy (X1, S2, and S6), the band gaps concentrate at ~1.1 eV and the formation energies lie near ~3.0 eV. For defects composed of two vacancies (X2 and S3), the formation energy is approximately double that of a single S vacancy ~5.5 eV. Interestingly, even though the formation energy has a very low span, the band gaps of X2 and S3 span in a wide range of 0.6 eV. This indicates that, by controlling the distance between S vacancies, the frontier orbitals of defects become highly tunable. For defects that include Mo sites (V1, V2, V3, V4, V5, and V6), the band gaps are mainly within 0.5 eV. The formation energy span over 7.0 –13.0 eV, depending on the number of vacancies.'\n",
      "e58e3\n",
      "Chunk Found (e58e3), adding to: Defect Energies and Electronic Properties in MoS2\n",
      "\n",
      "Adding: 'The property distribution of defects as a fingerprint As shown in Fig. 2b, the trend in the property map of simple defects persists for the high-density defects of MoS 2. Considering that in the high-density defect dataset, there are widespread configurations and concentrations of defects, the nontrivial distribution of properties is intrinsic and could serve as a fingerprint for defects in 2D materials. Indeed, the property distribution maps for MoS 2, WSe 2, hBN, GaSe, InSe, and black phosphorus show distinct characteristics for different 2D material types. That is, the maps for MoS 2 and WSe 2, or GaSe and InSe, share similar features, while largely different between different crystals. This is shown in the supplemental materials (Supplementary Fig. 2). Defects with unpaired electrons are of special interest for magneto-optical and information technology applications. Among our datasets, no magnetic defects are found in MoS 2 and WSe 2, while such defects could be created in GaSe, InSe, BP, and C-doped hBN. The exchange splitting of states results in asymmetric distribution of band gap for the majority and minority states. Interestingly, there seems to exist a nontrivial trend of the larger energy distribution of the majority band gap. This is especially conclusive for defects in BP and C-doped hBN. Vacancy defects in GaSe, InSe, and BP intrinsically possess local magnetic moments due to the odd number of valence electrons of Ga, In, and P atoms. The introduction of a C impurity at both the B and N sites creates an unpaired electron due to the valence electron difference. The total spin of the carbon-impurity complexes in hBN is governed by the difference between the carbon substitutions at the two sublattices according to Lieb's theorem.'\n",
      "bd51c\n",
      "Chunk Found (bd51c), adding to: Machine Learning for 2D Materials and Defect Prediction\n",
      "\n",
      "Adding: 'For this reason, the magnetic moments in C-doped hBN could reach a very large number if the carbon substitutions in the two sublattices are highly imbalanced (Supplementary Fig. 3). Carbon substitutions in hBN are particularly interesting for the area of Table 1 continued Type Defect site Count Variation range Structure Mo S S Energy (eV) HOMO (meV) LUMO (meV) S6 W vac Se 1415 0.167 <10 <10 The color code for atomic structures has Mo in purple, S in yellow, W in red, Se in green, and S vacancy in white. The symbols X, V, and S represent defect types of (1) S sites only, (2) one Mo vacancy plus S sites, and (3) one W substitution plus S sites. P. Huang et al. Published in partnership with FCT NOVA with the support of E-MRS npj 2D Materials and Applications (2023) 6.'\n",
      "No chunks\n",
      "No chunks found\n",
      "Created new chunk (12629): Carbon Doping in Materials\n",
      "\n",
      "Adding: 'single-photon emitters aiming at the identi ﬁcation and engineer- ing of candidate emitting centers in 2D hosts instead of that in bulk materials such as the NV center in diamond27,28. The quantum ﬂuctuation of defect properties Complex defects in TMDCs demonstrate nontrivial quantum properties. Thus, for V2 defects (one Mo vacancy and one S vacancy), the interaction energy (calculated as the formation energy difference between the defect complex and the sum of the defect components), as well as HOMO and LUMO, exhibit oscillatory behavior as a function of the separation between the vacancies, Fig. 3. The oscillatory behavior is most obvious for the small separation between the vacancies. The local minima in the interaction energy correspond to the con ﬁgurations when the S vacancies are at the 1st, 3rd, 6th, and 10th nearest S sites to the Mo vacancy. These are exactly the triangular number series S n¼n/C1ðnþ1Þ=2. Interestingly, the sites which exhibit local minima of the formation energy lie exactly along the zigzag crystalline orientation, as shown in the inset of Fig. 3a.'\n"
     ]
    },
    {
     "name": "stdout",
     "output_type": "stream",
     "text": [
      "No chunks\n",
      "No chunks found\n",
      "Created new chunk (2f75b): Quantum Properties of Materials\n",
      "\n",
      "Adding: 'In metals, the introduction of impurities generally results in Friedel oscillations 29. Due to the strong screening of the surrounding electrons, the long-range tail of a charged impurity potential is suppressed, resulting in a power law decay of the defect disturbance30,31. In insulators, however, when the wave function is strongly localized on the defect site —the lattice structure plays a signi ﬁcant role in the defect properties1,32,33. In crystals with a honeycomb structure, the interaction between defects is strongly in ﬂuenced by the presence of the two sublattices. Thus, it has been predicted and con ﬁrmed both by theory and experiment that the coupling between hydrogen atoms on the surfaces of graphene depends on the sublattices occupied 34,35. To understand the defect interaction in TMDCs, we employ a simpli ﬁed two-orbital picture. We propose that there are two localized defect orbitals ϕA and ϕB at the lattice sites A and B of the crystal, each was occupied by one electron. In case the two defects are largely separated, the correlation between the two is negligible. Each single defect wave function ful ﬁlls the single-particle Schrödinger equation T 1/C0V1 A/C0/C1 ϕA¼E1ϕA (2) T2/C0V2 B/C0/C1 ϕA¼E2ϕB (3) Fig. 2 The binary property (band gap vs. formation energy) map of defects in MoS 2. The property maps for a simple defects and b high-density defects. The band gap is calculated as the separation between HOMO and LUMO. The data for each defect type are color-coded and the dashed line is a guide for the eyes in ( a).'\n",
      "None\n",
      "No chunks found\n",
      "Created new chunk (b8c41): Materials Science\n",
      "\n",
      "Adding: 'where Tis the kinetic energy of the electron, V1 Aand V2 Brepresent the Coulomb potential energy at the A and B sites contributed together by the atomic nuclei and band electrons. As the two defects occupied neighboring lattice sites, the coupling of the twoshould be taken into account, and the two-electron wave functiontakes the form: Φr 1;r2 ðÞ ¼1ﬃﬃﬃﬃﬃﬃﬃﬃﬃﬃﬃﬃﬃﬃﬃﬃﬃﬃ 21 ± S2 ðÞp ϕAr1ðÞϕBr2ðÞ±ϕAr2ðÞϕBr1ðÞ ½/C138 (4) Where S¼ϕAjϕB hi is the overlap integral of the two orbitals. The positive and negative signs correspond to the bonding and anti-bonding states, respectively. The Hamiltonian of the defectcomplex is: H¼T 1þT2/C0V1 A/C0V2 B/C0/C1 /C0V1 B/C0V2 Aþe2 4πε0ε/C1r12þe2 4πε0ε/C1RAB (5) In addition to the additive single-defect terms in the parentheses, the Hamiltonian includes the Coulom b potential originating from the neighboring defect sites (represented by V1 Aand V2 B)a sw e lla s electron-electron and core-core electrostatic interactions in thescreening environment of band electrons (described by the dielectric constant ε). In the last two terms, r 12is the distance of the two electrons and RABis the separation of the two defect sites. The energy of the bonded EþðÞ and anti-bonded E/C0ðÞ state can be expressed as: E±¼Φr1;r2 ðÞ HjjΦr1;r2 ð hi ¼E1þE2 2þK±Jﬃﬃﬃﬃﬃﬃﬃﬃﬃﬃﬃ ﬃ 1±S2p (6) Where Kand Jis the direct Coulomb and exchange integrals, which take into account the electron-core attraction, electron-electron repulsion, and core-core repulsion of the two defects 32.'\n",
      "No chunks\n",
      "No chunks found\n",
      "Created new chunk (a81d7): Energy Interactions in Electrons\n",
      "\n",
      "Adding: 'The stabilization of the con ﬁguration is governed by the competition between the exchange and the direct Coulomb interactions of the two-electron state. According to the de ﬁnition in Eq. ( 2), the interaction energy is essentially the stabilization energy, originating mainly from the exchange interaction of the two defect orbitals: Eint¼2KþJ ðÞﬃﬃﬃﬃﬃﬃﬃﬃﬃﬃﬃﬃﬃ 1þS2p (7) Based on the above picture, we can understand the oscillations in the interaction energy of Fig. 3in detail. Firstly, we check the oscillation of the defect wave function and the displacement ofthe electric charge of surrounding atoms disturbed by the defectstates. A Mo vacancy introduces six dangling bonds, which result in several energy levels inside the gap (Fig. 4a). These states inside the gap are highly localized at the vacancy center and decaywithin a few lattice spaces. As shown in Fig. 4b, due to the resonance of the electron wave and the honeycomb lattice, the wave function of Mo vacancy has nodes at the Mo sites, where itchanges sign 36. This means that this wave function demonstrates oscillatory behavior with maxima around S sites and zeros at Mo sites (Fig. 4b). Likewise, the wave function of an S vacancy demonstrates similar oscillatory behavior, just with the maxima ofthe wave function at Mo sites (Fig. 4c). This trend is consistent with theﬂuctuation in the interaction energy of the V2 defects shown in Fig. 3a. The wave function oscillation of the defect states is reﬂected in the atomic charges of neighboring atoms. As shown in Fig.4d, the atomic charge of S atoms around the Mo vacancy was plotted as a function of distance to the vacancy, showing a similar ﬂuctuation trend in the interaction energy of Fig. 3a. In a pristine MoS 2structure, the atomic charge of S gained from Mo atoms was calculated to be ~0.6 electrons. It is calculated to be less than 0.5 electrons for S atoms nearest to the Mo vacancy due to thebreaking of the Mo-S bonds. The bond breaking around thevacancy also impacts the atomic charges of the other S atoms due to the wave function ﬂuctuation of defect states. However, such impact decays rapidly due to screening.'\n",
      "None\n",
      "No chunks found\n",
      "Created new chunk (24506): Material Properties\n",
      "\n",
      "Adding: 'The coupling of the two vacancies is highly site dependent. As the two vacancies occupy neighboring lattice sites, the two stateshybridize according to the phase and amplitude of their overlapping wave functions. Two states hybridize strongly if their'\n",
      "No chunks\n",
      "No chunks found\n",
      "Created new chunk (da121): Lattice Structures & Vacancies\n",
      "\n",
      "Adding: 'the two vacancies occupy neighboring lattice sites, the two stateshybridize according to the phase and amplitude of their overlapping wave functions. Two states hybridize strongly if their wave functions overlap in-phase, otherwise, their coupling is weak(like in the case if their wave functions do not overlap or overlapout of phase). This is evident according to the wave functions of the HOMO for the four V2 defects, with the S vacancy occupying theﬁrst, second, third, and fourth nearest lattice site to the Mo vacancy (Fig. 4e–h). For the 1st and the third con ﬁgurations, one vacancy occupies the lattice sites where the wave function of the other reaches a peak value, the dangling bond states hybridize strongly, which results in a large exchange interaction andstabilization energy. Some of the dangling states of the two vacancies hybridize and lie at the lower energy, leaving other dangling states unaffected. As a result, the HOMO wave function isconstructed from the unaffected dangling states and shows somefeatures of the pristine Mo vacancy (Fig. 4e, g). For the second con ﬁgurations, even though the separation between the two vacancies is smaller than that of the third con ﬁguration, the two vacancies occupy lattice sites where there is a knot of their wavefunctions. The wave functions of the HOMO retain that of the isolated Mo and S vacancies (Fig. 4f). For defect con ﬁgurations with a distance larger than the fourth nearest sites, either theseparation is too large or the wave function are out of phase —the hybridization can be neglected (Fig. 4g). According to these wave function plots and the quantum mechanic origin of thestabilization energy, the ﬂuctuation in the interaction energy in Fig.3can be understood.'\n",
      "da121\n",
      "Chunk Found (da121), adding to: Lattice Structures & Vacancies\n",
      "\n",
      "Adding: 'The defect levels in the band gap ﬂuctuate accordingly with the coupling strength of defect states. This can be seen from theopposite variation trend of the LUMO compared with that ofinteraction energy (Fig. 3b). The variation in the coupling strength of defect states gives rise to diverse locality and af ﬁnity of defect electrons, resulting in tunable activity for alien species. On theother hand, a wide range of resonant transitions between defectlevels could be achieved owing to different symmetry andseparation of defect states. The same rationale can be used tostructure the results on the triple defect in which additionalcomplexities involve due to the participation of the third defectsites. These data are presented in Supplementary Fig. 4.'\n"
     ]
    },
    {
     "name": "stdout",
     "output_type": "stream",
     "text": [
      "None\n",
      "No chunks found\n",
      "Created new chunk (ec198): Material Properties\n",
      "\n",
      "Adding: 'We develop a database of machine learning-friendly datasets on the physical properties of solid-state materials with and withoutdefects. As a starting point, a structured dataset of 11,866 defectconﬁgurations in TMDCs and a dispersive dataset of 3000conﬁgurations in six represented 2D materials were created. It isbased on high throughput DFT calculations and unveils thecomplex structure-property correlations through proper dataordering and physical insights. The initially structured datasetspans all possible single, double, and triple defects con ﬁgurationswith components of Mo/W and S/Se vacancies, W/Mo, and Se/Ssubstitutions in an 8 × 8 × 1 supercell. According to the band gapvs formation energy map, the property distribution of the defectconﬁgurations was visualized. This may provide a general guide-line for defect engineering in TMDCs to enable emergingtechnologies. The property of a selected double and triple defectwere studied in detail. The ﬂuctuation of defect properties withthe lattice site and distance are observed and explained in depththrough symmetry and quantum mechanics electronic structureanalysis. The dispersive dataset was created to span over as largeas possible in the defect space of 2D materials. Even though thedefect con ﬁgurations in the dataset are highly dispersive, theP. Huang et al.'\n",
      "7ce52\n",
      "Chunk Found (7ce52), adding to: Defect Space and Machine Learning Datasets in 2D Materials\n",
      "\n",
      "Adding: 'property maps for the calculated materials persist in some non-trial characteristics and exist as ﬁngerprints of the host materials. Our study demonstrates that a properly structured dataset can reveal the complex structure-property correlation. This could provide an in-depth guide to the engineering of materials with predetermined properties through their chemical modiﬁcation, alloying, and defect formation. With the enrollment of further datasets of materials with and without defects — a powerful platform for the realization of materials with tailored properties will be formed. METHODS Dataset generation We computed datasets of both simple defects and high-density defects in 2D materials. For simple defects, symmetrically inequivalent single, double, and triple-site defects composed of Mo vacancies, S vacancies, W substitutions, and Se substitutions in the 8 × 8 monolayer MoS2 supercell were created. The compositions, conﬁguration numbers, and atomic structures of each type of defects are summarized in Table 1. The same procedure was repeated for WSe2 with substitution atoms of Mo and S instead. The dataset, containing DFT computational properties of 5933 defect conﬁgurations for MoS2 and another 5933 for WSe2, is available online (https://rolos.com/open/2d-materials-point-defects/). Another dataset (also available in the same repository) of high-density defects was created by randomly generating combined vacancy and substitution defects in a wide range of concentrations of 2.5, 5, 7.5, 10, and 12.5% for represented 2D materials such as MoS2, WSe2, hBN, GaSe, InSe, and black phosphorous (BP). We generated and computed 100 structures for each defect concentration for each material, totaling 500 conﬁgurations for each material and 3000 in total. The availability of such high-density defects datasets, alongside the full set of triple-site defects will allow researchers to verify complex scenarios which might arise in defect engineering.'\n",
      "bd51c\n",
      "Chunk Found (bd51c), adding to: Machine Learning in Materials Design and Defect Analysis\n",
      "\n",
      "Adding: 'DFT calculations Our calculations are based on density functional theory (DFT) using the PBE functional as implemented in the Vienna Ab Initio Simulation Package (VASP). The interaction between the valence electrons and ionic cores is described within the projector-augmented (PAW) approach with a plane-wave energy cutoff of 500 eV. Spin polarization was included in all the calculations. The initial crystal structures were obtained from the Material Project database and the supercell sizes and the computational parameters for each materials are listed in the supplemental materials (Supplementary Table 1 and Fig. 1). Since very large supercells are used for the calculation of defect, the Brillouin zone was sampled using Γ-point only Monkhorst-Pack grid for structural relaxation and denser grids for further electronic structure calculations. A vacuum space of at least 15 Å was used to avoid interaction between neighboring layers. In the structural energy minimization, the atomic coordinates are allowed to relax until the forces on all the atoms are less than 0.01 eV/Å. The energy tolerance is 10−6 eV. For defect structures with unpaired electrons, we utilize standard collinear spin-polarized calculations with magnetic ions in a high-spin ferromagnetic initialization (the ion moments can, of course, relax to a low spin state during the ionic and electronic relaxations). Currently, we are focusing on the basic properties of defects and did not include spin-orbit coupling (SOC) and charged states calculations. The formation energy, i.e., the energy required to create a defect, is given by Ef = ED/C0 - Epristine/C0 + Σ(μi * Xini).'\n",
      "No chunks\n",
      "No chunks found\n",
      "Created new chunk (18718): Density Functional Theory (DFT)\n",
      "\n",
      "Adding: 'HOMO for structures with ba Mo vacancy and can S vacancy. The dash circles centering at the vacancies are a guide to the lattice sites. dThe Bader atomic charge for S atoms around a Mo vacancy in ( b). The wave functions for defect con ﬁgurations with an S vacancy occupy the eﬁrst,fsecond, gthird, and hfourth nearest site of a Mo vacancy. The blue dots indicate the S vacancies. P. Huang et al. 8 npj 2D Materials and Applications (2023) 6 Published in partnership with FCT NOVA with the support of E-MRS'\n",
      "e58e3\n",
      "Chunk Found (e58e3), adding to: Defect Formation Energies and Electronic Properties in MoS2\n",
      "\n",
      "Adding: 'where EDis the total energy of the defect structure, Epristine is the total energy of the pristine MoS 2or WS 2,niis the number of an element (Mo, W, S, or Se) transferred from the defect structure to the chemical reservoirs, and μiis the chemical potential of the element. The interaction energy for a defect complex respective to the defect components is de ﬁned as Eint¼EfDðÞ /C0X iEi f (9) Where EfðDÞis the formation energy of the double-site or triple-site defect complex and Ei fis the formation energy of the single-site defect components. Negative (positive) interaction energy indicates the tendency for the individual defects to attract (repel)each other. To parameterize the electronic properties of defects, we inspect the positions of the highest occupied states, the lowest unoccupied states, and the separation of these two levels ofdefects structures. For the sake of representation, we adopt the terminologies of the highest occupied molecule orbital (HOMO), the lowest unoccupied molecule orbital (LUMO), and the bandgap for these electronic properties. This is reasonable, consideringthat the defects in TMDCs are highly localized and molecule-like. Practically, we would like to evaluate the positions of defect levels with respect to the valence band maximum (VBM). However, due to the ﬁnite cell effect, the calculated valence band edge is generally highly disturbed by defects and hardly identi ﬁed. Moreover, the whole Kohn –Sham energy spectrum shifts due to the introduction of defects. For these reasons, we chose thedeepest Kohn –Sham orbital as a reference considering that it is less affected by defects. Accordingly, the HOMO of the defects with respect to the pristine VBM are normalized according to E HOMO ¼ED HOMO /C0ED 1/C0Epristine VBM /C0Epristine 1/C16/C17 (10) Where ED HOMO is the energy of the highest occupied Kohn –Sham state of a defect at the Γpoint, Epristine VBM is the energy of the valence band maximum of pristine MoS 2or WS 2,ED 1 and Epristine 1 are the energy of the ﬁrst Kohn –Sham orbital of the calculated defect and pristine MoS 2or WS 2structures. Since the defect states are localized —the defect bands are ﬂat in the wave vector space. Thus, the variations in energy in the k-space are small, and weextracted all the energies at the Γpoint. The regularized LUMO energy is de ﬁned similarly as E LUMO ¼ED LUMO /C0ED 1/C0Epristine VBM /C0Epristine 1/C16/C17 (11) There is a well-known underestimation of the band gap at the level of PBE functionals. To well reproduce the experimental band gap, more advanced hybrid functional or many-body interactionincluding methods should be employed. However, such methodsare computationally much more expensive and impractical for high throughput calculations. Since we are focusing on the general trends of formation energy, HOMO, and LUMO for a widerange of defect structures, the main conclusions based on PBEfunctionals should be transferable to the results of other methods.'\n"
     ]
    },
    {
     "name": "stdout",
     "output_type": "stream",
     "text": [
      "e58e3\n",
      "Chunk Found (e58e3), adding to: Defect Energies and Electronic Properties in MoS2\n",
      "\n",
      "Adding: 'Jain, A. et al. Commentary: The Materials Project: a materials genome approach to accelerating materials innovation. APL Mater. 1, 011002 (2013). Kirklin, S. et al. The open quantum materials database (OQMD): assessing the accuracy of DFT formation energies. npj Comput. Mater. 1,1–15 (2015). Saal, J. E., Kirklin, S., Aykol, M., Meredig, B. & Wolverton, C. Materials design and discovery with high-throughput density functional theory: the open quantum materials database (OQMD). JOM 65, 1501 –1509 (2013). Curtarolo, S. et al. AFLOW: An automatic framework for high-throughput materials discovery. Comput. Mater. Sci. 58, 218 –226 (2012). Chen, C., Ye, W., Zuo, Y., Zheng, C. & Ong, S. P. Graph networks as a universal machine learning framework for molecules and crystals. Chem. Mater. 31, 3564 –3572 (2019). Xie, T. & Grossman, J. C. Crystal graph convolutional neural networks for an accurate and interpretable prediction of material properties. Phys. Rev. Lett. 120, 145301 (2018). Schütt, K. T., Sauceda, H. E., Kindermans, P.-J., Tkatchenko, A. & Müller, K.-R. SchNet –A deep learning architecture for molecules and materials. J. Chem. Phys. 148, 241722 (2018). Gasteiger, J., Becker, F. & Günnemann, S. GemNet: universal directional graph neural networks for molecules. In Advances in Neural Information Processing Systems 6790 –6802 (Curran Associates, Inc., 2021).'\n",
      "None\n",
      "No chunks found\n",
      "Created new chunk (b6fa4): Materials Science Research\n",
      "\n",
      "Adding: 'Zitnick, C. L. et al. An introduction to electrocatalyst design using machine learning for renewable energy storage. Preprint at https://doi.org/10.48550/arXiv.2010.09435 (2020). Mounet, N. et al. Two-dimensional materials from high-throughput computational exfoliation of experimentally known compounds. Nat. Nanotechnol. 13, 246–252 (2018). Zhou, J. et al. 2DMatPedia, an open computational database of two-dimensional materials from top-down and bottom-up approaches. Sci. Data 6, 86 (2019). Sun, W. et al. Machine learning –assisted molecular design and efficiency prediction for high-performance organic photovoltaic materials. Sci. Adv. 5, eaay4275 (2019). Zhang, Y. et al. Identifying degradation patterns of lithium ion batteries from impedance spectroscopy using machine learning. Nat. Commun. 11, 1706 (2020). Frey, N. C., Akinwande, D., Jariwala, D. & Shenoy, V. B. Machine learning-enabled design of point defects in 2D materials for quantum and neuromorphic information processing. ACS Nano 14, 13406 –13417 (2020). Manzoor, A. et al. Machine learning based methodology to predict point defect energies in multi-principal element alloys. Front. Mater. 8, 129 (2021).'\n",
      "No chunks\n",
      "No chunks found\n",
      "Created new chunk (0c958): Machine Learning in Materials Science\n",
      "\n",
      "Adding: 'Patra, T. K. et al. Defect dynamics in 2-D MoS2 probed by using machine learning, atomistic simulations, and high-resolution microscopy. ACS Nano 12, 8006 –8016 (2018). Haastrup, S. et al. The computational 2D materials database: high-throughput modeling and discovery of atomically thin crystals. 2D Mater. 5, 042002 (2018). Bertoldo, F., Ali, S., Manti, S. & Thygesen, K. S. Quantum point defects in 2D materials - the QPOD database. npj Comput. Mater. 8,1–16 (2022). Murray, C. et al. Addressing bias in active learning with depth uncertainty networks... or not. Workshop at NeurIPS PMLR163 59 –63 (2022). Rolos. https://rolos.com/open/2d-materials-point-defects/ (2022). Lieb, E. H. Two theorems on the Hubbard model. Phys. Rev. Lett. 62, 1201 –1204 (1989). Huang, P. et al. Carbon and vacancy centers in hexagonal boron nitride. Phys. Rev. B106, 014107 (2022). Koperski, M. et al. Midgap radiative centers in carbon-enriched hexagonal boron nitride. Proc. Natl Acad. Sci. USA 117, 13214 –13219 (2020). Friedel, J. The distribution of electrons round impurities in monovalent metals. Lond. Edinb. Dublin Philos. Mag. J. Sci. 43, 153 –189 (1952). Lau, K. H. & Kohn, W. Indirect long-range oscillatory interaction between adsorbed atoms. Surf. Sci. 75,6 9–85 (1978).'\n",
      "No chunks\n",
      "No chunks found\n",
      "Created new chunk (8521c): Two-Dimensional Material Defects\n",
      "\n",
      "Adding: 'Lond. Edinb. Dublin Philos. Mag. J. Sci. 43, 153 –189 (1952). Lau, K. H. & Kohn, W. Indirect long-range oscillatory interaction between adsorbed atoms. Surf. Sci. 75, 69–85 (1978). Cheianov, V. V. & Fal 'ko, V. I. Friedel oscillations, impurity scattering, and temperature dependence of resistivity in graphene. Phys. Rev. Lett. 97, 226801 (2006). Pereira, V. M., Guinea, F., Lopes dos Santos, J. M. B., Peres, N. M. R. & Castro Neto, A. H. Disorder induced localized states in graphene. Phys. Rev. Lett. 96, 036801 (2006). Pereira, V. M., Lopes dos Santos, J. M. B. & Castro Neto, A. H. Modeling disorder in graphene. Phys. Rev. B 77, 115109 (2008). Shytov, A. V., Abanin, D. A. & Levitov, L. S. Long-range interaction between adatoms in graphene. Phys. Rev. Lett. 103, 016806 (2009). P. Huang et al. Published in partnership with FCT NOVA with the support of E-MRS npj 2D Materials and Applications (2023) 6'\n",
      "None\n",
      "No chunks found\n",
      "Created new chunk (8cd66): Graphene Research\n",
      "\n",
      "Adding: '35. González-Herrero, H. et al. Atomic-scale control of graphene magnetism by using hydrogen atoms. Science 352, 437 –441 (2016). 36. Perdew, J. P., Burke, K. & Ernzerhof, M. Generalized gradient approximation made simple. Phys. Rev. Lett. 77, 3865 –3868 (1996). 37. Kresse, G. & Furthmüller, J. Ef ﬁciency of ab-initio total energy calculations for metals and semiconductors using a plane-wave basis set. Comput. Mater. Sci. 6, 15–50 (1996). 38. Kresse, G. & Joubert, D. From ultrasoft pseudopotentials to the projector augmented-wave method. Phys. Rev. B 59, 1758 –1775 (1999). 39. Blöchl, P. E. Projector augmented-wave method. Phys. Rev. B 50,1 7 9 5 3 –17979 (1994). 40. Sohier, T., Calandra, M. & Mauri, F. Density functional perturbation theory for gated two-dimensional heterostructures: theoretical developments and applica-tion to ﬂexural phonons in graphene. Phys. Rev. B 96, 075448 (2017).'\n",
      "No chunks\n",
      "No chunks found\n",
      "Created new chunk (bca66): Materials Science & Computational Methods\n",
      "\n",
      "Adding: 'ACKNOWLEDGEMENTS This research is supported by the Ministry of Education, Singapore, under its Research Center of Excellence award to the Institute for Functional Intelligent Materials (I-FIM, project No. EDUNC-33-18-279-V12). K.S.N. is grateful to the Royal Society (UK, grant number RSRP\\R\\190000) for support. P.H. thanks the support of the National KeyResearch and Development Program (No. 2021YFB3802400) and the National NaturalScience Foundation (No. 52161037) of China. The authors acknowledge particularlythe HPC support from Dr. Miguel Dias Costa. The computational work for this articlewas performed on computational resources at the National Supercomputing Centerof Singapore (NSCC), the Centre for Advanced 2D Materials, the NUS HPC and the HSE University.'\n",
      "62c80\n",
      "Chunk Found (62c80), adding to: Funding & Resources\n",
      "\n",
      "Adding: 'AUTHOR CONTRIBUTIONS P.H., A.U., and K.S.N. conceived the research; P.H. and R.L. done most of the calculations, P.H., R.L., M.F., N.K., and A.R.A.-M. participated in data analyses, D.V.A.,A.T., and A.H.C.N. participated in the discussion. All authors contributed to thedrafting of the work and approved the ﬁnal version of the manuscript. COMPETING INTERESTS The authors declare no competing interests.'\n",
      "9cd93\n",
      "Chunk Found (9cd93), adding to: Author Contributions\n",
      "\n",
      "Adding: 'ADDITIONAL INFORMATION Supplementary information The online version contains supplementary material available at https://doi.org/10.1038/s41699-023-00369-1 . Correspondence and requests for materials should be addressed to Kostya S. Novoselov. Reprints and permission information is available at http://www.nature.com/reprints Publisher ’s note Springer Nature remains neutral with regard to jurisdictional claims in published maps and institutional af ﬁliations. Open Access This article is licensed under a Creative Commons Attribution 4.0 International License, which permits use, sharing, adaptation, distribution and reproduction in any medium or format, as long as you giveappropriate credit to the original author(s) and the source, provide a link to the CreativeCommons license, and indicate if changes were made. The images or other third partymaterial in this article are included in the article ’s Creative Commons license, unlessindicated otherwise in a credit line to the material. If material is not included in thearticle ’s Creative Commons license and your intended use is not permitted by statutoryregulation or exceeds the permitted use, you will need to obtain permission directlyfrom the copyright holder. To view a copy of this license, visit http://creativecommons.org/licenses/by/4.0/ . © The Author(s) 2023, corrected publication 2023 P. Huang et al. 10 npj 2D Materials and Applications (2023) 6 Published in partnership with FCT NOVA with the support of E-MRS'\n"
     ]
    },
    {
     "name": "stdout",
     "output_type": "stream",
     "text": [
      "None\n",
      "No chunks found\n",
      "Created new chunk (e37a5): Publication Details & Licensing\n"
     ]
    }
   ],
   "source": [
    "ac.add_propositions([d.page_content for d in article_propositions])"
   ]
  },
  {
   "cell_type": "code",
   "execution_count": 14,
   "id": "84c797d5",
   "metadata": {},
   "outputs": [
    {
     "data": {
      "text/plain": [
       "30"
      ]
     },
     "execution_count": 14,
     "metadata": {},
     "output_type": "execute_result"
    }
   ],
   "source": [
    "len(ac.get_chunks())"
   ]
  },
  {
   "cell_type": "code",
   "execution_count": 15,
   "id": "8431a82e",
   "metadata": {
    "scrolled": true
   },
   "outputs": [
    {
     "data": {
      "text/plain": [
       "{'chunk_id': '55964',\n",
       " 'propositions': ['Two-dimensional materials offer a promising platform for the next generation of (opto-) electronic devices and other high technology applications. One of the most exciting characteristics of 2D crystals is the ability to tune their properties via controllable introduction of defects. However, the search space for such structures is enormous, and ab-initio computations prohibitively expensive. We propose a machine learning approach for rapid estimation of the properties of 2D material given the lattice structure and defect configuration. The method suggests a way to represent configuration of 2D materials with defects that allows a neural network to train quickly and accurately. We compare our methodology with the state-of-the-art approaches and demonstrate at least 3.7 times energy prediction error drop. Also, our approach is an order of magnitude more resource-efficient than its contenders both for the training and inference part. Atomic-scale tailoring of materials is one of the most promising paths towards achieving new, both quantum and classical properties. Controllable defect engineering, i.e., introduction of vacancies or desired impurities, enables properties modifications and new functionalities in crystalline materials. The opportunities for such controlled material engineering methods got a dramatic boost in the past two decades with the development of the methods for exfoliation of crystal into two-dimensional atomic layer. The reduced dimensionality in layered two-dimensional materials makes it possible to manipulate defects atom by atom and tune their properties down to quantum mechanics limits. Such atomic-scale preparation and fabrication techniques hold promise for the continual development of the semiconductor industry in the post-Moore age and the development of novel technologies such as quantum computing, catalysts, and photovoltaics.',\n",
       "  'Despite decades of research efforts, knowledge of the structure-property relation for defects in crystals is still limited. Only a small subset of defects in the vast configuration space have been investigated. The properties of complexes of multiple point defects, where quantum phenomena dominate, depend on the composition and configuration of such defects in a strongly non-trivial manner, making their prediction a very hard problem. The diversity and complexity of the problem come from the exchange interaction of defect orbitals separated by discrete lattices. On the other hand, the vast chemical and configuration space prohibits a thorough exploration of such structures by traditional trial and error experiments and even for computationally expensive state-of-the-art quantum mechanic simulations. The recent development of large materials databases has stimulated the application of deep learning methods for atomistic predictions. Machine learning (ML) methods trained on density functional theory (DFT) calculations have been used to identify materials for batteries, catalysts, and many other applications. Machine learning methods accelerate the design of the new materials by predicting material properties with accuracy comparable to ab-initio calculations, but with orders of magnitude lower computational costs. A series of fast and accurate deep learning architectures have been presented during the last few years. The most successful of them are graph neural networks, such as MEGNet, CGCNN, SchNet, GemNet, etc. In this work, we propose a method for predicting the energetic and electronic structures of defects in 2D materials with machine.',\n",
       "  \"In this work, we propose a method for predicting the energetic and electronic structures of defects in 2D materials with machine learning. Firstly, a machine learning-friendly 2D Material Defect database (2DMD) was established employing high throughput DFT calculations. The database is composed of both structured datasets and dispersive datasets of defects in represented 2D materials such as MoS2, WSe2, h-BN, GaSe, InSe, and black phosphorous (BP). We use the datasets to evaluate the performance of the previously reported approaches along with ours, which was specially designed to provide accurate description of materials with defects. Our computational experiments show that our approach provides a significant increase in prediction accuracy compared to the state-of-the-art general methods. The high accuracy allows to reproduce the nonlinear non-monotonic property-distance correlation of defects which is a combination of the quantum mechanic effect and the periodic lattice nature in 2D materials. The general methods, on the other hand, mostly fail to predict such property-structure functionals, as we show in subsection 'Aggregate performance'. Most importantly, our method shows great transferability for a wide range of defect concentrations in the various 2D materials we studied.\",\n",
       "  'Machine learning offers two principal approaches to predicting atomistic properties: graph neural networks (GNN) and physics-based descriptors. Graph neural networks have several valuable properties that make them uniquely suitable for modeling atomic systems: invariance to permutations, rotations, and translation. The ability of GNNs to handle complex relationships and interactions in atomic structures allows for more accurate predictions of material properties, especially in the context of defects in 2D materials. This is crucial as defects can significantly alter the electronic and energetic characteristics of materials, impacting their performance in applications. By leveraging the strengths of GNNs, our proposed method aims to enhance the understanding and prediction of defect-related properties in 2D materials, paving the way for advancements in material design and optimization.',\n",
       "  'natural encoding of the locality of interactions. In the recent Open Catalyst benchmark5, GNNs solidly outperform the physics-based descriptors. Therefore, in this section, we only focus on GNNs. Xie et al.12is one of the ﬁrst works to propose applying a convolutional GNN to materials. Wolverton et al.16improves on it, by incorporating Voronoi-tessellated atomic structure, 3-body correlations of neighboring atoms, and chemical representation of interatomic bonds. Schütt et al.13(Schnet) proposes continuous-ﬁlter convolutional layers. Chen et al.11(MEGNet) uses a more advanced GNN: message-passing, instead of convolutional. Klicpera et al.14,17(GemNet) redresses an important shortcoming of the previous message-passing GNN ’s: loosing of geometric information due to considering only distances as edge features. Zitnick et al.18improves handling of angular information. Cloudhary et al. presents an Atomistic Line Graph Neural Network (ALIGNN)19, a GNN architecture that performs message passing on both the interatomic bond graph and its line graph corresponding to bond angles. Ying et al.20,21introduces Graphormer, a hybrid model between Transformers and GNNs allows for more expressive aggregation operations. Even though the described models are not evaluated on crystals with defects - they are in-principle capable of handling any atomistic structures, and thus we use the most established ones as baselines. Moreover, we demonstrate our approach using one of the most renowned GNN architectures for materials: MEGNet (see details in subsection “General message-passing graph neural networks for materials ”).',\n",
       "  'The introduction of a defect site in general creates disturbed electronic states and the wave function associated with such states ﬂuctuates over a distance of a few lattice constants depending on the localization of the electrons in the host lattice, Fig. 1. This results in some localized defect levels in the energy spectrum of the solid. From a quantum embedding theory point of view22, the defects could be seen as the active region of interest embedded in the periodic lattice. Accordingly, the defect levels are governed by the interactions of the unsaturated electrons in the background of the valence band electrons. The properties of a defect complex composed of more than one defect sites are governed by the interference of the wave functions of suchelectrons 23. As the result, the formation energy, positions of defect levels, and the HOMO-LUMO gap are non-trivially dependent on the defect con ﬁgurations. As schematically shown in Fig. 1, two defect states interfere with each other, and the separation of the bonding and antibonding states is governed by the exchange integral of the two states in the screening background of valence electrons. The exchange integral is subtly dependent on the positions of defect components, and such a HOMO-LUMO gap is a complex functional of the defect con ﬁguration. It is still a challenge for machine learning to precisely predict such nonlinear quantum mechanic behavior of defects.',\n",
       "  'Machine learning methods have been proposed for prediction of the formation energies of single point defects24–26across different materials, but the authors didn ’t consider con ﬁgurations with multiple interacting defects. In a recent preprint27, the authors use a model based on CGCNN12to conduct a large scale screening of single-vacancy structures for diverse energy applica- tions. In ref.4, the authors use MEGNet architecture for prediction of the properties of pristine 2D materials and choosing the ones that make optimal hosts for engineered point defects. Then they use matminer28combined with Random Forest29for predicting the properties of structures with point defects. A similar descriptor-based approach is used in ref.30. We evaluate the descriptor-based approach for our data, as described in subsection “Physics-based descriptors ”. ReaxFF31potential has been developed for dichalcogenides.',\n",
       "  'descriptor-based approach for our data, as described in subsection “Physics-based descriptors ”. ReaxFF31potential has been developed for dichalcogenides, and is used for studying defect dynamics32,33. The potential is very computationally ef ﬁcient, and thus allows to probe dynamics on a larger time scale. However, it is not as precise as DFT, and doesn ’t offer a way to predict the electronic properties. The paper is structured as follows. Section “Sparse representa- tion of crystals with defects ”presents our proposed method for representing structures with defects to machine learning algo- rithms. Section “Dataset ”provides the description of the dataset we use for evaluation. Sections “Aggregate performance ”, “Quantum oscillations prediction ”present the computational experiments, where we compare performances of different methods. Finally, section “Discussion ”summarizes our work. Fig. 1 The quantum mechanic nature of defects. a DFT-simulated defect wave function centered at a single Mo site of MoS 2crystal lattice. Red and green colors represent the opposite phases of the wave function isosurfaces. The dash circles are an illustration of the electronicorbital shells. bA schematic representation of the wave function interference of two defect sites in a crystal lattice. cThe defect levels are governed by the exchange interaction of defect components, and hence the separation of the defect levels is dominated by the exchange integral according to the valence bond theory.',\n",
       "  'Sparse representation of crystals with defectsFor machine learning algorithms, an atomic structure is a so-called point cloud: a set of points in 3D space. Each point is associated with a vector of properties, which at the least contains the atomic number, but may also include more physics-based features, such as radius, the number of valence electrons, etc. The structures with defects present a challenge to machine learning algorithms. The neighborhoods of the majority of the atoms are not affected by the point defects. In principle, this shouldn’t be an obstacle for a perfect algorithm. In practice, however, this comparatively small difference in the full structures is hard to learn. As we demonstrate in section “Aggregate performance” with our computational experiments, state-of-the-art algorithms underperform on crystal structures with defects. We propose a way to represent structures with defects that makes the problem of predicting properties easy for the ML algorithms leading to better performance. The core idea is presented in Fig. 2: instead of treating a crystal structure as a point cloud of atoms, we treat it as a point cloud of defects. To obtain it, we take the structure with defects, remove all the atoms that are not affected by substitution defects, and add virtual atoms on the vacancy sites. Each point has two parameters in addition to the coordinates: the atomic number of the atom on the site in the pristine structure and the atomic number of the atom in the structure with the defect. Vacancies are considered to have atomic number 0. The structure of the pristine unit cell is encoded as a global state for each structure using a vector with the set of atomic numbers of the pristine material, e.g. (42, 16) for MoS2. This simple approach is sufficient on our structures. As a future direction, in case generalization between materials is desired, graph embedding would be a logical choice: pristine material unit cell as an input to a different GNN, which outputs a vector of fixed dimensionality.',\n",
       "  'Secondly, we propose an augmentation specific to graph neural networks and 2D crystals: adding the difference in z-coordinate (perpendicular to the material surface) as an edge feature. Normally, such a feature would break the rotational symmetry. But in the case of a 2D crystal, the direction perpendicular to the material surface is physically defined and thus can be used. In a crystal, the replacement of an atom or the introduction of a vacancy causes a major disruption of the electronic states. Given the wave nature of electrons, the introduction of a localized defect creates oscillations in the electronic wave functions at the atomic level similar to a rock thrown into a pond. In the case of crystals, the wave function oscillations may involve one or several electronic orbitals, and the amplitude of those oscillations decays away from the defect at a rate that depends on the nature of those orbitals. This oscillatory nature of the electronic states away from a defect leads to the formation of electronic orbital shells (EOS). We ascribe an EOS index to such shells, that labels the amplitude of the wave function in decreasing order, the S atom labeled 1 filling the largest amplitude, as we show in Fig. 1. Formally we define EOS orbitals as follows. Firstly, we project all atoms on the x-y plane, making a truly 2D representation of the material. For binary crystals, for each atom, we draw circles centered on it and passing through the atoms of the other species, numbering them in the order of radius increase. For unary materials (BP in our dataset), the circle radii are multiples of the unit cell size. The circle number is the EOS index of the site with respect to the central atom. The intuition behind those indices is described in the paper 34, which claims that the atomic electron shells’ interaction strength is not monotonic with respect to atom.',\n",
       "  \"Incorporating sparse representation into a graph neural network Our proposed representation ﬁts into the graph neural networks (GNN) framework (described in subsection 'General message-passing graph neural networks for materials') as follows: 1. Graph nodes correspond to point defects, not to all the atoms in a structure; 2. Threshold for connecting nodes with edges is increased; 3. Node attributes contain the atomic number of the atom on this site in the pristine structure, and the atomic number of the atom in the structure with defect, with 0 for vacancies; 4. Edge attributes contain not only the Euclidean distance between point defects corresponding to the adjacent vertices, but also EOS index, EOS parity index, and Z-plane distance; 5. Input global state contains the chemical composition of the crystal as a vector of atomic numbers. Dataset We established a machine learning friendly 2D material defect database (2DMD) for the training and evaluation of models. The datasets contain structures with point defects for the most widely used 2D materials: MoS2, WSe2, hexagonal boron nitride (h-BN), GaSe, InSe, and black phosphorous (BP). The types of point defects are listed in Table 1. Supercell details are available in Supplementary Table 1 and example defect depictions in Supplementary Fig. 1. The datasets consist of two parts: low defect concentration of structured configurations and high defect concentration of random configurations. The low defect concentration part consists of 5933 MoS2 structures and 5933 WSe2 with all possible configurations in the 8x8 supercell for defect types depicted in Fig. 3. We used pymatgen to find the configurations, taking into account symmetry. The high-density dataset contains a sample of randomly generated substitution and vacancy defects for all the materials. For each total defect concentration 2.5%, 5%, 7.5%, 10%, and 12.5% 100 structures were generated, totaling 500 configurations for each material and 3000 in total. Overall, the dataset contains 14866 structures with 120 –192 atoms each. The datasets as designed could provide training data for AI methods both the fine features of quantum mechanic nature and those features associated with different elements, crystal structures, and defect concentrations.\",\n",
       "  \"We used Density Functional Theory (DFT) for computing the properties, the details are described in the subsection 'DFT computations'. We use two target variables for evaluating machine learning methods: defect formation energy per site and HOMO –LUMO gap. Formation energy, i.e., the energy required to create a defect is defined as Ef=ED/C0Epristine + X iniμi where ED is the total energy of the structure with defects, Epristine is the total energy of the pristine base material, ni is the number of the i-th atoms removed from (ni> 0) or added to (ni< 0) the supercell to/from a chemical reservoir, and μi is the chemical potential of the i-th element, computed with the same DFT settings. Finally, to make the results better comparable across examples with different numbers of defects, we normalize the formation energy by dividing it by the number of defect sites: E0f=Ef/Nd, where Nd is the number of defects in the structure. The electronic properties of defects are characterized by the energy spacing between the highest occupied states and the lowest unoccupied states. For the sake of representation, we adopt the terminologies of HOMO-LUMO gap for the separation of defect levels. Defects in some of the materials (BP, GaSe, InSe, h-BN) have unpaired electrons and hence non-zero magnetic momentum. Therefore, DFT was computed taking into account two channels of spin-up and spin-down bands, resulting in the majority and minority HOMO-LUMO gaps. For evaluating the machine learning algorithms, we took the minimum of those gaps as the target variable. Aggregate performance We split the dataset into 3 parts: train (60%), validation (20%), and test (20%). The split is random and stratified with respect to\",\n",
       "  'We split the dataset into 3 parts: train (60%), validation (20%), and test (20%). The split is random and stratiﬁed with respect to each base material. For each model, we use random search for hyperparameter optimization; we generate 50 hyperparameter conﬁgurations, train the model with each conﬁguration on the train part, and select the best-performing conﬁguration by evaluating quality on the validation part. The search spaces and optimal conﬁgurations are present in Supplementary Discussion 1. To obtain the ﬁnal result, we train each model with the optimal parameters on the combination of train and validation parts and evaluate the quality on the unseen test part. We do this 12 times to estimate the effects of the random initialization. We use unrelaxed structures as inputs and predict the energy and HOMO –LUMO gap after relaxation. To account for the material class imbalance, we use weighted mean absolute error (MAE) as the quality metric during both training and evaluation: MAE = PN i=1 |yi - yi|wi / PN i=1 wi, where wi is the weight assigned to each example; yi is the predicted value; yi is the true value; N is the number of the structures in the dataset. The purpose of using weights is to prevent the combined error value from being dominated by the low defect density dataset part, as it’s 4 times more numerous compared to the high defect density part.',\n",
       "  'General message-passing graph neural networks for materials There are many types of graph neural networks (GNN). In this section, we outline the message-passing neural network proposedby Battaglia et al. Those became rather popular for analyzing material structure11. To prepare a training sample, a graph is constructed out of a crystal con figuration: atoms become graph nodes, and graph edges connect nodes at distances less than a prede fined threshold. The connections respect periodic boundary conditions, i.e., for a signi ficantly large threshold, an edge can connect a node to its image in an adjacent supercell. Speci fic property vectors also characterize nodes and edges. A node contains the atomic Fig. 4 Predicted and DFT formation energy as a function of the distance between the defects for MoS 2with one Mo and one S vacancy. Error bars represent the standard deviation across 12 models trained from different random initialisation.N. Kazeev et al. Published in partnership with the Shanghai Institute of Ceramics of the Chinese Academy of Sciences npj Computational Materials (2023) 113',\n",
       "  'number, and an edge contains the Euclidean distance between the atoms it connects. A layer of a message-passing neural network transforms a graph into another graph with the same connectivity structure, changing only the nodes, edges, and global attributes. The layers are stacked to provide an expressive deep architecture. Let G=(V,E,u) be a crystal graph from the previous step, the nodes are represented by vectors V¼fv i g j V j i¼0, where vi2Rdv and ∣V∣ is the number of atoms in the supercell. The edge states are represented by vectors fekgjEj k¼0, where ek2Rde. Each edge has a sender node index vs∈{0,⋯,∣V∣−1}, a receiver node vr∈{0,⋯,∣V∣−1} and a vector of edge attributes. An edge is represented by a tuple ðvs k;vr k;ekÞ, where the superscripts s,r denote the sender and the receiver nodes respectively. The global state vector u2Rd represents the global state of the system. In the input graph, the global state is used to provide the algorithm with information about the system as a whole, in the case of our sparse representation, the composition of the base material. In the output graph, the global state contains the model predictions of the target variables. A message-passing layer is a mapping from G=(V,E,u) to G 0¼ðV0;E0;u0Þ, this mapping is based on update rules for nodes, edges, and global state. Edge update rule operates on the information from the sender vs k, receiver nodes vr k, edge itself ek, and the global state u. We can represent this rule by a function φe: e0 k¼ϕe(vs i;vr i;ek;u/C0/C1: (5). Node update rule aggregates the information from all the edges Evi¼fe0 k e0 k2neighbors ðviÞg connected to the node vi, the node itself vi and the global state u. We can represent this rule by function ϕv: ei¼1 jEvijX neighbors ðviÞe0 k (6) v0 i¼ϕvðei;vi;uÞ (7). Finally, the global state u is updated based on the aggregation of both nodes and edges alongside the global state itself and process them with ϕ u: uv¼1 jVjX jVj/C01 i¼0v0 i (8) ue¼1 jEjX jEj/C01 k¼0e0 k(9) u0¼ϕuðuv;ue;uÞ (10). The functions ϕv,ϕe,ϕu are fully-connected neural networks. The model is trained with ordinary backpropagation, minimizing the mean squared error (MSE) loss between the predicted values in u of the output graph, and the target values in the training dataset.'],\n",
       " 'title': 'Machine Learning for Defect Properties in 2D Materials',\n",
       " 'summary': 'This chunk discusses the use of machine learning, especially graph neural networks, to predict the properties of defects in two-dimensional materials, emphasizing their potential impact on technology and inviting contributions of related datasets and methods.',\n",
       " 'chunk_index': 0}"
      ]
     },
     "execution_count": 15,
     "metadata": {},
     "output_type": "execute_result"
    }
   ],
   "source": [
    "ks = list(ac.get_chunks().keys())\n",
    "ac.get_chunks()[ks[0]]"
   ]
  },
  {
   "cell_type": "code",
   "execution_count": 17,
   "id": "07e221cc",
   "metadata": {},
   "outputs": [],
   "source": [
    "with open(\"2ai4mat_articles.json\", \"w+\") as f:\n",
    "    json.dump(ac.get_chunks(), f, indent=4)"
   ]
  },
  {
   "cell_type": "markdown",
   "id": "ef3dc2b5",
   "metadata": {},
   "source": [
    "### Load test QA  dataset"
   ]
  },
  {
   "cell_type": "code",
   "execution_count": 18,
   "id": "7a3c0af4",
   "metadata": {},
   "outputs": [],
   "source": [
    "import pandas as pd\n",
    "\n",
    "df_ground_true = pd.read_csv(\"./data/data_rag/QA_ai4mat_2articles.csv\")\n",
    "\n",
    "questions = df_ground_true['question'].values.tolist()\n",
    "answers = df_ground_true['answer'].values.tolist()\n"
   ]
  },
  {
   "cell_type": "markdown",
   "id": "72116e71",
   "metadata": {},
   "source": [
    "### Compare 4 stratigies \n",
    "#### Recursive chunking,  Agentic chunking, LLM chunking, Markdown  chunking"
   ]
  },
  {
   "cell_type": "code",
   "execution_count": 19,
   "id": "5230a435",
   "metadata": {},
   "outputs": [],
   "source": [
    "from ragas.metrics import (\n",
    "    context_utilization,\n",
    "    context_entity_recall,\n",
    "    context_relevancy,\n",
    "    answer_relevancy,\n",
    "    answer_correctness, \n",
    "    faithfulness,\n",
    "    context_precision,\n",
    "    context_recall,\n",
    ")\n",
    "\n",
    "from datasets import Dataset \n",
    "\n",
    "from ragas.evaluation import evaluate\n",
    "import nest_asyncio"
   ]
  },
  {
   "cell_type": "code",
   "execution_count": 20,
   "id": "0a27eae1",
   "metadata": {},
   "outputs": [],
   "source": [
    "metrics = [\n",
    "   answer_relevancy,\n",
    "    answer_correctness, \n",
    "   faithfulness,\n",
    "    context_precision,\n",
    "    context_recall,\n",
    " #   context_entity_recall,\n",
    "    context_relevancy,\n",
    " #   context_utilization,\n",
    "]"
   ]
  },
  {
   "cell_type": "code",
   "execution_count": 21,
   "id": "cd1636d2",
   "metadata": {},
   "outputs": [],
   "source": [
    "emb, ch_list, dataset, result = dict(), dict(), dict(), dict()"
   ]
  },
  {
   "cell_type": "markdown",
   "id": "fc0e130b",
   "metadata": {},
   "source": [
    "### Embeedding of chunks"
   ]
  },
  {
   "cell_type": "markdown",
   "id": "fd6a7a74",
   "metadata": {},
   "source": [
    "#### Recursive chunking"
   ]
  },
  {
   "cell_type": "code",
   "execution_count": 22,
   "id": "4941c36a",
   "metadata": {},
   "outputs": [
    {
     "data": {
      "text/plain": [
       "(128, 1536, True)"
      ]
     },
     "execution_count": 22,
     "metadata": {},
     "output_type": "execute_result"
    }
   ],
   "source": [
    "name = 'recursive'\n",
    "emb[name], _, ch_list[name] = get_embs(chunks, embedding=OpenAIEmbeddings(),  question=False) \n",
    "\n",
    "len(emb[name]), len(emb[name][0]), len(ch_list[name])==len(emb[name])"
   ]
  },
  {
   "cell_type": "code",
   "execution_count": 23,
   "id": "c860681d",
   "metadata": {},
   "outputs": [
    {
     "name": "stdout",
     "output_type": "stream",
     "text": [
      "dimension 1536\n"
     ]
    }
   ],
   "source": [
    "collection_name = f\"ai4mat_OpenAiEmb_{name}\"\n",
    "\n",
    "if milvus_client.has_collection(collection_name):\n",
    "    milvus_client.drop_collection(collection_name)\n",
    "\n",
    "milvus_client.create_collection(\n",
    "    collection_name=collection_name,\n",
    "    dimension=len(emb[name][0]),    # emb dimension\n",
    "    metric_type=\"IP\",            # Inner product distance\n",
    "    consistency_level=\"Strong\",  # Strong consistency level\n",
    "    )\n",
    "print(\"dimension\",len(emb[name][0]))"
   ]
  },
  {
   "cell_type": "code",
   "execution_count": 24,
   "id": "6820a91a",
   "metadata": {},
   "outputs": [
    {
     "name": "stderr",
     "output_type": "stream",
     "text": [
      "Creating embeddings: 100%|█████████████████████████| 128/128 [00:00<00:00, 277452.67it/s]\n"
     ]
    },
    {
     "data": {
      "text/plain": [
       "{'insert_count': 128,\n",
       " 'ids': [0, 1, 2, 3, 4, 5, 6, 7, 8, 9, 10, 11, 12, 13, 14, 15, 16, 17, 18, 19, 20, 21, 22, 23, 24, 25, 26, 27, 28, 29, 30, 31, 32, 33, 34, 35, 36, 37, 38, 39, 40, 41, 42, 43, 44, 45, 46, 47, 48, 49, 50, 51, 52, 53, 54, 55, 56, 57, 58, 59, 60, 61, 62, 63, 64, 65, 66, 67, 68, 69, 70, 71, 72, 73, 74, 75, 76, 77, 78, 79, 80, 81, 82, 83, 84, 85, 86, 87, 88, 89, 90, 91, 92, 93, 94, 95, 96, 97, 98, 99, 100, 101, 102, 103, 104, 105, 106, 107, 108, 109, 110, 111, 112, 113, 114, 115, 116, 117, 118, 119, 120, 121, 122, 123, 124, 125, 126, 127],\n",
       " 'cost': 0}"
      ]
     },
     "execution_count": 24,
     "metadata": {},
     "output_type": "execute_result"
    }
   ],
   "source": [
    "data = []\n",
    "\n",
    "for i, line in enumerate(tqdm(ch_list[name], desc=\"Creating embeddings\")):\n",
    "    data.append({\"id\": i, \"vector\": emb[name][i], \"text\": _text(ch_list[name][i]), })\n",
    "\n",
    "\n",
    "\n",
    "milvus_client.insert(collection_name=collection_name, data=data)"
   ]
  },
  {
   "cell_type": "code",
   "execution_count": 25,
   "id": "3e529cea",
   "metadata": {},
   "outputs": [
    {
     "data": {
      "application/vnd.jupyter.widget-view+json": {
       "model_id": "7074070dcd3d4bf9b8b8cfedea94440d",
       "version_major": 2,
       "version_minor": 0
      },
      "text/plain": [
       "0it [00:00, ?it/s]"
      ]
     },
     "metadata": {},
     "output_type": "display_data"
    }
   ],
   "source": [
    "dataset[name] =  get_datasamples(questions, \n",
    "                            answers, \n",
    "                            milvus_client, \n",
    "                            collection_name, \n",
    "                            embedding=lambda q: OpenAIEmbeddings().embed_query(q), \n",
    "                            llm = llm,\n",
    "                            top_k=10)\n"
   ]
  },
  {
   "cell_type": "code",
   "execution_count": 26,
   "id": "cf4aac63",
   "metadata": {},
   "outputs": [
    {
     "data": {
      "application/vnd.jupyter.widget-view+json": {
       "model_id": "6ebef2eec7fe4ae78b9b6f711098ae69",
       "version_major": 2,
       "version_minor": 0
      },
      "text/plain": [
       "Evaluating:   0%|          | 0/210 [00:00<?, ?it/s]"
      ]
     },
     "metadata": {},
     "output_type": "display_data"
    },
    {
     "name": "stderr",
     "output_type": "stream",
     "text": [
      "No statements were generated from the answer.\n",
      "No statements were generated from the answer.\n",
      "No statements were generated from the answer.\n",
      "No statements were generated from the answer.\n",
      "No statements were generated from the answer.\n",
      "No statements were generated from the answer.\n",
      "No statements were generated from the answer.\n",
      "No statements were generated from the answer.\n",
      "No statements were generated from the answer.\n",
      "No statements were generated from the answer.\n",
      "No statements were generated from the answer.\n",
      "No statements were generated from the answer.\n",
      "No statements were generated from the answer.\n",
      "No statements were generated from the answer.\n",
      "No statements were generated from the answer.\n",
      "No statements were generated from the answer.\n",
      "No statements were generated from the answer.\n",
      "No statements were generated from the answer.\n",
      "No statements were generated from the answer.\n",
      "No statements were generated from the answer.\n",
      "No statements were generated from the answer.\n",
      "No statements were generated from the answer.\n",
      "No statements were generated from the answer.\n",
      "No statements were generated from the answer.\n",
      "No statements were generated from the answer.\n"
     ]
    }
   ],
   "source": [
    "nest_asyncio.apply()\n",
    "\n",
    "#query_engine_bge = build_query_engine(hf_bge, documents)\n",
    "result[name] = evaluate(dataset[name], metrics, llm=llm,  raise_exceptions=False, embeddings=OpenAIEmbeddings())"
   ]
  },
  {
   "cell_type": "markdown",
   "id": "8a2f716a",
   "metadata": {},
   "source": [
    "#### Agentic chunking"
   ]
  },
  {
   "cell_type": "code",
   "execution_count": 27,
   "id": "70bef0bd",
   "metadata": {},
   "outputs": [
    {
     "data": {
      "text/plain": [
       "(30, 1536, True)"
      ]
     },
     "execution_count": 27,
     "metadata": {},
     "output_type": "execute_result"
    }
   ],
   "source": [
    "name = 'agentic'\n",
    "emb[name], _, ch_list[name] = get_embs(ac.get_chunks(get_type='list_of_strings'), embedding=OpenAIEmbeddings(),  question=False) \n",
    "\n",
    "len(emb[name]), len(emb[name][0]), len(ch_list[name])==len(emb[name])"
   ]
  },
  {
   "cell_type": "code",
   "execution_count": 28,
   "id": "50845713",
   "metadata": {},
   "outputs": [
    {
     "name": "stdout",
     "output_type": "stream",
     "text": [
      "dimension 1536\n"
     ]
    }
   ],
   "source": [
    "collection_name = f\"ai4mat_OpenAiEmb_{name}\"\n",
    "\n",
    "if milvus_client.has_collection(collection_name):\n",
    "    milvus_client.drop_collection(collection_name)\n",
    "\n",
    "milvus_client.create_collection(\n",
    "    collection_name=collection_name,\n",
    "    dimension=len(emb[name][0]),    # emb dimension\n",
    "    metric_type=\"IP\",            # Inner product distance\n",
    "    consistency_level=\"Strong\",  # Strong consistency level\n",
    "    )\n",
    "print(\"dimension\",len(emb[name][0]))"
   ]
  },
  {
   "cell_type": "code",
   "execution_count": 29,
   "id": "9076395b",
   "metadata": {},
   "outputs": [
    {
     "name": "stderr",
     "output_type": "stream",
     "text": [
      "Creating embeddings: 100%|████████████████████████████| 30/30 [00:00<00:00, 60436.66it/s]\n"
     ]
    },
    {
     "data": {
      "text/plain": [
       "{'insert_count': 30,\n",
       " 'ids': [0, 1, 2, 3, 4, 5, 6, 7, 8, 9, 10, 11, 12, 13, 14, 15, 16, 17, 18, 19, 20, 21, 22, 23, 24, 25, 26, 27, 28, 29],\n",
       " 'cost': 0}"
      ]
     },
     "execution_count": 29,
     "metadata": {},
     "output_type": "execute_result"
    }
   ],
   "source": [
    "data = []\n",
    "\n",
    "for i, line in enumerate(tqdm(ch_list[name], desc=\"Creating embeddings\")):\n",
    "    data.append({\"id\": i, \"vector\": emb[name][i], \"text\": _text(ch_list[name][i]), })\n",
    "\n",
    "milvus_client.insert(collection_name=collection_name, data=data)"
   ]
  },
  {
   "cell_type": "code",
   "execution_count": 30,
   "id": "5a7d2aa6",
   "metadata": {},
   "outputs": [
    {
     "data": {
      "application/vnd.jupyter.widget-view+json": {
       "model_id": "2c32e464da8a43e78963a1ee1a42986e",
       "version_major": 2,
       "version_minor": 0
      },
      "text/plain": [
       "0it [00:00, ?it/s]"
      ]
     },
     "metadata": {},
     "output_type": "display_data"
    }
   ],
   "source": [
    "dataset[name] =  get_datasamples(questions, \n",
    "                            answers, \n",
    "                            milvus_client, \n",
    "                            collection_name, \n",
    "                            embedding=lambda q: OpenAIEmbeddings().embed_query(q), \n",
    "                            llm = llm,\n",
    "                            top_k=10)\n"
   ]
  },
  {
   "cell_type": "code",
   "execution_count": 31,
   "id": "a03d7ce6",
   "metadata": {},
   "outputs": [
    {
     "data": {
      "application/vnd.jupyter.widget-view+json": {
       "model_id": "a2b59fa22cc94f7188fbf7b5b35acee0",
       "version_major": 2,
       "version_minor": 0
      },
      "text/plain": [
       "Evaluating:   0%|          | 0/210 [00:00<?, ?it/s]"
      ]
     },
     "metadata": {},
     "output_type": "display_data"
    },
    {
     "name": "stderr",
     "output_type": "stream",
     "text": [
      "No statements were generated from the answer.\n",
      "No statements were generated from the answer.\n",
      "No statements were generated from the answer.\n",
      "No statements were generated from the answer.\n",
      "No statements were generated from the answer.\n",
      "No statements were generated from the answer.\n",
      "No statements were generated from the answer.\n",
      "No statements were generated from the answer.\n",
      "Failed to parse output. Returning None.\n",
      "No statements were generated from the answer.\n",
      "No statements were generated from the answer.\n",
      "No statements were generated from the answer.\n",
      "No statements were generated from the answer.\n",
      "No statements were generated from the answer.\n",
      "No statements were generated from the answer.\n",
      "No statements were generated from the answer.\n",
      "No statements were generated from the answer.\n",
      "No statements were generated from the answer.\n",
      "No statements were generated from the answer.\n"
     ]
    }
   ],
   "source": [
    "nest_asyncio.apply()\n",
    "\n",
    "#query_engine_bge = build_query_engine(hf_bge, documents)\n",
    "result[name] = evaluate(dataset[name], metrics, llm=llm,  raise_exceptions=False, embeddings=OpenAIEmbeddings())"
   ]
  },
  {
   "cell_type": "markdown",
   "id": "930b2109",
   "metadata": {},
   "source": [
    "#### LLM chunking"
   ]
  },
  {
   "cell_type": "code",
   "execution_count": 32,
   "id": "bbba037b",
   "metadata": {},
   "outputs": [],
   "source": [
    "name = 'llm'\n",
    "emb[name], _, ch_list[name] = get_embs(article_propositions, embedding=OpenAIEmbeddings(),  question=False) "
   ]
  },
  {
   "cell_type": "code",
   "execution_count": 33,
   "id": "8decc2f8",
   "metadata": {},
   "outputs": [
    {
     "data": {
      "text/plain": [
       "(67, 1536)"
      ]
     },
     "execution_count": 33,
     "metadata": {},
     "output_type": "execute_result"
    }
   ],
   "source": [
    "len(emb[name]), len(emb[name][0])"
   ]
  },
  {
   "cell_type": "code",
   "execution_count": 34,
   "id": "f1cd1bcd",
   "metadata": {},
   "outputs": [
    {
     "name": "stdout",
     "output_type": "stream",
     "text": [
      "dimension 1536\n"
     ]
    }
   ],
   "source": [
    "collection_name = f\"ai4mat_OpenAiEmb_{name}\"\n",
    "\n",
    "if milvus_client.has_collection(collection_name):\n",
    "    milvus_client.drop_collection(collection_name)\n",
    "\n",
    "milvus_client.create_collection(\n",
    "    collection_name=collection_name,\n",
    "    dimension=len(emb[name][0]),    # emb dimension\n",
    "    metric_type=\"IP\",            # Inner product distance\n",
    "    consistency_level=\"Strong\",  # Strong consistency level\n",
    "    )\n",
    "print(\"dimension\",len(emb[name][0]))"
   ]
  },
  {
   "cell_type": "code",
   "execution_count": 35,
   "id": "c43e4f9e",
   "metadata": {},
   "outputs": [
    {
     "name": "stderr",
     "output_type": "stream",
     "text": [
      "Creating embeddings: 100%|███████████████████████████| 67/67 [00:00<00:00, 124069.92it/s]\n"
     ]
    },
    {
     "data": {
      "text/plain": [
       "{'insert_count': 67,\n",
       " 'ids': [0, 1, 2, 3, 4, 5, 6, 7, 8, 9, 10, 11, 12, 13, 14, 15, 16, 17, 18, 19, 20, 21, 22, 23, 24, 25, 26, 27, 28, 29, 30, 31, 32, 33, 34, 35, 36, 37, 38, 39, 40, 41, 42, 43, 44, 45, 46, 47, 48, 49, 50, 51, 52, 53, 54, 55, 56, 57, 58, 59, 60, 61, 62, 63, 64, 65, 66],\n",
       " 'cost': 0}"
      ]
     },
     "execution_count": 35,
     "metadata": {},
     "output_type": "execute_result"
    }
   ],
   "source": [
    "data = []\n",
    "\n",
    "for i, line in enumerate(tqdm(ch_list[name], desc=\"Creating embeddings\")):\n",
    "    data.append({\"id\": i, \"vector\": emb[name][i], \"text\": _text(ch_list[name][i]), })\n",
    "\n",
    "milvus_client.insert(collection_name=collection_name, data=data)"
   ]
  },
  {
   "cell_type": "code",
   "execution_count": 36,
   "id": "e816ed9b",
   "metadata": {},
   "outputs": [
    {
     "data": {
      "application/vnd.jupyter.widget-view+json": {
       "model_id": "0de29adede114fbd844c6a99a539eaee",
       "version_major": 2,
       "version_minor": 0
      },
      "text/plain": [
       "0it [00:00, ?it/s]"
      ]
     },
     "metadata": {},
     "output_type": "display_data"
    }
   ],
   "source": [
    "dataset[name] =  get_datasamples(questions, \n",
    "                            answers, \n",
    "                            milvus_client, \n",
    "                            collection_name, \n",
    "                            embedding=lambda q: OpenAIEmbeddings().embed_query(q), \n",
    "                            llm = llm,\n",
    "                            top_k=10)\n"
   ]
  },
  {
   "cell_type": "code",
   "execution_count": 37,
   "id": "5f83b9d5",
   "metadata": {},
   "outputs": [
    {
     "data": {
      "application/vnd.jupyter.widget-view+json": {
       "model_id": "e7a96fe3d9b5458cb9d017e47db1ec6e",
       "version_major": 2,
       "version_minor": 0
      },
      "text/plain": [
       "Evaluating:   0%|          | 0/210 [00:00<?, ?it/s]"
      ]
     },
     "metadata": {},
     "output_type": "display_data"
    },
    {
     "name": "stderr",
     "output_type": "stream",
     "text": [
      "No statements were generated from the answer.\n",
      "No statements were generated from the answer.\n",
      "No statements were generated from the answer.\n",
      "No statements were generated from the answer.\n",
      "No statements were generated from the answer.\n",
      "No statements were generated from the answer.\n",
      "No statements were generated from the answer.\n",
      "No statements were generated from the answer.\n",
      "No statements were generated from the answer.\n",
      "No statements were generated from the answer.\n",
      "No statements were generated from the answer.\n",
      "No statements were generated from the answer.\n",
      "No statements were generated from the answer.\n",
      "No statements were generated from the answer.\n",
      "No statements were generated from the answer.\n",
      "No statements were generated from the answer.\n",
      "No statements were generated from the answer.\n",
      "No statements were generated from the answer.\n",
      "No statements were generated from the answer.\n",
      "Failed to parse output. Returning None.\n",
      "No statements were generated from the answer.\n"
     ]
    }
   ],
   "source": [
    "nest_asyncio.apply()\n",
    "\n",
    "#query_engine_bge = build_query_engine(hf_bge, documents)\n",
    "result[name] = evaluate(dataset[name], metrics, llm=llm,  raise_exceptions=False, embeddings=OpenAIEmbeddings())"
   ]
  },
  {
   "cell_type": "markdown",
   "id": "3ad941ce",
   "metadata": {},
   "source": [
    "### Use Markdown files"
   ]
  },
  {
   "cell_type": "code",
   "execution_count": 38,
   "id": "9ac88fa8",
   "metadata": {},
   "outputs": [],
   "source": [
    "import pathlib, pathlib\n",
    "\n",
    "def pdf2md(pdf_file):\n",
    "    \"\"\"\n",
    "    Convert a PDF file to Markdown\n",
    "    \"\"\"\n",
    "    \n",
    "    md_file = pdf_file.replace('.pdf', '.md')\n",
    "    if not pathlib.Path(md_file).exists():\n",
    "        md_text = pymupdf4llm.to_markdown(pdf_file)\n",
    "        # now work with the markdown text, e.g. store as a UTF8-encoded file\n",
    "        pathlib.Path(md_file).write_bytes(md_text.encode())\n",
    "    return md_file"
   ]
  },
  {
   "cell_type": "code",
   "execution_count": 39,
   "id": "77f1f879",
   "metadata": {},
   "outputs": [],
   "source": [
    "article_md = []\n",
    "\n",
    "for pdf_file in pdf_list:\n",
    "    md_file = pdf2md(pdf_file)\n",
    "    d = TextLoader(md_file).load()\n",
    "    text =  d[0].page_content.split('\\n\\n')\n",
    "    article_md += [Documets(page_content=a, metadata=d[0].metadata) for a in text]"
   ]
  },
  {
   "cell_type": "code",
   "execution_count": 40,
   "id": "3dc97fa8",
   "metadata": {},
   "outputs": [
    {
     "data": {
      "text/plain": [
       "187"
      ]
     },
     "execution_count": 40,
     "metadata": {},
     "output_type": "execute_result"
    }
   ],
   "source": [
    "len(article_md)"
   ]
  },
  {
   "cell_type": "markdown",
   "id": "041fd25e",
   "metadata": {},
   "source": [
    "#### Markdown chunking"
   ]
  },
  {
   "cell_type": "code",
   "execution_count": 41,
   "id": "57942009",
   "metadata": {},
   "outputs": [],
   "source": [
    "name = 'markdown'\n",
    "emb[name], _, ch_list[name] = get_embs(article_md, embedding=OpenAIEmbeddings(),  question=False) "
   ]
  },
  {
   "cell_type": "code",
   "execution_count": 42,
   "id": "b865e18a",
   "metadata": {},
   "outputs": [
    {
     "data": {
      "text/plain": [
       "(187, 1536)"
      ]
     },
     "execution_count": 42,
     "metadata": {},
     "output_type": "execute_result"
    }
   ],
   "source": [
    "len(emb[name]), len(emb[name][0])"
   ]
  },
  {
   "cell_type": "code",
   "execution_count": 43,
   "id": "febc2ddb",
   "metadata": {},
   "outputs": [
    {
     "name": "stdout",
     "output_type": "stream",
     "text": [
      "dimension 1536\n"
     ]
    }
   ],
   "source": [
    "collection_name = f\"ai4mat_OpenAiEmb_{name}\"\n",
    "\n",
    "if milvus_client.has_collection(collection_name):\n",
    "    milvus_client.drop_collection(collection_name)\n",
    "\n",
    "milvus_client.create_collection(\n",
    "    collection_name=collection_name,\n",
    "    dimension=len(emb[name][0]),    # emb dimension\n",
    "    metric_type=\"IP\",            # Inner product distance\n",
    "    consistency_level=\"Strong\",  # Strong consistency level\n",
    "    )\n",
    "print(\"dimension\",len(emb[name][0]))"
   ]
  },
  {
   "cell_type": "code",
   "execution_count": 44,
   "id": "38bb708e",
   "metadata": {},
   "outputs": [
    {
     "name": "stderr",
     "output_type": "stream",
     "text": [
      "Creating embeddings: 100%|█████████████████████████| 187/187 [00:00<00:00, 117327.58it/s]\n"
     ]
    },
    {
     "data": {
      "text/plain": [
       "{'insert_count': 187,\n",
       " 'ids': [0, 1, 2, 3, 4, 5, 6, 7, 8, 9, 10, 11, 12, 13, 14, 15, 16, 17, 18, 19, 20, 21, 22, 23, 24, 25, 26, 27, 28, 29, 30, 31, 32, 33, 34, 35, 36, 37, 38, 39, 40, 41, 42, 43, 44, 45, 46, 47, 48, 49, 50, 51, 52, 53, 54, 55, 56, 57, 58, 59, 60, 61, 62, 63, 64, 65, 66, 67, 68, 69, 70, 71, 72, 73, 74, 75, 76, 77, 78, 79, 80, 81, 82, 83, 84, 85, 86, 87, 88, 89, 90, 91, 92, 93, 94, 95, 96, 97, 98, 99, 100, 101, 102, 103, 104, 105, 106, 107, 108, 109, 110, 111, 112, 113, 114, 115, 116, 117, 118, 119, 120, 121, 122, 123, 124, 125, 126, 127, 128, 129, 130, 131, 132, 133, 134, 135, 136, 137, 138, 139, 140, 141, 142, 143, 144, 145, 146, 147, 148, 149, 150, 151, 152, 153, 154, 155, 156, 157, 158, 159, 160, 161, 162, 163, 164, 165, 166, 167, 168, 169, 170, 171, 172, 173, 174, 175, 176, 177, 178, 179, 180, 181, 182, 183, 184, 185, 186],\n",
       " 'cost': 0}"
      ]
     },
     "execution_count": 44,
     "metadata": {},
     "output_type": "execute_result"
    }
   ],
   "source": [
    "data = []\n",
    "\n",
    "for i, line in enumerate(tqdm(ch_list[name], desc=\"Creating embeddings\")):\n",
    "    data.append({\"id\": i, \"vector\": emb[name][i], \"text\": _text(ch_list[name][i]), })\n",
    "\n",
    "milvus_client.insert(collection_name=collection_name, data=data)"
   ]
  },
  {
   "cell_type": "code",
   "execution_count": 47,
   "id": "e6cc95c6",
   "metadata": {},
   "outputs": [
    {
     "data": {
      "application/vnd.jupyter.widget-view+json": {
       "model_id": "825c5473b4014244ad5c6bce739f3908",
       "version_major": 2,
       "version_minor": 0
      },
      "text/plain": [
       "0it [00:00, ?it/s]"
      ]
     },
     "metadata": {},
     "output_type": "display_data"
    },
    {
     "name": "stderr",
     "output_type": "stream",
     "text": [
      "\u001b[93m[search] retry:4, cost: 0.27s, reason: <_InactiveRpcError: StatusCode.UNAVAILABLE, failed to connect to all addresses; last error: UNKNOWN: unix:/tmp/tmpg89ynw21_milvus_demo.db.sock: Connection refused>\u001b[0m\n",
      "\u001b[93m[search] retry:5, cost: 0.81s, reason: <_InactiveRpcError: StatusCode.UNAVAILABLE, failed to connect to all addresses; last error: UNKNOWN: unix:/tmp/tmpg89ynw21_milvus_demo.db.sock: Connection refused>\u001b[0m\n",
      "\u001b[93m[search] retry:6, cost: 2.43s, reason: <_InactiveRpcError: StatusCode.UNAVAILABLE, failed to connect to all addresses; last error: UNKNOWN: unix:/tmp/tmpg89ynw21_milvus_demo.db.sock: Connection refused>\u001b[0m\n",
      "\u001b[93m[search] retry:7, cost: 3.00s, reason: <_InactiveRpcError: StatusCode.UNAVAILABLE, failed to connect to all addresses; last error: UNKNOWN: unix:/tmp/tmpg89ynw21_milvus_demo.db.sock: Connection refused>\u001b[0m\n",
      "\u001b[93m[search] retry:8, cost: 3.00s, reason: <_InactiveRpcError: StatusCode.UNAVAILABLE, failed to connect to all addresses; last error: UNKNOWN: unix:/tmp/tmpg89ynw21_milvus_demo.db.sock: Connection refused>\u001b[0m\n",
      "\u001b[93m[search] retry:9, cost: 3.00s, reason: <_InactiveRpcError: StatusCode.UNAVAILABLE, failed to connect to all addresses; last error: UNKNOWN: unix:/tmp/tmpg89ynw21_milvus_demo.db.sock: Connection refused>\u001b[0m\n",
      "\u001b[93m[search] retry:10, cost: 3.00s, reason: <_InactiveRpcError: StatusCode.UNAVAILABLE, failed to connect to all addresses; last error: UNKNOWN: unix:/tmp/tmpg89ynw21_milvus_demo.db.sock: Connection refused>\u001b[0m\n"
     ]
    },
    {
     "ename": "KeyboardInterrupt",
     "evalue": "",
     "output_type": "error",
     "traceback": [
      "\u001b[0;31m---------------------------------------------------------------------------\u001b[0m",
      "\u001b[0;31m_InactiveRpcError\u001b[0m                         Traceback (most recent call last)",
      "File \u001b[0;32m~/miniconda3/envs/llm/lib/python3.10/site-packages/pymilvus/decorators.py:87\u001b[0m, in \u001b[0;36mretry_on_rpc_failure.<locals>.wrapper.<locals>.handler\u001b[0;34m(*args, **kwargs)\u001b[0m\n\u001b[1;32m     86\u001b[0m \u001b[38;5;28;01mtry\u001b[39;00m:\n\u001b[0;32m---> 87\u001b[0m     \u001b[38;5;28;01mreturn\u001b[39;00m \u001b[43mfunc\u001b[49m\u001b[43m(\u001b[49m\u001b[38;5;241;43m*\u001b[39;49m\u001b[43margs\u001b[49m\u001b[43m,\u001b[49m\u001b[43m \u001b[49m\u001b[38;5;241;43m*\u001b[39;49m\u001b[38;5;241;43m*\u001b[39;49m\u001b[43mkwargs\u001b[49m\u001b[43m)\u001b[49m\n\u001b[1;32m     88\u001b[0m \u001b[38;5;28;01mexcept\u001b[39;00m grpc\u001b[38;5;241m.\u001b[39mRpcError \u001b[38;5;28;01mas\u001b[39;00m e:\n\u001b[1;32m     89\u001b[0m     \u001b[38;5;66;03m# Do not retry on these codes\u001b[39;00m\n",
      "File \u001b[0;32m~/miniconda3/envs/llm/lib/python3.10/site-packages/pymilvus/client/grpc_handler.py:801\u001b[0m, in \u001b[0;36mGrpcHandler.search\u001b[0;34m(self, collection_name, data, anns_field, param, limit, expression, partition_names, output_fields, round_decimal, timeout, **kwargs)\u001b[0m\n\u001b[1;32m    789\u001b[0m request \u001b[38;5;241m=\u001b[39m Prepare\u001b[38;5;241m.\u001b[39msearch_requests_with_expr(\n\u001b[1;32m    790\u001b[0m     collection_name,\n\u001b[1;32m    791\u001b[0m     data,\n\u001b[0;32m   (...)\u001b[0m\n\u001b[1;32m    799\u001b[0m     \u001b[38;5;241m*\u001b[39m\u001b[38;5;241m*\u001b[39mkwargs,\n\u001b[1;32m    800\u001b[0m )\n\u001b[0;32m--> 801\u001b[0m \u001b[38;5;28;01mreturn\u001b[39;00m \u001b[38;5;28;43mself\u001b[39;49m\u001b[38;5;241;43m.\u001b[39;49m\u001b[43m_execute_search\u001b[49m\u001b[43m(\u001b[49m\u001b[43mrequest\u001b[49m\u001b[43m,\u001b[49m\u001b[43m \u001b[49m\u001b[43mtimeout\u001b[49m\u001b[43m,\u001b[49m\u001b[43m \u001b[49m\u001b[43mround_decimal\u001b[49m\u001b[38;5;241;43m=\u001b[39;49m\u001b[43mround_decimal\u001b[49m\u001b[43m,\u001b[49m\u001b[43m \u001b[49m\u001b[38;5;241;43m*\u001b[39;49m\u001b[38;5;241;43m*\u001b[39;49m\u001b[43mkwargs\u001b[49m\u001b[43m)\u001b[49m\n",
      "File \u001b[0;32m~/miniconda3/envs/llm/lib/python3.10/site-packages/pymilvus/client/grpc_handler.py:742\u001b[0m, in \u001b[0;36mGrpcHandler._execute_search\u001b[0;34m(self, request, timeout, **kwargs)\u001b[0m\n\u001b[1;32m    741\u001b[0m     \u001b[38;5;28;01mreturn\u001b[39;00m SearchFuture(\u001b[38;5;28;01mNone\u001b[39;00m, \u001b[38;5;28;01mNone\u001b[39;00m, e)\n\u001b[0;32m--> 742\u001b[0m \u001b[38;5;28;01mraise\u001b[39;00m e \u001b[38;5;28;01mfrom\u001b[39;00m \u001b[38;5;21;01me\u001b[39;00m\n",
      "File \u001b[0;32m~/miniconda3/envs/llm/lib/python3.10/site-packages/pymilvus/client/grpc_handler.py:734\u001b[0m, in \u001b[0;36mGrpcHandler._execute_search\u001b[0;34m(self, request, timeout, **kwargs)\u001b[0m\n\u001b[1;32m    732\u001b[0m     \u001b[38;5;28;01mreturn\u001b[39;00m SearchFuture(future, func)\n\u001b[0;32m--> 734\u001b[0m response \u001b[38;5;241m=\u001b[39m \u001b[38;5;28;43mself\u001b[39;49m\u001b[38;5;241;43m.\u001b[39;49m\u001b[43m_stub\u001b[49m\u001b[38;5;241;43m.\u001b[39;49m\u001b[43mSearch\u001b[49m\u001b[43m(\u001b[49m\u001b[43mrequest\u001b[49m\u001b[43m,\u001b[49m\u001b[43m \u001b[49m\u001b[43mtimeout\u001b[49m\u001b[38;5;241;43m=\u001b[39;49m\u001b[43mtimeout\u001b[49m\u001b[43m)\u001b[49m\n\u001b[1;32m    735\u001b[0m check_status(response\u001b[38;5;241m.\u001b[39mstatus)\n",
      "File \u001b[0;32m~/miniconda3/envs/llm/lib/python3.10/site-packages/grpc/_interceptor.py:277\u001b[0m, in \u001b[0;36m_UnaryUnaryMultiCallable.__call__\u001b[0;34m(self, request, timeout, metadata, credentials, wait_for_ready, compression)\u001b[0m\n\u001b[1;32m    268\u001b[0m \u001b[38;5;28;01mdef\u001b[39;00m \u001b[38;5;21m__call__\u001b[39m(\n\u001b[1;32m    269\u001b[0m     \u001b[38;5;28mself\u001b[39m,\n\u001b[1;32m    270\u001b[0m     request: Any,\n\u001b[0;32m   (...)\u001b[0m\n\u001b[1;32m    275\u001b[0m     compression: Optional[grpc\u001b[38;5;241m.\u001b[39mCompression] \u001b[38;5;241m=\u001b[39m \u001b[38;5;28;01mNone\u001b[39;00m,\n\u001b[1;32m    276\u001b[0m ) \u001b[38;5;241m-\u001b[39m\u001b[38;5;241m>\u001b[39m Any:\n\u001b[0;32m--> 277\u001b[0m     response, ignored_call \u001b[38;5;241m=\u001b[39m \u001b[38;5;28;43mself\u001b[39;49m\u001b[38;5;241;43m.\u001b[39;49m\u001b[43m_with_call\u001b[49m\u001b[43m(\u001b[49m\n\u001b[1;32m    278\u001b[0m \u001b[43m        \u001b[49m\u001b[43mrequest\u001b[49m\u001b[43m,\u001b[49m\n\u001b[1;32m    279\u001b[0m \u001b[43m        \u001b[49m\u001b[43mtimeout\u001b[49m\u001b[38;5;241;43m=\u001b[39;49m\u001b[43mtimeout\u001b[49m\u001b[43m,\u001b[49m\n\u001b[1;32m    280\u001b[0m \u001b[43m        \u001b[49m\u001b[43mmetadata\u001b[49m\u001b[38;5;241;43m=\u001b[39;49m\u001b[43mmetadata\u001b[49m\u001b[43m,\u001b[49m\n\u001b[1;32m    281\u001b[0m \u001b[43m        \u001b[49m\u001b[43mcredentials\u001b[49m\u001b[38;5;241;43m=\u001b[39;49m\u001b[43mcredentials\u001b[49m\u001b[43m,\u001b[49m\n\u001b[1;32m    282\u001b[0m \u001b[43m        \u001b[49m\u001b[43mwait_for_ready\u001b[49m\u001b[38;5;241;43m=\u001b[39;49m\u001b[43mwait_for_ready\u001b[49m\u001b[43m,\u001b[49m\n\u001b[1;32m    283\u001b[0m \u001b[43m        \u001b[49m\u001b[43mcompression\u001b[49m\u001b[38;5;241;43m=\u001b[39;49m\u001b[43mcompression\u001b[49m\u001b[43m,\u001b[49m\n\u001b[1;32m    284\u001b[0m \u001b[43m    \u001b[49m\u001b[43m)\u001b[49m\n\u001b[1;32m    285\u001b[0m     \u001b[38;5;28;01mreturn\u001b[39;00m response\n",
      "File \u001b[0;32m~/miniconda3/envs/llm/lib/python3.10/site-packages/grpc/_interceptor.py:332\u001b[0m, in \u001b[0;36m_UnaryUnaryMultiCallable._with_call\u001b[0;34m(self, request, timeout, metadata, credentials, wait_for_ready, compression)\u001b[0m\n\u001b[1;32m    329\u001b[0m call \u001b[38;5;241m=\u001b[39m \u001b[38;5;28mself\u001b[39m\u001b[38;5;241m.\u001b[39m_interceptor\u001b[38;5;241m.\u001b[39mintercept_unary_unary(\n\u001b[1;32m    330\u001b[0m     continuation, client_call_details, request\n\u001b[1;32m    331\u001b[0m )\n\u001b[0;32m--> 332\u001b[0m \u001b[38;5;28;01mreturn\u001b[39;00m \u001b[43mcall\u001b[49m\u001b[38;5;241;43m.\u001b[39;49m\u001b[43mresult\u001b[49m\u001b[43m(\u001b[49m\u001b[43m)\u001b[49m, call\n",
      "File \u001b[0;32m~/miniconda3/envs/llm/lib/python3.10/site-packages/grpc/_channel.py:439\u001b[0m, in \u001b[0;36m_InactiveRpcError.result\u001b[0;34m(self, timeout)\u001b[0m\n\u001b[1;32m    438\u001b[0m \u001b[38;5;250m\u001b[39m\u001b[38;5;124;03m\"\"\"See grpc.Future.result.\"\"\"\u001b[39;00m\n\u001b[0;32m--> 439\u001b[0m \u001b[38;5;28;01mraise\u001b[39;00m \u001b[38;5;28mself\u001b[39m\n",
      "File \u001b[0;32m~/miniconda3/envs/llm/lib/python3.10/site-packages/grpc/_interceptor.py:315\u001b[0m, in \u001b[0;36m_UnaryUnaryMultiCallable._with_call.<locals>.continuation\u001b[0;34m(new_details, request)\u001b[0m\n\u001b[1;32m    314\u001b[0m \u001b[38;5;28;01mtry\u001b[39;00m:\n\u001b[0;32m--> 315\u001b[0m     response, call \u001b[38;5;241m=\u001b[39m \u001b[38;5;28;43mself\u001b[39;49m\u001b[38;5;241;43m.\u001b[39;49m\u001b[43m_thunk\u001b[49m\u001b[43m(\u001b[49m\u001b[43mnew_method\u001b[49m\u001b[43m)\u001b[49m\u001b[38;5;241;43m.\u001b[39;49m\u001b[43mwith_call\u001b[49m\u001b[43m(\u001b[49m\n\u001b[1;32m    316\u001b[0m \u001b[43m        \u001b[49m\u001b[43mrequest\u001b[49m\u001b[43m,\u001b[49m\n\u001b[1;32m    317\u001b[0m \u001b[43m        \u001b[49m\u001b[43mtimeout\u001b[49m\u001b[38;5;241;43m=\u001b[39;49m\u001b[43mnew_timeout\u001b[49m\u001b[43m,\u001b[49m\n\u001b[1;32m    318\u001b[0m \u001b[43m        \u001b[49m\u001b[43mmetadata\u001b[49m\u001b[38;5;241;43m=\u001b[39;49m\u001b[43mnew_metadata\u001b[49m\u001b[43m,\u001b[49m\n\u001b[1;32m    319\u001b[0m \u001b[43m        \u001b[49m\u001b[43mcredentials\u001b[49m\u001b[38;5;241;43m=\u001b[39;49m\u001b[43mnew_credentials\u001b[49m\u001b[43m,\u001b[49m\n\u001b[1;32m    320\u001b[0m \u001b[43m        \u001b[49m\u001b[43mwait_for_ready\u001b[49m\u001b[38;5;241;43m=\u001b[39;49m\u001b[43mnew_wait_for_ready\u001b[49m\u001b[43m,\u001b[49m\n\u001b[1;32m    321\u001b[0m \u001b[43m        \u001b[49m\u001b[43mcompression\u001b[49m\u001b[38;5;241;43m=\u001b[39;49m\u001b[43mnew_compression\u001b[49m\u001b[43m,\u001b[49m\n\u001b[1;32m    322\u001b[0m \u001b[43m    \u001b[49m\u001b[43m)\u001b[49m\n\u001b[1;32m    323\u001b[0m     \u001b[38;5;28;01mreturn\u001b[39;00m _UnaryOutcome(response, call)\n",
      "File \u001b[0;32m~/miniconda3/envs/llm/lib/python3.10/site-packages/grpc/_interceptor.py:343\u001b[0m, in \u001b[0;36m_UnaryUnaryMultiCallable.with_call\u001b[0;34m(self, request, timeout, metadata, credentials, wait_for_ready, compression)\u001b[0m\n\u001b[1;32m    334\u001b[0m \u001b[38;5;28;01mdef\u001b[39;00m \u001b[38;5;21mwith_call\u001b[39m(\n\u001b[1;32m    335\u001b[0m     \u001b[38;5;28mself\u001b[39m,\n\u001b[1;32m    336\u001b[0m     request: Any,\n\u001b[0;32m   (...)\u001b[0m\n\u001b[1;32m    341\u001b[0m     compression: Optional[grpc\u001b[38;5;241m.\u001b[39mCompression] \u001b[38;5;241m=\u001b[39m \u001b[38;5;28;01mNone\u001b[39;00m,\n\u001b[1;32m    342\u001b[0m ) \u001b[38;5;241m-\u001b[39m\u001b[38;5;241m>\u001b[39m Tuple[Any, grpc\u001b[38;5;241m.\u001b[39mCall]:\n\u001b[0;32m--> 343\u001b[0m     \u001b[38;5;28;01mreturn\u001b[39;00m \u001b[38;5;28;43mself\u001b[39;49m\u001b[38;5;241;43m.\u001b[39;49m\u001b[43m_with_call\u001b[49m\u001b[43m(\u001b[49m\n\u001b[1;32m    344\u001b[0m \u001b[43m        \u001b[49m\u001b[43mrequest\u001b[49m\u001b[43m,\u001b[49m\n\u001b[1;32m    345\u001b[0m \u001b[43m        \u001b[49m\u001b[43mtimeout\u001b[49m\u001b[38;5;241;43m=\u001b[39;49m\u001b[43mtimeout\u001b[49m\u001b[43m,\u001b[49m\n\u001b[1;32m    346\u001b[0m \u001b[43m        \u001b[49m\u001b[43mmetadata\u001b[49m\u001b[38;5;241;43m=\u001b[39;49m\u001b[43mmetadata\u001b[49m\u001b[43m,\u001b[49m\n\u001b[1;32m    347\u001b[0m \u001b[43m        \u001b[49m\u001b[43mcredentials\u001b[49m\u001b[38;5;241;43m=\u001b[39;49m\u001b[43mcredentials\u001b[49m\u001b[43m,\u001b[49m\n\u001b[1;32m    348\u001b[0m \u001b[43m        \u001b[49m\u001b[43mwait_for_ready\u001b[49m\u001b[38;5;241;43m=\u001b[39;49m\u001b[43mwait_for_ready\u001b[49m\u001b[43m,\u001b[49m\n\u001b[1;32m    349\u001b[0m \u001b[43m        \u001b[49m\u001b[43mcompression\u001b[49m\u001b[38;5;241;43m=\u001b[39;49m\u001b[43mcompression\u001b[49m\u001b[43m,\u001b[49m\n\u001b[1;32m    350\u001b[0m \u001b[43m    \u001b[49m\u001b[43m)\u001b[49m\n",
      "File \u001b[0;32m~/miniconda3/envs/llm/lib/python3.10/site-packages/grpc/_interceptor.py:332\u001b[0m, in \u001b[0;36m_UnaryUnaryMultiCallable._with_call\u001b[0;34m(self, request, timeout, metadata, credentials, wait_for_ready, compression)\u001b[0m\n\u001b[1;32m    329\u001b[0m call \u001b[38;5;241m=\u001b[39m \u001b[38;5;28mself\u001b[39m\u001b[38;5;241m.\u001b[39m_interceptor\u001b[38;5;241m.\u001b[39mintercept_unary_unary(\n\u001b[1;32m    330\u001b[0m     continuation, client_call_details, request\n\u001b[1;32m    331\u001b[0m )\n\u001b[0;32m--> 332\u001b[0m \u001b[38;5;28;01mreturn\u001b[39;00m \u001b[43mcall\u001b[49m\u001b[38;5;241;43m.\u001b[39;49m\u001b[43mresult\u001b[49m\u001b[43m(\u001b[49m\u001b[43m)\u001b[49m, call\n",
      "File \u001b[0;32m~/miniconda3/envs/llm/lib/python3.10/site-packages/grpc/_channel.py:439\u001b[0m, in \u001b[0;36m_InactiveRpcError.result\u001b[0;34m(self, timeout)\u001b[0m\n\u001b[1;32m    438\u001b[0m \u001b[38;5;250m\u001b[39m\u001b[38;5;124;03m\"\"\"See grpc.Future.result.\"\"\"\u001b[39;00m\n\u001b[0;32m--> 439\u001b[0m \u001b[38;5;28;01mraise\u001b[39;00m \u001b[38;5;28mself\u001b[39m\n",
      "File \u001b[0;32m~/miniconda3/envs/llm/lib/python3.10/site-packages/grpc/_interceptor.py:315\u001b[0m, in \u001b[0;36m_UnaryUnaryMultiCallable._with_call.<locals>.continuation\u001b[0;34m(new_details, request)\u001b[0m\n\u001b[1;32m    314\u001b[0m \u001b[38;5;28;01mtry\u001b[39;00m:\n\u001b[0;32m--> 315\u001b[0m     response, call \u001b[38;5;241m=\u001b[39m \u001b[38;5;28;43mself\u001b[39;49m\u001b[38;5;241;43m.\u001b[39;49m\u001b[43m_thunk\u001b[49m\u001b[43m(\u001b[49m\u001b[43mnew_method\u001b[49m\u001b[43m)\u001b[49m\u001b[38;5;241;43m.\u001b[39;49m\u001b[43mwith_call\u001b[49m\u001b[43m(\u001b[49m\n\u001b[1;32m    316\u001b[0m \u001b[43m        \u001b[49m\u001b[43mrequest\u001b[49m\u001b[43m,\u001b[49m\n\u001b[1;32m    317\u001b[0m \u001b[43m        \u001b[49m\u001b[43mtimeout\u001b[49m\u001b[38;5;241;43m=\u001b[39;49m\u001b[43mnew_timeout\u001b[49m\u001b[43m,\u001b[49m\n\u001b[1;32m    318\u001b[0m \u001b[43m        \u001b[49m\u001b[43mmetadata\u001b[49m\u001b[38;5;241;43m=\u001b[39;49m\u001b[43mnew_metadata\u001b[49m\u001b[43m,\u001b[49m\n\u001b[1;32m    319\u001b[0m \u001b[43m        \u001b[49m\u001b[43mcredentials\u001b[49m\u001b[38;5;241;43m=\u001b[39;49m\u001b[43mnew_credentials\u001b[49m\u001b[43m,\u001b[49m\n\u001b[1;32m    320\u001b[0m \u001b[43m        \u001b[49m\u001b[43mwait_for_ready\u001b[49m\u001b[38;5;241;43m=\u001b[39;49m\u001b[43mnew_wait_for_ready\u001b[49m\u001b[43m,\u001b[49m\n\u001b[1;32m    321\u001b[0m \u001b[43m        \u001b[49m\u001b[43mcompression\u001b[49m\u001b[38;5;241;43m=\u001b[39;49m\u001b[43mnew_compression\u001b[49m\u001b[43m,\u001b[49m\n\u001b[1;32m    322\u001b[0m \u001b[43m    \u001b[49m\u001b[43m)\u001b[49m\n\u001b[1;32m    323\u001b[0m     \u001b[38;5;28;01mreturn\u001b[39;00m _UnaryOutcome(response, call)\n",
      "File \u001b[0;32m~/miniconda3/envs/llm/lib/python3.10/site-packages/grpc/_channel.py:1193\u001b[0m, in \u001b[0;36m_UnaryUnaryMultiCallable.with_call\u001b[0;34m(self, request, timeout, metadata, credentials, wait_for_ready, compression)\u001b[0m\n\u001b[1;32m   1187\u001b[0m (\n\u001b[1;32m   1188\u001b[0m     state,\n\u001b[1;32m   1189\u001b[0m     call,\n\u001b[1;32m   1190\u001b[0m ) \u001b[38;5;241m=\u001b[39m \u001b[38;5;28mself\u001b[39m\u001b[38;5;241m.\u001b[39m_blocking(\n\u001b[1;32m   1191\u001b[0m     request, timeout, metadata, credentials, wait_for_ready, compression\n\u001b[1;32m   1192\u001b[0m )\n\u001b[0;32m-> 1193\u001b[0m \u001b[38;5;28;01mreturn\u001b[39;00m \u001b[43m_end_unary_response_blocking\u001b[49m\u001b[43m(\u001b[49m\u001b[43mstate\u001b[49m\u001b[43m,\u001b[49m\u001b[43m \u001b[49m\u001b[43mcall\u001b[49m\u001b[43m,\u001b[49m\u001b[43m \u001b[49m\u001b[38;5;28;43;01mTrue\u001b[39;49;00m\u001b[43m,\u001b[49m\u001b[43m \u001b[49m\u001b[38;5;28;43;01mNone\u001b[39;49;00m\u001b[43m)\u001b[49m\n",
      "File \u001b[0;32m~/miniconda3/envs/llm/lib/python3.10/site-packages/grpc/_channel.py:1005\u001b[0m, in \u001b[0;36m_end_unary_response_blocking\u001b[0;34m(state, call, with_call, deadline)\u001b[0m\n\u001b[1;32m   1004\u001b[0m \u001b[38;5;28;01melse\u001b[39;00m:\n\u001b[0;32m-> 1005\u001b[0m     \u001b[38;5;28;01mraise\u001b[39;00m _InactiveRpcError(state)\n",
      "\u001b[0;31m_InactiveRpcError\u001b[0m: <_InactiveRpcError of RPC that terminated with:\n\tstatus = StatusCode.UNAVAILABLE\n\tdetails = \"failed to connect to all addresses; last error: UNKNOWN: unix:/tmp/tmpg89ynw21_milvus_demo.db.sock: Connection refused\"\n\tdebug_error_string = \"UNKNOWN:Error received from peer  {grpc_message:\"failed to connect to all addresses; last error: UNKNOWN: unix:/tmp/tmpg89ynw21_milvus_demo.db.sock: Connection refused\", grpc_status:14, created_time:\"2024-10-31T15:36:51.601288704+02:00\"}\"\n>",
      "\nThe above exception was the direct cause of the following exception:\n",
      "\u001b[0;31m_InactiveRpcError\u001b[0m                         Traceback (most recent call last)",
      "File \u001b[0;32m~/miniconda3/envs/llm/lib/python3.10/site-packages/pymilvus/decorators.py:87\u001b[0m, in \u001b[0;36mretry_on_rpc_failure.<locals>.wrapper.<locals>.handler\u001b[0;34m(*args, **kwargs)\u001b[0m\n\u001b[1;32m     86\u001b[0m \u001b[38;5;28;01mtry\u001b[39;00m:\n\u001b[0;32m---> 87\u001b[0m     \u001b[38;5;28;01mreturn\u001b[39;00m \u001b[43mfunc\u001b[49m\u001b[43m(\u001b[49m\u001b[38;5;241;43m*\u001b[39;49m\u001b[43margs\u001b[49m\u001b[43m,\u001b[49m\u001b[43m \u001b[49m\u001b[38;5;241;43m*\u001b[39;49m\u001b[38;5;241;43m*\u001b[39;49m\u001b[43mkwargs\u001b[49m\u001b[43m)\u001b[49m\n\u001b[1;32m     88\u001b[0m \u001b[38;5;28;01mexcept\u001b[39;00m grpc\u001b[38;5;241m.\u001b[39mRpcError \u001b[38;5;28;01mas\u001b[39;00m e:\n\u001b[1;32m     89\u001b[0m     \u001b[38;5;66;03m# Do not retry on these codes\u001b[39;00m\n",
      "File \u001b[0;32m~/miniconda3/envs/llm/lib/python3.10/site-packages/pymilvus/client/grpc_handler.py:801\u001b[0m, in \u001b[0;36mGrpcHandler.search\u001b[0;34m(self, collection_name, data, anns_field, param, limit, expression, partition_names, output_fields, round_decimal, timeout, **kwargs)\u001b[0m\n\u001b[1;32m    789\u001b[0m request \u001b[38;5;241m=\u001b[39m Prepare\u001b[38;5;241m.\u001b[39msearch_requests_with_expr(\n\u001b[1;32m    790\u001b[0m     collection_name,\n\u001b[1;32m    791\u001b[0m     data,\n\u001b[0;32m   (...)\u001b[0m\n\u001b[1;32m    799\u001b[0m     \u001b[38;5;241m*\u001b[39m\u001b[38;5;241m*\u001b[39mkwargs,\n\u001b[1;32m    800\u001b[0m )\n\u001b[0;32m--> 801\u001b[0m \u001b[38;5;28;01mreturn\u001b[39;00m \u001b[38;5;28;43mself\u001b[39;49m\u001b[38;5;241;43m.\u001b[39;49m\u001b[43m_execute_search\u001b[49m\u001b[43m(\u001b[49m\u001b[43mrequest\u001b[49m\u001b[43m,\u001b[49m\u001b[43m \u001b[49m\u001b[43mtimeout\u001b[49m\u001b[43m,\u001b[49m\u001b[43m \u001b[49m\u001b[43mround_decimal\u001b[49m\u001b[38;5;241;43m=\u001b[39;49m\u001b[43mround_decimal\u001b[49m\u001b[43m,\u001b[49m\u001b[43m \u001b[49m\u001b[38;5;241;43m*\u001b[39;49m\u001b[38;5;241;43m*\u001b[39;49m\u001b[43mkwargs\u001b[49m\u001b[43m)\u001b[49m\n",
      "File \u001b[0;32m~/miniconda3/envs/llm/lib/python3.10/site-packages/pymilvus/client/grpc_handler.py:742\u001b[0m, in \u001b[0;36mGrpcHandler._execute_search\u001b[0;34m(self, request, timeout, **kwargs)\u001b[0m\n\u001b[1;32m    741\u001b[0m     \u001b[38;5;28;01mreturn\u001b[39;00m SearchFuture(\u001b[38;5;28;01mNone\u001b[39;00m, \u001b[38;5;28;01mNone\u001b[39;00m, e)\n\u001b[0;32m--> 742\u001b[0m \u001b[38;5;28;01mraise\u001b[39;00m e \u001b[38;5;28;01mfrom\u001b[39;00m \u001b[38;5;21;01me\u001b[39;00m\n",
      "File \u001b[0;32m~/miniconda3/envs/llm/lib/python3.10/site-packages/pymilvus/client/grpc_handler.py:734\u001b[0m, in \u001b[0;36mGrpcHandler._execute_search\u001b[0;34m(self, request, timeout, **kwargs)\u001b[0m\n\u001b[1;32m    732\u001b[0m     \u001b[38;5;28;01mreturn\u001b[39;00m SearchFuture(future, func)\n\u001b[0;32m--> 734\u001b[0m response \u001b[38;5;241m=\u001b[39m \u001b[38;5;28;43mself\u001b[39;49m\u001b[38;5;241;43m.\u001b[39;49m\u001b[43m_stub\u001b[49m\u001b[38;5;241;43m.\u001b[39;49m\u001b[43mSearch\u001b[49m\u001b[43m(\u001b[49m\u001b[43mrequest\u001b[49m\u001b[43m,\u001b[49m\u001b[43m \u001b[49m\u001b[43mtimeout\u001b[49m\u001b[38;5;241;43m=\u001b[39;49m\u001b[43mtimeout\u001b[49m\u001b[43m)\u001b[49m\n\u001b[1;32m    735\u001b[0m check_status(response\u001b[38;5;241m.\u001b[39mstatus)\n",
      "File \u001b[0;32m~/miniconda3/envs/llm/lib/python3.10/site-packages/grpc/_interceptor.py:277\u001b[0m, in \u001b[0;36m_UnaryUnaryMultiCallable.__call__\u001b[0;34m(self, request, timeout, metadata, credentials, wait_for_ready, compression)\u001b[0m\n\u001b[1;32m    268\u001b[0m \u001b[38;5;28;01mdef\u001b[39;00m \u001b[38;5;21m__call__\u001b[39m(\n\u001b[1;32m    269\u001b[0m     \u001b[38;5;28mself\u001b[39m,\n\u001b[1;32m    270\u001b[0m     request: Any,\n\u001b[0;32m   (...)\u001b[0m\n\u001b[1;32m    275\u001b[0m     compression: Optional[grpc\u001b[38;5;241m.\u001b[39mCompression] \u001b[38;5;241m=\u001b[39m \u001b[38;5;28;01mNone\u001b[39;00m,\n\u001b[1;32m    276\u001b[0m ) \u001b[38;5;241m-\u001b[39m\u001b[38;5;241m>\u001b[39m Any:\n\u001b[0;32m--> 277\u001b[0m     response, ignored_call \u001b[38;5;241m=\u001b[39m \u001b[38;5;28;43mself\u001b[39;49m\u001b[38;5;241;43m.\u001b[39;49m\u001b[43m_with_call\u001b[49m\u001b[43m(\u001b[49m\n\u001b[1;32m    278\u001b[0m \u001b[43m        \u001b[49m\u001b[43mrequest\u001b[49m\u001b[43m,\u001b[49m\n\u001b[1;32m    279\u001b[0m \u001b[43m        \u001b[49m\u001b[43mtimeout\u001b[49m\u001b[38;5;241;43m=\u001b[39;49m\u001b[43mtimeout\u001b[49m\u001b[43m,\u001b[49m\n\u001b[1;32m    280\u001b[0m \u001b[43m        \u001b[49m\u001b[43mmetadata\u001b[49m\u001b[38;5;241;43m=\u001b[39;49m\u001b[43mmetadata\u001b[49m\u001b[43m,\u001b[49m\n\u001b[1;32m    281\u001b[0m \u001b[43m        \u001b[49m\u001b[43mcredentials\u001b[49m\u001b[38;5;241;43m=\u001b[39;49m\u001b[43mcredentials\u001b[49m\u001b[43m,\u001b[49m\n\u001b[1;32m    282\u001b[0m \u001b[43m        \u001b[49m\u001b[43mwait_for_ready\u001b[49m\u001b[38;5;241;43m=\u001b[39;49m\u001b[43mwait_for_ready\u001b[49m\u001b[43m,\u001b[49m\n\u001b[1;32m    283\u001b[0m \u001b[43m        \u001b[49m\u001b[43mcompression\u001b[49m\u001b[38;5;241;43m=\u001b[39;49m\u001b[43mcompression\u001b[49m\u001b[43m,\u001b[49m\n\u001b[1;32m    284\u001b[0m \u001b[43m    \u001b[49m\u001b[43m)\u001b[49m\n\u001b[1;32m    285\u001b[0m     \u001b[38;5;28;01mreturn\u001b[39;00m response\n",
      "File \u001b[0;32m~/miniconda3/envs/llm/lib/python3.10/site-packages/grpc/_interceptor.py:332\u001b[0m, in \u001b[0;36m_UnaryUnaryMultiCallable._with_call\u001b[0;34m(self, request, timeout, metadata, credentials, wait_for_ready, compression)\u001b[0m\n\u001b[1;32m    329\u001b[0m call \u001b[38;5;241m=\u001b[39m \u001b[38;5;28mself\u001b[39m\u001b[38;5;241m.\u001b[39m_interceptor\u001b[38;5;241m.\u001b[39mintercept_unary_unary(\n\u001b[1;32m    330\u001b[0m     continuation, client_call_details, request\n\u001b[1;32m    331\u001b[0m )\n\u001b[0;32m--> 332\u001b[0m \u001b[38;5;28;01mreturn\u001b[39;00m \u001b[43mcall\u001b[49m\u001b[38;5;241;43m.\u001b[39;49m\u001b[43mresult\u001b[49m\u001b[43m(\u001b[49m\u001b[43m)\u001b[49m, call\n",
      "File \u001b[0;32m~/miniconda3/envs/llm/lib/python3.10/site-packages/grpc/_channel.py:439\u001b[0m, in \u001b[0;36m_InactiveRpcError.result\u001b[0;34m(self, timeout)\u001b[0m\n\u001b[1;32m    438\u001b[0m \u001b[38;5;250m\u001b[39m\u001b[38;5;124;03m\"\"\"See grpc.Future.result.\"\"\"\u001b[39;00m\n\u001b[0;32m--> 439\u001b[0m \u001b[38;5;28;01mraise\u001b[39;00m \u001b[38;5;28mself\u001b[39m\n",
      "File \u001b[0;32m~/miniconda3/envs/llm/lib/python3.10/site-packages/grpc/_interceptor.py:315\u001b[0m, in \u001b[0;36m_UnaryUnaryMultiCallable._with_call.<locals>.continuation\u001b[0;34m(new_details, request)\u001b[0m\n\u001b[1;32m    314\u001b[0m \u001b[38;5;28;01mtry\u001b[39;00m:\n\u001b[0;32m--> 315\u001b[0m     response, call \u001b[38;5;241m=\u001b[39m \u001b[38;5;28;43mself\u001b[39;49m\u001b[38;5;241;43m.\u001b[39;49m\u001b[43m_thunk\u001b[49m\u001b[43m(\u001b[49m\u001b[43mnew_method\u001b[49m\u001b[43m)\u001b[49m\u001b[38;5;241;43m.\u001b[39;49m\u001b[43mwith_call\u001b[49m\u001b[43m(\u001b[49m\n\u001b[1;32m    316\u001b[0m \u001b[43m        \u001b[49m\u001b[43mrequest\u001b[49m\u001b[43m,\u001b[49m\n\u001b[1;32m    317\u001b[0m \u001b[43m        \u001b[49m\u001b[43mtimeout\u001b[49m\u001b[38;5;241;43m=\u001b[39;49m\u001b[43mnew_timeout\u001b[49m\u001b[43m,\u001b[49m\n\u001b[1;32m    318\u001b[0m \u001b[43m        \u001b[49m\u001b[43mmetadata\u001b[49m\u001b[38;5;241;43m=\u001b[39;49m\u001b[43mnew_metadata\u001b[49m\u001b[43m,\u001b[49m\n\u001b[1;32m    319\u001b[0m \u001b[43m        \u001b[49m\u001b[43mcredentials\u001b[49m\u001b[38;5;241;43m=\u001b[39;49m\u001b[43mnew_credentials\u001b[49m\u001b[43m,\u001b[49m\n\u001b[1;32m    320\u001b[0m \u001b[43m        \u001b[49m\u001b[43mwait_for_ready\u001b[49m\u001b[38;5;241;43m=\u001b[39;49m\u001b[43mnew_wait_for_ready\u001b[49m\u001b[43m,\u001b[49m\n\u001b[1;32m    321\u001b[0m \u001b[43m        \u001b[49m\u001b[43mcompression\u001b[49m\u001b[38;5;241;43m=\u001b[39;49m\u001b[43mnew_compression\u001b[49m\u001b[43m,\u001b[49m\n\u001b[1;32m    322\u001b[0m \u001b[43m    \u001b[49m\u001b[43m)\u001b[49m\n\u001b[1;32m    323\u001b[0m     \u001b[38;5;28;01mreturn\u001b[39;00m _UnaryOutcome(response, call)\n",
      "File \u001b[0;32m~/miniconda3/envs/llm/lib/python3.10/site-packages/grpc/_interceptor.py:343\u001b[0m, in \u001b[0;36m_UnaryUnaryMultiCallable.with_call\u001b[0;34m(self, request, timeout, metadata, credentials, wait_for_ready, compression)\u001b[0m\n\u001b[1;32m    334\u001b[0m \u001b[38;5;28;01mdef\u001b[39;00m \u001b[38;5;21mwith_call\u001b[39m(\n\u001b[1;32m    335\u001b[0m     \u001b[38;5;28mself\u001b[39m,\n\u001b[1;32m    336\u001b[0m     request: Any,\n\u001b[0;32m   (...)\u001b[0m\n\u001b[1;32m    341\u001b[0m     compression: Optional[grpc\u001b[38;5;241m.\u001b[39mCompression] \u001b[38;5;241m=\u001b[39m \u001b[38;5;28;01mNone\u001b[39;00m,\n\u001b[1;32m    342\u001b[0m ) \u001b[38;5;241m-\u001b[39m\u001b[38;5;241m>\u001b[39m Tuple[Any, grpc\u001b[38;5;241m.\u001b[39mCall]:\n\u001b[0;32m--> 343\u001b[0m     \u001b[38;5;28;01mreturn\u001b[39;00m \u001b[38;5;28;43mself\u001b[39;49m\u001b[38;5;241;43m.\u001b[39;49m\u001b[43m_with_call\u001b[49m\u001b[43m(\u001b[49m\n\u001b[1;32m    344\u001b[0m \u001b[43m        \u001b[49m\u001b[43mrequest\u001b[49m\u001b[43m,\u001b[49m\n\u001b[1;32m    345\u001b[0m \u001b[43m        \u001b[49m\u001b[43mtimeout\u001b[49m\u001b[38;5;241;43m=\u001b[39;49m\u001b[43mtimeout\u001b[49m\u001b[43m,\u001b[49m\n\u001b[1;32m    346\u001b[0m \u001b[43m        \u001b[49m\u001b[43mmetadata\u001b[49m\u001b[38;5;241;43m=\u001b[39;49m\u001b[43mmetadata\u001b[49m\u001b[43m,\u001b[49m\n\u001b[1;32m    347\u001b[0m \u001b[43m        \u001b[49m\u001b[43mcredentials\u001b[49m\u001b[38;5;241;43m=\u001b[39;49m\u001b[43mcredentials\u001b[49m\u001b[43m,\u001b[49m\n\u001b[1;32m    348\u001b[0m \u001b[43m        \u001b[49m\u001b[43mwait_for_ready\u001b[49m\u001b[38;5;241;43m=\u001b[39;49m\u001b[43mwait_for_ready\u001b[49m\u001b[43m,\u001b[49m\n\u001b[1;32m    349\u001b[0m \u001b[43m        \u001b[49m\u001b[43mcompression\u001b[49m\u001b[38;5;241;43m=\u001b[39;49m\u001b[43mcompression\u001b[49m\u001b[43m,\u001b[49m\n\u001b[1;32m    350\u001b[0m \u001b[43m    \u001b[49m\u001b[43m)\u001b[49m\n",
      "File \u001b[0;32m~/miniconda3/envs/llm/lib/python3.10/site-packages/grpc/_interceptor.py:332\u001b[0m, in \u001b[0;36m_UnaryUnaryMultiCallable._with_call\u001b[0;34m(self, request, timeout, metadata, credentials, wait_for_ready, compression)\u001b[0m\n\u001b[1;32m    329\u001b[0m call \u001b[38;5;241m=\u001b[39m \u001b[38;5;28mself\u001b[39m\u001b[38;5;241m.\u001b[39m_interceptor\u001b[38;5;241m.\u001b[39mintercept_unary_unary(\n\u001b[1;32m    330\u001b[0m     continuation, client_call_details, request\n\u001b[1;32m    331\u001b[0m )\n\u001b[0;32m--> 332\u001b[0m \u001b[38;5;28;01mreturn\u001b[39;00m \u001b[43mcall\u001b[49m\u001b[38;5;241;43m.\u001b[39;49m\u001b[43mresult\u001b[49m\u001b[43m(\u001b[49m\u001b[43m)\u001b[49m, call\n",
      "File \u001b[0;32m~/miniconda3/envs/llm/lib/python3.10/site-packages/grpc/_channel.py:439\u001b[0m, in \u001b[0;36m_InactiveRpcError.result\u001b[0;34m(self, timeout)\u001b[0m\n\u001b[1;32m    438\u001b[0m \u001b[38;5;250m\u001b[39m\u001b[38;5;124;03m\"\"\"See grpc.Future.result.\"\"\"\u001b[39;00m\n\u001b[0;32m--> 439\u001b[0m \u001b[38;5;28;01mraise\u001b[39;00m \u001b[38;5;28mself\u001b[39m\n",
      "File \u001b[0;32m~/miniconda3/envs/llm/lib/python3.10/site-packages/grpc/_interceptor.py:315\u001b[0m, in \u001b[0;36m_UnaryUnaryMultiCallable._with_call.<locals>.continuation\u001b[0;34m(new_details, request)\u001b[0m\n\u001b[1;32m    314\u001b[0m \u001b[38;5;28;01mtry\u001b[39;00m:\n\u001b[0;32m--> 315\u001b[0m     response, call \u001b[38;5;241m=\u001b[39m \u001b[38;5;28;43mself\u001b[39;49m\u001b[38;5;241;43m.\u001b[39;49m\u001b[43m_thunk\u001b[49m\u001b[43m(\u001b[49m\u001b[43mnew_method\u001b[49m\u001b[43m)\u001b[49m\u001b[38;5;241;43m.\u001b[39;49m\u001b[43mwith_call\u001b[49m\u001b[43m(\u001b[49m\n\u001b[1;32m    316\u001b[0m \u001b[43m        \u001b[49m\u001b[43mrequest\u001b[49m\u001b[43m,\u001b[49m\n\u001b[1;32m    317\u001b[0m \u001b[43m        \u001b[49m\u001b[43mtimeout\u001b[49m\u001b[38;5;241;43m=\u001b[39;49m\u001b[43mnew_timeout\u001b[49m\u001b[43m,\u001b[49m\n\u001b[1;32m    318\u001b[0m \u001b[43m        \u001b[49m\u001b[43mmetadata\u001b[49m\u001b[38;5;241;43m=\u001b[39;49m\u001b[43mnew_metadata\u001b[49m\u001b[43m,\u001b[49m\n\u001b[1;32m    319\u001b[0m \u001b[43m        \u001b[49m\u001b[43mcredentials\u001b[49m\u001b[38;5;241;43m=\u001b[39;49m\u001b[43mnew_credentials\u001b[49m\u001b[43m,\u001b[49m\n\u001b[1;32m    320\u001b[0m \u001b[43m        \u001b[49m\u001b[43mwait_for_ready\u001b[49m\u001b[38;5;241;43m=\u001b[39;49m\u001b[43mnew_wait_for_ready\u001b[49m\u001b[43m,\u001b[49m\n\u001b[1;32m    321\u001b[0m \u001b[43m        \u001b[49m\u001b[43mcompression\u001b[49m\u001b[38;5;241;43m=\u001b[39;49m\u001b[43mnew_compression\u001b[49m\u001b[43m,\u001b[49m\n\u001b[1;32m    322\u001b[0m \u001b[43m    \u001b[49m\u001b[43m)\u001b[49m\n\u001b[1;32m    323\u001b[0m     \u001b[38;5;28;01mreturn\u001b[39;00m _UnaryOutcome(response, call)\n",
      "File \u001b[0;32m~/miniconda3/envs/llm/lib/python3.10/site-packages/grpc/_channel.py:1193\u001b[0m, in \u001b[0;36m_UnaryUnaryMultiCallable.with_call\u001b[0;34m(self, request, timeout, metadata, credentials, wait_for_ready, compression)\u001b[0m\n\u001b[1;32m   1187\u001b[0m (\n\u001b[1;32m   1188\u001b[0m     state,\n\u001b[1;32m   1189\u001b[0m     call,\n\u001b[1;32m   1190\u001b[0m ) \u001b[38;5;241m=\u001b[39m \u001b[38;5;28mself\u001b[39m\u001b[38;5;241m.\u001b[39m_blocking(\n\u001b[1;32m   1191\u001b[0m     request, timeout, metadata, credentials, wait_for_ready, compression\n\u001b[1;32m   1192\u001b[0m )\n\u001b[0;32m-> 1193\u001b[0m \u001b[38;5;28;01mreturn\u001b[39;00m \u001b[43m_end_unary_response_blocking\u001b[49m\u001b[43m(\u001b[49m\u001b[43mstate\u001b[49m\u001b[43m,\u001b[49m\u001b[43m \u001b[49m\u001b[43mcall\u001b[49m\u001b[43m,\u001b[49m\u001b[43m \u001b[49m\u001b[38;5;28;43;01mTrue\u001b[39;49;00m\u001b[43m,\u001b[49m\u001b[43m \u001b[49m\u001b[38;5;28;43;01mNone\u001b[39;49;00m\u001b[43m)\u001b[49m\n",
      "File \u001b[0;32m~/miniconda3/envs/llm/lib/python3.10/site-packages/grpc/_channel.py:1005\u001b[0m, in \u001b[0;36m_end_unary_response_blocking\u001b[0;34m(state, call, with_call, deadline)\u001b[0m\n\u001b[1;32m   1004\u001b[0m \u001b[38;5;28;01melse\u001b[39;00m:\n\u001b[0;32m-> 1005\u001b[0m     \u001b[38;5;28;01mraise\u001b[39;00m _InactiveRpcError(state)\n",
      "\u001b[0;31m_InactiveRpcError\u001b[0m: <_InactiveRpcError of RPC that terminated with:\n\tstatus = StatusCode.UNAVAILABLE\n\tdetails = \"failed to connect to all addresses; last error: UNKNOWN: unix:/tmp/tmpg89ynw21_milvus_demo.db.sock: Connection refused\"\n\tdebug_error_string = \"UNKNOWN:Error received from peer  {grpc_message:\"failed to connect to all addresses; last error: UNKNOWN: unix:/tmp/tmpg89ynw21_milvus_demo.db.sock: Connection refused\", grpc_status:14, created_time:\"2024-10-31T15:36:51.601288704+02:00\"}\"\n>",
      "\nDuring handling of the above exception, another exception occurred:\n",
      "\u001b[0;31mKeyboardInterrupt\u001b[0m                         Traceback (most recent call last)",
      "Cell \u001b[0;32mIn[47], line 1\u001b[0m\n\u001b[0;32m----> 1\u001b[0m dataset[name] \u001b[38;5;241m=\u001b[39m  \u001b[43mget_datasamples\u001b[49m\u001b[43m(\u001b[49m\u001b[43mquestions\u001b[49m\u001b[43m,\u001b[49m\u001b[43m \u001b[49m\n\u001b[1;32m      2\u001b[0m \u001b[43m                            \u001b[49m\u001b[43manswers\u001b[49m\u001b[43m,\u001b[49m\u001b[43m \u001b[49m\n\u001b[1;32m      3\u001b[0m \u001b[43m                            \u001b[49m\u001b[43mmilvus_client\u001b[49m\u001b[43m,\u001b[49m\u001b[43m \u001b[49m\n\u001b[1;32m      4\u001b[0m \u001b[43m                            \u001b[49m\u001b[43mcollection_name\u001b[49m\u001b[43m,\u001b[49m\u001b[43m \u001b[49m\n\u001b[1;32m      5\u001b[0m \u001b[43m                            \u001b[49m\u001b[43membedding\u001b[49m\u001b[38;5;241;43m=\u001b[39;49m\u001b[38;5;28;43;01mlambda\u001b[39;49;00m\u001b[43m \u001b[49m\u001b[43mq\u001b[49m\u001b[43m:\u001b[49m\u001b[43m \u001b[49m\u001b[43mOpenAIEmbeddings\u001b[49m\u001b[43m(\u001b[49m\u001b[43m)\u001b[49m\u001b[38;5;241;43m.\u001b[39;49m\u001b[43membed_query\u001b[49m\u001b[43m(\u001b[49m\u001b[43mq\u001b[49m\u001b[43m)\u001b[49m\u001b[43m,\u001b[49m\u001b[43m \u001b[49m\n\u001b[1;32m      6\u001b[0m \u001b[43m                            \u001b[49m\u001b[43mllm\u001b[49m\u001b[43m \u001b[49m\u001b[38;5;241;43m=\u001b[39;49m\u001b[43m \u001b[49m\u001b[43mllm\u001b[49m\u001b[43m,\u001b[49m\n\u001b[1;32m      7\u001b[0m \u001b[43m                            \u001b[49m\u001b[43mtop_k\u001b[49m\u001b[38;5;241;43m=\u001b[39;49m\u001b[38;5;241;43m10\u001b[39;49m\u001b[43m)\u001b[49m\n",
      "File \u001b[0;32m~/SIT/LLM/llm_utils.py:309\u001b[0m, in \u001b[0;36mget_datasamples\u001b[0;34m(questions, answers, milvus_client, collection_name, embedding, llm, top_k)\u001b[0m\n\u001b[1;32m    306\u001b[0m ideal_answers \u001b[38;5;241m=\u001b[39m []\n\u001b[1;32m    308\u001b[0m \u001b[38;5;28;01mfor\u001b[39;00m i,q \u001b[38;5;129;01min\u001b[39;00m tqdm(\u001b[38;5;28menumerate\u001b[39m(questions)):\n\u001b[0;32m--> 309\u001b[0m     context \u001b[38;5;241m=\u001b[39m \u001b[43mget_context\u001b[49m\u001b[43m(\u001b[49m\u001b[43mq\u001b[49m\u001b[43m[\u001b[49m\u001b[38;5;241;43m2\u001b[39;49m\u001b[43m:\u001b[49m\u001b[43m]\u001b[49m\u001b[43m,\u001b[49m\u001b[43m \u001b[49m\u001b[43mmilvus_client\u001b[49m\u001b[43m,\u001b[49m\u001b[43m \u001b[49m\u001b[43mcollection_name\u001b[49m\u001b[43m,\u001b[49m\u001b[43m \u001b[49m\u001b[43membedding\u001b[49m\u001b[43m,\u001b[49m\u001b[43m \u001b[49m\u001b[43mtop_k\u001b[49m\u001b[38;5;241;43m=\u001b[39;49m\u001b[43mtop_k\u001b[49m\u001b[43m)\u001b[49m\n\u001b[1;32m    310\u001b[0m     \u001b[38;5;66;03m#print(i)\u001b[39;00m\n\u001b[1;32m    311\u001b[0m     \u001b[38;5;66;03m#print(q)\u001b[39;00m\n\u001b[1;32m    312\u001b[0m     \u001b[38;5;66;03m#print(context)\u001b[39;00m\n\u001b[1;32m    313\u001b[0m     i_answer \u001b[38;5;241m=\u001b[39m get_ideal_answer(q[\u001b[38;5;241m2\u001b[39m:], context, llm\u001b[38;5;241m=\u001b[39mllm)\n",
      "File \u001b[0;32m~/SIT/LLM/llm_utils.py:265\u001b[0m, in \u001b[0;36mget_context\u001b[0;34m(question, vecstore, collection_name, embedding, top_k, verbose)\u001b[0m\n\u001b[1;32m    255\u001b[0m \u001b[38;5;28;01mdef\u001b[39;00m \u001b[38;5;21mget_context\u001b[39m(\n\u001b[1;32m    256\u001b[0m                 question, \n\u001b[1;32m    257\u001b[0m                 vecstore, \n\u001b[0;32m   (...)\u001b[0m\n\u001b[1;32m    262\u001b[0m                ):\n\u001b[1;32m    263\u001b[0m     \u001b[38;5;66;03m#print(embedding(q).shape)\u001b[39;00m\n\u001b[0;32m--> 265\u001b[0m     search_res \u001b[38;5;241m=\u001b[39m \u001b[43mvecstore\u001b[49m\u001b[38;5;241;43m.\u001b[39;49m\u001b[43msearch\u001b[49m\u001b[43m(\u001b[49m\n\u001b[1;32m    266\u001b[0m \u001b[43m         \u001b[49m\u001b[43mcollection_name\u001b[49m\u001b[38;5;241;43m=\u001b[39;49m\u001b[43mcollection_name\u001b[49m\u001b[43m,\u001b[49m\n\u001b[1;32m    267\u001b[0m \u001b[43m         \u001b[49m\u001b[43mdata\u001b[49m\u001b[38;5;241;43m=\u001b[39;49m\u001b[43m[\u001b[49m\n\u001b[1;32m    268\u001b[0m \u001b[43m              \u001b[49m\u001b[43membedding\u001b[49m\u001b[43m(\u001b[49m\u001b[43mquestion\u001b[49m\u001b[43m)\u001b[49m\n\u001b[1;32m    269\u001b[0m \u001b[43m              \u001b[49m\u001b[43m]\u001b[49m\u001b[43m,\u001b[49m\u001b[43m  \u001b[49m\u001b[38;5;66;43;03m# Use the `emb_texts` function to convert the question to an embedding vector\u001b[39;49;00m\n\u001b[1;32m    270\u001b[0m \u001b[43m         \u001b[49m\u001b[43mlimit\u001b[49m\u001b[38;5;241;43m=\u001b[39;49m\u001b[43mtop_k\u001b[49m\u001b[43m,\u001b[49m\u001b[43m  \u001b[49m\u001b[38;5;66;43;03m# Return top k results\u001b[39;49;00m\n\u001b[1;32m    271\u001b[0m \u001b[43m         \u001b[49m\u001b[43msearch_params\u001b[49m\u001b[38;5;241;43m=\u001b[39;49m\u001b[43m{\u001b[49m\u001b[38;5;124;43m\"\u001b[39;49m\u001b[38;5;124;43mmetric_type\u001b[39;49m\u001b[38;5;124;43m\"\u001b[39;49m\u001b[43m:\u001b[49m\u001b[43m \u001b[49m\u001b[38;5;124;43m\"\u001b[39;49m\u001b[38;5;124;43mIP\u001b[39;49m\u001b[38;5;124;43m\"\u001b[39;49m\u001b[43m,\u001b[49m\u001b[43m \u001b[49m\u001b[38;5;124;43m\"\u001b[39;49m\u001b[38;5;124;43mparams\u001b[39;49m\u001b[38;5;124;43m\"\u001b[39;49m\u001b[43m:\u001b[49m\u001b[43m \u001b[49m\u001b[43m{\u001b[49m\u001b[43m}\u001b[49m\u001b[43m}\u001b[49m\u001b[43m,\u001b[49m\u001b[43m  \u001b[49m\u001b[38;5;66;43;03m# Inner product distance\u001b[39;49;00m\n\u001b[1;32m    272\u001b[0m \u001b[43m         \u001b[49m\u001b[43moutput_fields\u001b[49m\u001b[38;5;241;43m=\u001b[39;49m\u001b[43m[\u001b[49m\u001b[38;5;124;43m\"\u001b[39;49m\u001b[38;5;124;43mtext\u001b[39;49m\u001b[38;5;124;43m\"\u001b[39;49m\u001b[43m]\u001b[49m\u001b[43m,\u001b[49m\u001b[43m  \u001b[49m\u001b[38;5;66;43;03m# Return the text field\u001b[39;49;00m\n\u001b[1;32m    273\u001b[0m \u001b[43m             \u001b[49m\u001b[43m)\u001b[49m\n\u001b[1;32m    275\u001b[0m     retrieved_lines_with_distances \u001b[38;5;241m=\u001b[39m [\n\u001b[1;32m    276\u001b[0m     (res[\u001b[38;5;124m\"\u001b[39m\u001b[38;5;124mentity\u001b[39m\u001b[38;5;124m\"\u001b[39m][\u001b[38;5;124m\"\u001b[39m\u001b[38;5;124mtext\u001b[39m\u001b[38;5;124m\"\u001b[39m], res[\u001b[38;5;124m\"\u001b[39m\u001b[38;5;124mdistance\u001b[39m\u001b[38;5;124m\"\u001b[39m]) \u001b[38;5;28;01mfor\u001b[39;00m res \u001b[38;5;129;01min\u001b[39;00m search_res[\u001b[38;5;241m0\u001b[39m]\n\u001b[1;32m    277\u001b[0m                                      ]\n\u001b[1;32m    278\u001b[0m     \u001b[38;5;28;01mif\u001b[39;00m verbose:\n",
      "File \u001b[0;32m~/miniconda3/envs/llm/lib/python3.10/site-packages/pymilvus/milvus_client/milvus_client.py:317\u001b[0m, in \u001b[0;36mMilvusClient.search\u001b[0;34m(self, collection_name, data, filter, limit, output_fields, search_params, timeout, partition_names, anns_field, **kwargs)\u001b[0m\n\u001b[1;32m    315\u001b[0m conn \u001b[38;5;241m=\u001b[39m \u001b[38;5;28mself\u001b[39m\u001b[38;5;241m.\u001b[39m_get_connection()\n\u001b[1;32m    316\u001b[0m \u001b[38;5;28;01mtry\u001b[39;00m:\n\u001b[0;32m--> 317\u001b[0m     res \u001b[38;5;241m=\u001b[39m \u001b[43mconn\u001b[49m\u001b[38;5;241;43m.\u001b[39;49m\u001b[43msearch\u001b[49m\u001b[43m(\u001b[49m\n\u001b[1;32m    318\u001b[0m \u001b[43m        \u001b[49m\u001b[43mcollection_name\u001b[49m\u001b[43m,\u001b[49m\n\u001b[1;32m    319\u001b[0m \u001b[43m        \u001b[49m\u001b[43mdata\u001b[49m\u001b[43m,\u001b[49m\n\u001b[1;32m    320\u001b[0m \u001b[43m        \u001b[49m\u001b[43manns_field\u001b[49m\u001b[43m \u001b[49m\u001b[38;5;129;43;01mor\u001b[39;49;00m\u001b[43m \u001b[49m\u001b[38;5;124;43m\"\u001b[39;49m\u001b[38;5;124;43m\"\u001b[39;49m\u001b[43m,\u001b[49m\n\u001b[1;32m    321\u001b[0m \u001b[43m        \u001b[49m\u001b[43msearch_params\u001b[49m\u001b[43m \u001b[49m\u001b[38;5;129;43;01mor\u001b[39;49;00m\u001b[43m \u001b[49m\u001b[43m{\u001b[49m\u001b[43m}\u001b[49m\u001b[43m,\u001b[49m\n\u001b[1;32m    322\u001b[0m \u001b[43m        \u001b[49m\u001b[43mexpression\u001b[49m\u001b[38;5;241;43m=\u001b[39;49m\u001b[38;5;28;43mfilter\u001b[39;49m\u001b[43m,\u001b[49m\n\u001b[1;32m    323\u001b[0m \u001b[43m        \u001b[49m\u001b[43mlimit\u001b[49m\u001b[38;5;241;43m=\u001b[39;49m\u001b[43mlimit\u001b[49m\u001b[43m,\u001b[49m\n\u001b[1;32m    324\u001b[0m \u001b[43m        \u001b[49m\u001b[43moutput_fields\u001b[49m\u001b[38;5;241;43m=\u001b[39;49m\u001b[43moutput_fields\u001b[49m\u001b[43m,\u001b[49m\n\u001b[1;32m    325\u001b[0m \u001b[43m        \u001b[49m\u001b[43mpartition_names\u001b[49m\u001b[38;5;241;43m=\u001b[39;49m\u001b[43mpartition_names\u001b[49m\u001b[43m,\u001b[49m\n\u001b[1;32m    326\u001b[0m \u001b[43m        \u001b[49m\u001b[43mtimeout\u001b[49m\u001b[38;5;241;43m=\u001b[39;49m\u001b[43mtimeout\u001b[49m\u001b[43m,\u001b[49m\n\u001b[1;32m    327\u001b[0m \u001b[43m        \u001b[49m\u001b[38;5;241;43m*\u001b[39;49m\u001b[38;5;241;43m*\u001b[39;49m\u001b[43mkwargs\u001b[49m\u001b[43m,\u001b[49m\n\u001b[1;32m    328\u001b[0m \u001b[43m    \u001b[49m\u001b[43m)\u001b[49m\n\u001b[1;32m    329\u001b[0m \u001b[38;5;28;01mexcept\u001b[39;00m \u001b[38;5;167;01mException\u001b[39;00m \u001b[38;5;28;01mas\u001b[39;00m ex:\n\u001b[1;32m    330\u001b[0m     logger\u001b[38;5;241m.\u001b[39merror(\u001b[38;5;124m\"\u001b[39m\u001b[38;5;124mFailed to search collection: \u001b[39m\u001b[38;5;132;01m%s\u001b[39;00m\u001b[38;5;124m\"\u001b[39m, collection_name)\n",
      "File \u001b[0;32m~/miniconda3/envs/llm/lib/python3.10/site-packages/pymilvus/decorators.py:143\u001b[0m, in \u001b[0;36merror_handler.<locals>.wrapper.<locals>.handler\u001b[0;34m(*args, **kwargs)\u001b[0m\n\u001b[1;32m    141\u001b[0m \u001b[38;5;28;01mtry\u001b[39;00m:\n\u001b[1;32m    142\u001b[0m     record_dict[\u001b[38;5;124m\"\u001b[39m\u001b[38;5;124mRPC start\u001b[39m\u001b[38;5;124m\"\u001b[39m] \u001b[38;5;241m=\u001b[39m \u001b[38;5;28mstr\u001b[39m(datetime\u001b[38;5;241m.\u001b[39mdatetime\u001b[38;5;241m.\u001b[39mnow())\n\u001b[0;32m--> 143\u001b[0m     \u001b[38;5;28;01mreturn\u001b[39;00m \u001b[43mfunc\u001b[49m\u001b[43m(\u001b[49m\u001b[38;5;241;43m*\u001b[39;49m\u001b[43margs\u001b[49m\u001b[43m,\u001b[49m\u001b[43m \u001b[49m\u001b[38;5;241;43m*\u001b[39;49m\u001b[38;5;241;43m*\u001b[39;49m\u001b[43mkwargs\u001b[49m\u001b[43m)\u001b[49m\n\u001b[1;32m    144\u001b[0m \u001b[38;5;28;01mexcept\u001b[39;00m MilvusException \u001b[38;5;28;01mas\u001b[39;00m e:\n\u001b[1;32m    145\u001b[0m     record_dict[\u001b[38;5;124m\"\u001b[39m\u001b[38;5;124mRPC error\u001b[39m\u001b[38;5;124m\"\u001b[39m] \u001b[38;5;241m=\u001b[39m \u001b[38;5;28mstr\u001b[39m(datetime\u001b[38;5;241m.\u001b[39mdatetime\u001b[38;5;241m.\u001b[39mnow())\n",
      "File \u001b[0;32m~/miniconda3/envs/llm/lib/python3.10/site-packages/pymilvus/decorators.py:182\u001b[0m, in \u001b[0;36mtracing_request.<locals>.wrapper.<locals>.handler\u001b[0;34m(self, *args, **kwargs)\u001b[0m\n\u001b[1;32m    180\u001b[0m \u001b[38;5;28;01mif\u001b[39;00m req_id:\n\u001b[1;32m    181\u001b[0m     \u001b[38;5;28mself\u001b[39m\u001b[38;5;241m.\u001b[39mset_onetime_request_id(req_id)\n\u001b[0;32m--> 182\u001b[0m \u001b[38;5;28;01mreturn\u001b[39;00m \u001b[43mfunc\u001b[49m\u001b[43m(\u001b[49m\u001b[38;5;28;43mself\u001b[39;49m\u001b[43m,\u001b[49m\u001b[43m \u001b[49m\u001b[38;5;241;43m*\u001b[39;49m\u001b[43margs\u001b[49m\u001b[43m,\u001b[49m\u001b[43m \u001b[49m\u001b[38;5;241;43m*\u001b[39;49m\u001b[38;5;241;43m*\u001b[39;49m\u001b[43mkwargs\u001b[49m\u001b[43m)\u001b[49m\n",
      "File \u001b[0;32m~/miniconda3/envs/llm/lib/python3.10/site-packages/pymilvus/decorators.py:102\u001b[0m, in \u001b[0;36mretry_on_rpc_failure.<locals>.wrapper.<locals>.handler\u001b[0;34m(*args, **kwargs)\u001b[0m\n\u001b[1;32m     96\u001b[0m         retry_msg \u001b[38;5;241m=\u001b[39m (\n\u001b[1;32m     97\u001b[0m             \u001b[38;5;124mf\u001b[39m\u001b[38;5;124m\"\u001b[39m\u001b[38;5;124m[\u001b[39m\u001b[38;5;132;01m{\u001b[39;00mfunc\u001b[38;5;241m.\u001b[39m\u001b[38;5;18m__name__\u001b[39m\u001b[38;5;132;01m}\u001b[39;00m\u001b[38;5;124m] retry:\u001b[39m\u001b[38;5;132;01m{\u001b[39;00mcounter\u001b[38;5;132;01m}\u001b[39;00m\u001b[38;5;124m, cost: \u001b[39m\u001b[38;5;132;01m{\u001b[39;00mback_off\u001b[38;5;132;01m:\u001b[39;00m\u001b[38;5;124m.2f\u001b[39m\u001b[38;5;132;01m}\u001b[39;00m\u001b[38;5;124ms, \u001b[39m\u001b[38;5;124m\"\u001b[39m\n\u001b[1;32m     98\u001b[0m             \u001b[38;5;124mf\u001b[39m\u001b[38;5;124m\"\u001b[39m\u001b[38;5;124mreason: <\u001b[39m\u001b[38;5;132;01m{\u001b[39;00me\u001b[38;5;241m.\u001b[39m\u001b[38;5;18m__class__\u001b[39m\u001b[38;5;241m.\u001b[39m\u001b[38;5;18m__name__\u001b[39m\u001b[38;5;132;01m}\u001b[39;00m\u001b[38;5;124m: \u001b[39m\u001b[38;5;132;01m{\u001b[39;00me\u001b[38;5;241m.\u001b[39mcode()\u001b[38;5;132;01m}\u001b[39;00m\u001b[38;5;124m, \u001b[39m\u001b[38;5;132;01m{\u001b[39;00me\u001b[38;5;241m.\u001b[39mdetails()\u001b[38;5;132;01m}\u001b[39;00m\u001b[38;5;124m>\u001b[39m\u001b[38;5;124m\"\u001b[39m\n\u001b[1;32m     99\u001b[0m         )\n\u001b[1;32m    100\u001b[0m         LOGGER\u001b[38;5;241m.\u001b[39mwarning(WARNING_COLOR\u001b[38;5;241m.\u001b[39mformat(retry_msg))\n\u001b[0;32m--> 102\u001b[0m     \u001b[43mtime\u001b[49m\u001b[38;5;241;43m.\u001b[39;49m\u001b[43msleep\u001b[49m\u001b[43m(\u001b[49m\u001b[43mback_off\u001b[49m\u001b[43m)\u001b[49m\n\u001b[1;32m    103\u001b[0m     back_off \u001b[38;5;241m=\u001b[39m \u001b[38;5;28mmin\u001b[39m(back_off \u001b[38;5;241m*\u001b[39m back_off_multiplier, max_back_off)\n\u001b[1;32m    104\u001b[0m \u001b[38;5;28;01mexcept\u001b[39;00m MilvusException \u001b[38;5;28;01mas\u001b[39;00m e:\n",
      "\u001b[0;31mKeyboardInterrupt\u001b[0m: "
     ]
    }
   ],
   "source": [
    "dataset[name] =  get_datasamples(questions, \n",
    "                            answers, \n",
    "                            milvus_client, \n",
    "                            collection_name, \n",
    "                            embedding=lambda q: OpenAIEmbeddings().embed_query(q), \n",
    "                            llm = llm,\n",
    "                            top_k=10)\n"
   ]
  },
  {
   "cell_type": "code",
   "execution_count": null,
   "id": "8968e672",
   "metadata": {},
   "outputs": [],
   "source": [
    "nest_asyncio.apply()\n",
    "\n",
    "#query_engine_bge = build_query_engine(hf_bge, documents)\n",
    "result[name] = evaluate(dataset[name], metrics, llm=llm,  raise_exceptions=False, embeddings=OpenAIEmbeddings())"
   ]
  },
  {
   "cell_type": "markdown",
   "id": "7467eca1",
   "metadata": {},
   "source": [
    "### Results"
   ]
  },
  {
   "cell_type": "code",
   "execution_count": 48,
   "id": "e2ad5a11",
   "metadata": {},
   "outputs": [],
   "source": [
    "def print_dict(d, indent=0):\n",
    "    \"\"\"\n",
    "    Recursively prints a dictionary, including nested dictionaries, \n",
    "    with indentation to represent structure.\n",
    "    \"\"\"\n",
    "    for key, value in d.items():\n",
    "        print('  ' * indent + str(key) + \": \", end=\"\")\n",
    "        if isinstance(value, dict):\n",
    "            print()  # Print a newline for nested dictionaries\n",
    "            print_dict(value, indent + 1)\n",
    "        else:\n",
    "            print(str(value))"
   ]
  },
  {
   "cell_type": "code",
   "execution_count": 49,
   "id": "f7837a40",
   "metadata": {},
   "outputs": [
    {
     "name": "stdout",
     "output_type": "stream",
     "text": [
      "recursive: \n",
      "  answer_relevancy: 0.22500236588587363\n",
      "  answer_correctness: 0.27295712224694957\n",
      "  faithfulness: 1.0\n",
      "  context_precision: 0.47254850086277905\n",
      "  context_recall: 0.5166666666666666\n",
      "  context_relevancy: 0.011739134460718158\n",
      "agentic: \n",
      "  answer_relevancy: 0.38147697449807216\n",
      "  answer_correctness: 0.35999946873791044\n",
      "  faithfulness: 0.9588235294117647\n",
      "  context_precision: 0.5294753401186089\n",
      "  context_recall: 0.6492063492063492\n",
      "  context_relevancy: 0.01041445845618771\n",
      "llm: \n",
      "  answer_relevancy: 0.35604953456005745\n",
      "  answer_correctness: 0.3496116392963482\n",
      "  faithfulness: 0.9230769230769231\n",
      "  context_precision: 0.6389756325641388\n",
      "  context_recall: 0.5666666666666667\n",
      "  context_relevancy: 0.02315647646067191\n"
     ]
    }
   ],
   "source": [
    "print_dict(result)"
   ]
  },
  {
   "cell_type": "code",
   "execution_count": 50,
   "id": "955f25f6",
   "metadata": {},
   "outputs": [
    {
     "data": {
      "text/html": [
       "<div>\n",
       "<style scoped>\n",
       "    .dataframe tbody tr th:only-of-type {\n",
       "        vertical-align: middle;\n",
       "    }\n",
       "\n",
       "    .dataframe tbody tr th {\n",
       "        vertical-align: top;\n",
       "    }\n",
       "\n",
       "    .dataframe thead th {\n",
       "        text-align: right;\n",
       "    }\n",
       "</style>\n",
       "<table border=\"1\" class=\"dataframe\">\n",
       "  <thead>\n",
       "    <tr style=\"text-align: right;\">\n",
       "      <th></th>\n",
       "      <th>answer_relevancy</th>\n",
       "      <th>answer_correctness</th>\n",
       "      <th>faithfulness</th>\n",
       "      <th>context_precision</th>\n",
       "      <th>context_recall</th>\n",
       "      <th>context_relevancy</th>\n",
       "    </tr>\n",
       "  </thead>\n",
       "  <tbody>\n",
       "    <tr>\n",
       "      <th>recursive</th>\n",
       "      <td>0.225002</td>\n",
       "      <td>0.272957</td>\n",
       "      <td>1.000000</td>\n",
       "      <td>0.472549</td>\n",
       "      <td>0.516667</td>\n",
       "      <td>0.011739</td>\n",
       "    </tr>\n",
       "    <tr>\n",
       "      <th>agentic</th>\n",
       "      <td>0.381477</td>\n",
       "      <td>0.359999</td>\n",
       "      <td>0.958824</td>\n",
       "      <td>0.529475</td>\n",
       "      <td>0.649206</td>\n",
       "      <td>0.010414</td>\n",
       "    </tr>\n",
       "    <tr>\n",
       "      <th>llm</th>\n",
       "      <td>0.356050</td>\n",
       "      <td>0.349612</td>\n",
       "      <td>0.923077</td>\n",
       "      <td>0.638976</td>\n",
       "      <td>0.566667</td>\n",
       "      <td>0.023156</td>\n",
       "    </tr>\n",
       "  </tbody>\n",
       "</table>\n",
       "</div>"
      ],
      "text/plain": [
       "           answer_relevancy  answer_correctness  faithfulness  \\\n",
       "recursive          0.225002            0.272957      1.000000   \n",
       "agentic            0.381477            0.359999      0.958824   \n",
       "llm                0.356050            0.349612      0.923077   \n",
       "\n",
       "           context_precision  context_recall  context_relevancy  \n",
       "recursive           0.472549        0.516667           0.011739  \n",
       "agentic             0.529475        0.649206           0.010414  \n",
       "llm                 0.638976        0.566667           0.023156  "
      ]
     },
     "execution_count": 50,
     "metadata": {},
     "output_type": "execute_result"
    }
   ],
   "source": [
    "df_m = pd.DataFrame().from_dict(result, orient='index')\n",
    "\n",
    "df_m"
   ]
  },
  {
   "cell_type": "code",
   "execution_count": null,
   "id": "55008054",
   "metadata": {},
   "outputs": [],
   "source": [
    "df_m.to_csv('df_compare_4spliters.csv')"
   ]
  },
  {
   "cell_type": "code",
   "execution_count": null,
   "id": "ca6a519a",
   "metadata": {},
   "outputs": [],
   "source": [
    "pd.DataFrame(dataset['llm'])"
   ]
  },
  {
   "cell_type": "code",
   "execution_count": null,
   "id": "bd9f8097",
   "metadata": {},
   "outputs": [],
   "source": [
    "pd.DataFrame(dataset['agentic'])"
   ]
  },
  {
   "cell_type": "code",
   "execution_count": null,
   "id": "35b9317d",
   "metadata": {},
   "outputs": [],
   "source": []
  }
 ],
 "metadata": {
  "kernelspec": {
   "display_name": "Python 3 (ipykernel)",
   "language": "python",
   "name": "python3"
  },
  "language_info": {
   "codemirror_mode": {
    "name": "ipython",
    "version": 3
   },
   "file_extension": ".py",
   "mimetype": "text/x-python",
   "name": "python",
   "nbconvert_exporter": "python",
   "pygments_lexer": "ipython3",
   "version": "3.9.20"
  }
 },
 "nbformat": 4,
 "nbformat_minor": 5
}
