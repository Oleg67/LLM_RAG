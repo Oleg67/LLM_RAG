{
 "cells": [
  {
   "cell_type": "markdown",
   "id": "2588af5e",
   "metadata": {},
   "source": [
    "### Fine tune LLM embeedings model\n"
   ]
  },
  {
   "cell_type": "code",
   "execution_count": 2,
   "id": "2208c73f",
   "metadata": {},
   "outputs": [],
   "source": [
    "#!pip install openai==0.28.1\n",
    "#!pip install openai --upgrade\n",
    "#!pip install ragas\n",
    "#!pip install unstructured\n",
    "#!pip install langchain[all]\n",
    "#!pip install --upgrade langchain\n",
    "\n",
    "#!pip install playwright\n",
    "#!pip install -U selenium unstructured\n",
    "#!pip install --upgrade langchain langchain-community langchainhub langchain-openai langchain-chroma bs4"
   ]
  },
  {
   "cell_type": "code",
   "execution_count": 1,
   "id": "d63c1067",
   "metadata": {},
   "outputs": [],
   "source": [
    "#!pip install pydantic==2.5\n",
    "#!pip install --upgrade --quiet  langchain_milvus\n",
    "#!pip install --upgrade scipy"
   ]
  },
  {
   "cell_type": "code",
   "execution_count": 1,
   "id": "3e3566c9",
   "metadata": {},
   "outputs": [],
   "source": [
    "#!pip install -U langchain-openai"
   ]
  },
  {
   "cell_type": "code",
   "execution_count": 1,
   "id": "bf10af13",
   "metadata": {},
   "outputs": [],
   "source": [
    "#!pip install llama-index-embeddings-langchain"
   ]
  },
  {
   "cell_type": "code",
   "execution_count": 1,
   "id": "20e13d6c",
   "metadata": {},
   "outputs": [],
   "source": [
    "import os, json\n",
    "import pandas as pd\n",
    "#import openai\n",
    "#from langchain.chat_models import ChatOpenAI, ChatGooglePalm\n",
    "from utils import OPENAI_API_KEY\n",
    "\n",
    "os.environ['OPENAI_API_KEY'] =  OPENAI_API_KEY\n",
    "#os.environ[\"LANGCHAIN_TRACING_V2\"] = \"true\"\n",
    "#os.environ['CUDA_LAUNCH_BLOCKING'] = '1'\n",
    "\n",
    "#openai.api_key = os.environ['OPENAI_API_KEY']"
   ]
  },
  {
   "cell_type": "code",
   "execution_count": 2,
   "id": "59018bfc",
   "metadata": {},
   "outputs": [
    {
     "name": "stdout",
     "output_type": "stream",
     "text": [
      "Using device: cuda\n",
      "Loading embedding model: BAAI/bge-base-en-v1.5\n",
      "Using device: cuda\n",
      "Loading embedding model: BAAI/bge-base-en-v1.5\n",
      "Loading PDF files from ./data\n",
      "Loaded 78 documents\n",
      "Created 119 text chunks from 5 documents\n"
     ]
    },
    {
     "name": "stderr",
     "output_type": "stream",
     "text": [
      "Generating embeddings: 100%|██████████████████| 119/119 [00:07<00:00, 16.67it/s]\n"
     ]
    },
    {
     "name": "stdout",
     "output_type": "stream",
     "text": [
      "Generated embeddings for 119 chunks\n",
      "Created vector database with 119 entries\n",
      "Loading PDF files from ./data\n",
      "Loaded 78 documents\n",
      "Created 119 text chunks from 5 documents\n",
      "Creating vector databases...\n",
      "Extracting keywords from chunks...\n"
     ]
    },
    {
     "name": "stderr",
     "output_type": "stream",
     "text": [
      "Extracting keywords: 100%|██████████████████| 119/119 [00:00<00:00, 2173.73it/s]\n"
     ]
    },
    {
     "name": "stdout",
     "output_type": "stream",
     "text": [
      "Extracted 634 unique keywords across 119 chunks\n",
      "Generating token-level embeddings...\n"
     ]
    },
    {
     "name": "stderr",
     "output_type": "stream",
     "text": [
      "Generating chunk embeddings: 100%|████████████| 119/119 [00:06<00:00, 17.50it/s]\n"
     ]
    },
    {
     "name": "stdout",
     "output_type": "stream",
     "text": [
      "Generated token embeddings for 119 chunks\n",
      "Generated token IDs for 119 chunks\n",
      "Token embedding shape: torch.Size([423, 768]) and Type: <class 'torch.Tensor'>\n",
      "Generating full chunk embeddings...\n",
      "Generated 119 chunk embeddings using mean pooling\n",
      "Generating keyword embeddings...\n"
     ]
    },
    {
     "name": "stderr",
     "output_type": "stream",
     "text": [
      "Generating keyword embeddings: 100%|██████████| 119/119 [00:05<00:00, 22.74it/s]\n"
     ]
    },
    {
     "name": "stdout",
     "output_type": "stream",
     "text": [
      "Generated embeddings for 3504 keyword-context-document pairs\n",
      "Average 6.40 contexts per keyword\n",
      "Generating keyword-based chunk embeddings...\n"
     ]
    },
    {
     "name": "stderr",
     "output_type": "stream",
     "text": [
      "Generating chunk embeddings: 100%|████████████| 119/119 [00:04<00:00, 23.87it/s]"
     ]
    },
    {
     "name": "stdout",
     "output_type": "stream",
     "text": [
      "Generated embeddings for 119 chunks\n",
      "Found keywords in 119 chunks\n",
      "Average 34.08 keywords per chunk with keywords\n",
      "Creating keyword embedding database...\n",
      "Creating chunk embedding database...\n",
      "Creating keyword-based chunk embedding database...\n",
      "Creating vector database for efficient similarity search...\n",
      "Vector databases created with 3504 keyword embeddings, 119 chunk embeddings, and 119 keyword-chunk embeddings.\n"
     ]
    },
    {
     "name": "stderr",
     "output_type": "stream",
     "text": [
      "\n"
     ]
    }
   ],
   "source": [
    "from naive_rag import NaiveRAG \n",
    "from contextual_rag import ContextualRAG\n",
    "\n",
    "PDF_FOLDER = \"./data\"\n",
    "## Initialize and Train Both RAG Systems\n",
    "\n",
    "# Initialize both RAG systems with the same embedding model for fair comparison\n",
    "embedding_model = \"BAAI/bge-base-en-v1.5\"\n",
    "chunk_size = 2000\n",
    "chunk_overlap = 200\n",
    "\n",
    "naive_rag = NaiveRAG(\n",
    "    embedding_model_name=embedding_model,\n",
    "    chunk_size=chunk_size,\n",
    "    chunk_overlap=chunk_overlap\n",
    ")\n",
    "\n",
    "contextual_rag = ContextualRAG(\n",
    "    embedding_model_name=embedding_model,\n",
    "    chunk_size=chunk_size,\n",
    "    chunk_overlap=chunk_overlap\n",
    ")\n",
    "\n",
    "# Process PDFs with NaiveRAG\n",
    "naive_chunks, naive_metadata = naive_rag.upload_files(PDF_FOLDER)\n",
    "naive_rag.make_db(naive_chunks, naive_metadata)\n",
    "\n",
    "# Process PDFs with ContextualRAG\n",
    "chunks, chunk_metadata = contextual_rag.upload_files(PDF_FOLDER)\n",
    "contextual_rag.make_db(chunks, chunk_metadata)"
   ]
  },
  {
   "cell_type": "code",
   "execution_count": 3,
   "id": "067215ee",
   "metadata": {},
   "outputs": [],
   "source": [
    "# Laod questions & answers\n",
    "df_ground_true = pd.read_csv(\"../data/data_rag/QA_ai4mat_2articles.csv\")\n",
    "\n",
    "questions = df_ground_true['question'].values.tolist()\n",
    "answers = df_ground_true['answer'].values.tolist()\n"
   ]
  },
  {
   "cell_type": "code",
   "execution_count": 16,
   "id": "3b231644",
   "metadata": {},
   "outputs": [
    {
     "name": "stderr",
     "output_type": "stream",
     "text": [
      "\r",
      "Processing queries:   0%|                                | 0/35 [00:00<?, ?it/s]"
     ]
    },
    {
     "name": "stdout",
     "output_type": "stream",
     "text": [
      "Retrieving: 1 keyword results, 1 chunk results, 8 keyword-chunk results\n",
      "Searching keyword database with 2 query terms...\n",
      "Searching chunk database...\n",
      "Searching keyword-chunk database...\n",
      "Retrieved 10 results\n",
      "Retrieving: 8 keyword results, 1 chunk results, 1 keyword-chunk results\n",
      "Searching keyword database with 2 query terms...\n"
     ]
    },
    {
     "name": "stderr",
     "output_type": "stream",
     "text": [
      "\r",
      "Processing queries:   3%|▋                       | 1/35 [00:00<00:12,  2.65it/s]"
     ]
    },
    {
     "name": "stdout",
     "output_type": "stream",
     "text": [
      "Searching chunk database...\n",
      "Searching keyword-chunk database...\n",
      "Retrieved 10 results\n",
      "Retrieving: 1 keyword results, 1 chunk results, 8 keyword-chunk results\n",
      "Searching keyword database with 4 query terms...\n",
      "Searching chunk database...\n",
      "Searching keyword-chunk database...\n",
      "Retrieved 10 results\n",
      "Retrieving: 8 keyword results, 1 chunk results, 1 keyword-chunk results\n",
      "Searching keyword database with 4 query terms...\n"
     ]
    },
    {
     "name": "stderr",
     "output_type": "stream",
     "text": [
      "\r",
      "Processing queries:   6%|█▎                      | 2/35 [00:01<00:18,  1.76it/s]"
     ]
    },
    {
     "name": "stdout",
     "output_type": "stream",
     "text": [
      "Searching chunk database...\n",
      "Searching keyword-chunk database...\n",
      "Retrieved 10 results\n",
      "Retrieving: 1 keyword results, 1 chunk results, 8 keyword-chunk results\n",
      "Searching keyword database with 2 query terms...\n",
      "Searching chunk database...\n",
      "Searching keyword-chunk database...\n"
     ]
    },
    {
     "name": "stderr",
     "output_type": "stream",
     "text": [
      "\r",
      "Processing queries:   9%|██                      | 3/35 [00:01<00:14,  2.17it/s]"
     ]
    },
    {
     "name": "stdout",
     "output_type": "stream",
     "text": [
      "Retrieved 10 results\n",
      "Retrieving: 8 keyword results, 1 chunk results, 1 keyword-chunk results\n",
      "Searching keyword database with 2 query terms...\n",
      "Searching chunk database...\n",
      "Searching keyword-chunk database...\n",
      "Retrieved 10 results\n",
      "Retrieving: 1 keyword results, 1 chunk results, 8 keyword-chunk results\n",
      "Searching keyword database with 3 query terms...\n",
      "Searching chunk database...\n",
      "Searching keyword-chunk database...\n",
      "Retrieved 10 results\n",
      "Retrieving: 8 keyword results, 1 chunk results, 1 keyword-chunk results\n",
      "Searching keyword database with 3 query terms...\n"
     ]
    },
    {
     "name": "stderr",
     "output_type": "stream",
     "text": [
      "\r",
      "Processing queries:  11%|██▋                     | 4/35 [00:01<00:14,  2.17it/s]"
     ]
    },
    {
     "name": "stdout",
     "output_type": "stream",
     "text": [
      "Searching chunk database...\n",
      "Searching keyword-chunk database...\n",
      "Retrieved 10 results\n",
      "Retrieving: 1 keyword results, 1 chunk results, 8 keyword-chunk results\n",
      "Searching keyword database with 3 query terms...\n",
      "Searching chunk database...\n",
      "Searching keyword-chunk database...\n",
      "Retrieved 10 results\n",
      "Retrieving: 8 keyword results, 1 chunk results, 1 keyword-chunk results\n",
      "Searching keyword database with 3 query terms...\n"
     ]
    },
    {
     "name": "stderr",
     "output_type": "stream",
     "text": [
      "\r",
      "Processing queries:  14%|███▍                    | 5/35 [00:02<00:13,  2.18it/s]"
     ]
    },
    {
     "name": "stdout",
     "output_type": "stream",
     "text": [
      "Searching chunk database...\n",
      "Searching keyword-chunk database...\n",
      "Retrieved 10 results\n",
      "Retrieving: 1 keyword results, 1 chunk results, 8 keyword-chunk results\n",
      "Searching keyword database with 2 query terms...\n",
      "Searching chunk database...\n",
      "Searching keyword-chunk database...\n",
      "Retrieved 10 results\n",
      "Retrieving: 8 keyword results, 1 chunk results, 1 keyword-chunk results\n"
     ]
    },
    {
     "name": "stderr",
     "output_type": "stream",
     "text": [
      "\r",
      "Processing queries:  17%|████                    | 6/35 [00:02<00:11,  2.46it/s]"
     ]
    },
    {
     "name": "stdout",
     "output_type": "stream",
     "text": [
      "Searching keyword database with 2 query terms...\n",
      "Searching chunk database...\n",
      "Searching keyword-chunk database...\n",
      "Retrieved 10 results\n",
      "Retrieving: 1 keyword results, 1 chunk results, 8 keyword-chunk results\n",
      "Searching keyword database with 2 query terms...\n"
     ]
    },
    {
     "name": "stderr",
     "output_type": "stream",
     "text": [
      "\r",
      "Processing queries:  20%|████▊                   | 7/35 [00:02<00:10,  2.64it/s]"
     ]
    },
    {
     "name": "stdout",
     "output_type": "stream",
     "text": [
      "Searching chunk database...\n",
      "Searching keyword-chunk database...\n",
      "Retrieved 10 results\n",
      "Retrieving: 8 keyword results, 1 chunk results, 1 keyword-chunk results\n",
      "Searching keyword database with 2 query terms...\n",
      "Searching chunk database...\n",
      "Searching keyword-chunk database...\n",
      "Retrieved 10 results\n",
      "Retrieving: 1 keyword results, 1 chunk results, 8 keyword-chunk results\n",
      "Searching keyword database with 5 query terms...\n",
      "Searching chunk database...\n",
      "Searching keyword-chunk database...\n",
      "Retrieved 10 results\n",
      "Retrieving: 8 keyword results, 1 chunk results, 1 keyword-chunk results\n",
      "Searching keyword database with 5 query terms...\n"
     ]
    },
    {
     "name": "stderr",
     "output_type": "stream",
     "text": [
      "\r",
      "Processing queries:  23%|█████▍                  | 8/35 [00:03<00:13,  2.00it/s]"
     ]
    },
    {
     "name": "stdout",
     "output_type": "stream",
     "text": [
      "Searching chunk database...\n",
      "Searching keyword-chunk database...\n",
      "Retrieved 10 results\n",
      "Retrieving: 1 keyword results, 1 chunk results, 8 keyword-chunk results\n",
      "Searching keyword database with 6 query terms...\n",
      "Searching chunk database...\n",
      "Searching keyword-chunk database...\n",
      "Retrieved 10 results\n",
      "Retrieving: 8 keyword results, 1 chunk results, 1 keyword-chunk results\n",
      "Searching keyword database with 6 query terms...\n"
     ]
    },
    {
     "name": "stderr",
     "output_type": "stream",
     "text": [
      "\r",
      "Processing queries:  26%|██████▏                 | 9/35 [00:04<00:16,  1.62it/s]"
     ]
    },
    {
     "name": "stdout",
     "output_type": "stream",
     "text": [
      "Searching chunk database...\n",
      "Searching keyword-chunk database...\n",
      "Retrieved 10 results\n",
      "Retrieving: 1 keyword results, 1 chunk results, 8 keyword-chunk results\n",
      "Searching keyword database with 6 query terms...\n",
      "Searching chunk database...\n",
      "Searching keyword-chunk database...\n",
      "Retrieved 10 results\n",
      "Retrieving: 8 keyword results, 1 chunk results, 1 keyword-chunk results\n",
      "Searching keyword database with 6 query terms...\n"
     ]
    },
    {
     "name": "stderr",
     "output_type": "stream",
     "text": [
      "\r",
      "Processing queries:  29%|██████▌                | 10/35 [00:05<00:18,  1.35it/s]"
     ]
    },
    {
     "name": "stdout",
     "output_type": "stream",
     "text": [
      "Searching chunk database...\n",
      "Searching keyword-chunk database...\n",
      "Retrieved 10 results\n",
      "Retrieving: 1 keyword results, 1 chunk results, 8 keyword-chunk results\n",
      "Searching keyword database with 6 query terms...\n",
      "Searching chunk database...\n",
      "Searching keyword-chunk database...\n",
      "Retrieved 10 results\n",
      "Retrieving: 8 keyword results, 1 chunk results, 1 keyword-chunk results\n",
      "Searching keyword database with 6 query terms...\n"
     ]
    },
    {
     "name": "stderr",
     "output_type": "stream",
     "text": [
      "\r",
      "Processing queries:  31%|███████▏               | 11/35 [00:06<00:19,  1.22it/s]"
     ]
    },
    {
     "name": "stdout",
     "output_type": "stream",
     "text": [
      "Searching chunk database...\n",
      "Searching keyword-chunk database...\n",
      "Retrieved 10 results\n",
      "Retrieving: 1 keyword results, 1 chunk results, 8 keyword-chunk results\n",
      "Searching keyword database with 2 query terms...\n"
     ]
    },
    {
     "name": "stderr",
     "output_type": "stream",
     "text": [
      "\r",
      "Processing queries:  34%|███████▉               | 12/35 [00:06<00:15,  1.51it/s]"
     ]
    },
    {
     "name": "stdout",
     "output_type": "stream",
     "text": [
      "Searching chunk database...\n",
      "Searching keyword-chunk database...\n",
      "Retrieved 10 results\n",
      "Retrieving: 8 keyword results, 1 chunk results, 1 keyword-chunk results\n",
      "Searching keyword database with 2 query terms...\n",
      "Searching chunk database...\n",
      "Searching keyword-chunk database...\n",
      "Retrieved 10 results\n",
      "Retrieving: 1 keyword results, 1 chunk results, 8 keyword-chunk results\n",
      "Searching keyword database with 6 query terms...\n",
      "Searching chunk database...\n",
      "Searching keyword-chunk database...\n",
      "Retrieved 10 results\n",
      "Retrieving: 8 keyword results, 1 chunk results, 1 keyword-chunk results\n",
      "Searching keyword database with 6 query terms...\n"
     ]
    },
    {
     "name": "stderr",
     "output_type": "stream",
     "text": [
      "\r",
      "Processing queries:  37%|████████▌              | 13/35 [00:07<00:16,  1.35it/s]"
     ]
    },
    {
     "name": "stdout",
     "output_type": "stream",
     "text": [
      "Searching chunk database...\n",
      "Searching keyword-chunk database...\n",
      "Retrieved 10 results\n",
      "Retrieving: 1 keyword results, 1 chunk results, 8 keyword-chunk results\n",
      "Searching keyword database with 4 query terms...\n",
      "Searching chunk database...\n",
      "Searching keyword-chunk database...\n",
      "Retrieved 10 results\n",
      "Retrieving: 8 keyword results, 1 chunk results, 1 keyword-chunk results\n",
      "Searching keyword database with 4 query terms...\n"
     ]
    },
    {
     "name": "stderr",
     "output_type": "stream",
     "text": [
      "\r",
      "Processing queries:  40%|█████████▏             | 14/35 [00:08<00:14,  1.41it/s]"
     ]
    },
    {
     "name": "stdout",
     "output_type": "stream",
     "text": [
      "Searching chunk database...\n",
      "Searching keyword-chunk database...\n",
      "Retrieved 10 results\n",
      "Retrieving: 1 keyword results, 1 chunk results, 8 keyword-chunk results\n",
      "Searching keyword database with 2 query terms...\n",
      "Searching chunk database...\n"
     ]
    },
    {
     "name": "stderr",
     "output_type": "stream",
     "text": [
      "\r",
      "Processing queries:  43%|█████████▊             | 15/35 [00:08<00:11,  1.68it/s]"
     ]
    },
    {
     "name": "stdout",
     "output_type": "stream",
     "text": [
      "Searching keyword-chunk database...\n",
      "Retrieved 10 results\n",
      "Retrieving: 8 keyword results, 1 chunk results, 1 keyword-chunk results\n",
      "Searching keyword database with 2 query terms...\n",
      "Searching chunk database...\n",
      "Searching keyword-chunk database...\n",
      "Retrieved 10 results\n",
      "Retrieving: 1 keyword results, 1 chunk results, 8 keyword-chunk results\n",
      "Searching keyword database with 4 query terms...\n",
      "Searching chunk database...\n",
      "Searching keyword-chunk database...\n",
      "Retrieved 10 results\n",
      "Retrieving: 8 keyword results, 1 chunk results, 1 keyword-chunk results\n",
      "Searching keyword database with 4 query terms...\n"
     ]
    },
    {
     "name": "stderr",
     "output_type": "stream",
     "text": [
      "\r",
      "Processing queries:  46%|██████████▌            | 16/35 [00:09<00:11,  1.66it/s]"
     ]
    },
    {
     "name": "stdout",
     "output_type": "stream",
     "text": [
      "Searching chunk database...\n",
      "Searching keyword-chunk database...\n",
      "Retrieved 10 results\n",
      "Retrieving: 1 keyword results, 1 chunk results, 8 keyword-chunk results\n",
      "Searching keyword database with 2 query terms...\n",
      "Searching chunk database...\n",
      "Searching keyword-chunk database...\n"
     ]
    },
    {
     "name": "stderr",
     "output_type": "stream",
     "text": [
      "\r",
      "Processing queries:  49%|███████████▏           | 17/35 [00:09<00:09,  1.93it/s]"
     ]
    },
    {
     "name": "stdout",
     "output_type": "stream",
     "text": [
      "Retrieved 10 results\n",
      "Retrieving: 8 keyword results, 1 chunk results, 1 keyword-chunk results\n",
      "Searching keyword database with 2 query terms...\n",
      "Searching chunk database...\n",
      "Searching keyword-chunk database...\n",
      "Retrieved 10 results\n",
      "Retrieving: 1 keyword results, 1 chunk results, 8 keyword-chunk results\n",
      "Searching keyword database with 5 query terms...\n",
      "Searching chunk database...\n",
      "Searching keyword-chunk database...\n",
      "Retrieved 10 results\n",
      "Retrieving: 8 keyword results, 1 chunk results, 1 keyword-chunk results\n",
      "Searching keyword database with 5 query terms...\n"
     ]
    },
    {
     "name": "stderr",
     "output_type": "stream",
     "text": [
      "\r",
      "Processing queries:  51%|███████████▊           | 18/35 [00:10<00:11,  1.54it/s]"
     ]
    },
    {
     "name": "stdout",
     "output_type": "stream",
     "text": [
      "Searching chunk database...\n",
      "Searching keyword-chunk database...\n",
      "Retrieved 10 results\n",
      "Retrieving: 1 keyword results, 1 chunk results, 8 keyword-chunk results\n",
      "Searching keyword database with 4 query terms...\n",
      "Searching chunk database...\n",
      "Searching keyword-chunk database...\n",
      "Retrieved 10 results\n",
      "Retrieving: 8 keyword results, 1 chunk results, 1 keyword-chunk results\n",
      "Searching keyword database with 4 query terms...\n"
     ]
    },
    {
     "name": "stderr",
     "output_type": "stream",
     "text": [
      "\r",
      "Processing queries:  54%|████████████▍          | 19/35 [00:11<00:12,  1.30it/s]"
     ]
    },
    {
     "name": "stdout",
     "output_type": "stream",
     "text": [
      "Searching chunk database...\n",
      "Searching keyword-chunk database...\n",
      "Retrieved 10 results\n",
      "Retrieving: 1 keyword results, 1 chunk results, 8 keyword-chunk results\n",
      "Searching keyword database with 3 query terms...\n",
      "Searching chunk database...\n",
      "Searching keyword-chunk database...\n",
      "Retrieved 10 results\n",
      "Retrieving: 8 keyword results, 1 chunk results, 1 keyword-chunk results\n",
      "Searching keyword database with 3 query terms...\n"
     ]
    },
    {
     "name": "stderr",
     "output_type": "stream",
     "text": [
      "\r",
      "Processing queries:  57%|█████████████▏         | 20/35 [00:12<00:11,  1.35it/s]"
     ]
    },
    {
     "name": "stdout",
     "output_type": "stream",
     "text": [
      "Searching chunk database...\n",
      "Searching keyword-chunk database...\n",
      "Retrieved 10 results\n",
      "Retrieving: 1 keyword results, 1 chunk results, 8 keyword-chunk results\n",
      "Searching keyword database with 2 query terms...\n",
      "Searching chunk database...\n",
      "Searching keyword-chunk database...\n"
     ]
    },
    {
     "name": "stderr",
     "output_type": "stream",
     "text": [
      "\r",
      "Processing queries:  60%|█████████████▊         | 21/35 [00:12<00:08,  1.60it/s]"
     ]
    },
    {
     "name": "stdout",
     "output_type": "stream",
     "text": [
      "Retrieved 10 results\n",
      "Retrieving: 8 keyword results, 1 chunk results, 1 keyword-chunk results\n",
      "Searching keyword database with 2 query terms...\n",
      "Searching chunk database...\n",
      "Searching keyword-chunk database...\n",
      "Retrieved 10 results\n",
      "Retrieving: 1 keyword results, 1 chunk results, 8 keyword-chunk results\n",
      "Searching keyword database with 3 query terms...\n",
      "Searching chunk database...\n",
      "Searching keyword-chunk database...\n",
      "Retrieved 10 results\n",
      "Retrieving: 8 keyword results, 1 chunk results, 1 keyword-chunk results\n",
      "Searching keyword database with 3 query terms...\n",
      "Searching chunk database...\n",
      "Searching keyword-chunk database...\n"
     ]
    },
    {
     "name": "stderr",
     "output_type": "stream",
     "text": [
      "\r",
      "Processing queries:  63%|██████████████▍        | 22/35 [00:13<00:07,  1.71it/s]"
     ]
    },
    {
     "name": "stdout",
     "output_type": "stream",
     "text": [
      "Retrieved 10 results\n",
      "Retrieving: 1 keyword results, 1 chunk results, 8 keyword-chunk results\n",
      "Searching keyword database with 3 query terms...\n",
      "Searching chunk database...\n",
      "Searching keyword-chunk database...\n",
      "Retrieved 10 results\n",
      "Retrieving: 8 keyword results, 1 chunk results, 1 keyword-chunk results\n",
      "Searching keyword database with 3 query terms...\n"
     ]
    },
    {
     "name": "stderr",
     "output_type": "stream",
     "text": [
      "\r",
      "Processing queries:  66%|███████████████        | 23/35 [00:13<00:06,  1.80it/s]"
     ]
    },
    {
     "name": "stdout",
     "output_type": "stream",
     "text": [
      "Searching chunk database...\n",
      "Searching keyword-chunk database...\n",
      "Retrieved 10 results\n",
      "Retrieving: 1 keyword results, 1 chunk results, 8 keyword-chunk results\n",
      "Searching keyword database with 5 query terms...\n",
      "Searching chunk database...\n",
      "Searching keyword-chunk database...\n",
      "Retrieved 10 results\n",
      "Retrieving: 8 keyword results, 1 chunk results, 1 keyword-chunk results\n",
      "Searching keyword database with 5 query terms...\n"
     ]
    },
    {
     "name": "stderr",
     "output_type": "stream",
     "text": [
      "\r",
      "Processing queries:  69%|███████████████▊       | 24/35 [00:14<00:07,  1.54it/s]"
     ]
    },
    {
     "name": "stdout",
     "output_type": "stream",
     "text": [
      "Searching chunk database...\n",
      "Searching keyword-chunk database...\n",
      "Retrieved 10 results\n",
      "Retrieving: 1 keyword results, 1 chunk results, 8 keyword-chunk results\n",
      "Searching keyword database with 7 query terms...\n",
      "Searching chunk database...\n",
      "Searching keyword-chunk database...\n",
      "Retrieved 10 results\n",
      "Retrieving: 8 keyword results, 1 chunk results, 1 keyword-chunk results\n",
      "Searching keyword database with 7 query terms...\n"
     ]
    },
    {
     "name": "stderr",
     "output_type": "stream",
     "text": [
      "\r",
      "Processing queries:  71%|████████████████▍      | 25/35 [00:15<00:07,  1.25it/s]"
     ]
    },
    {
     "name": "stdout",
     "output_type": "stream",
     "text": [
      "Searching chunk database...\n",
      "Searching keyword-chunk database...\n",
      "Retrieved 10 results\n",
      "Retrieving: 1 keyword results, 1 chunk results, 8 keyword-chunk results\n",
      "Searching keyword database with 4 query terms...\n",
      "Searching chunk database...\n",
      "Searching keyword-chunk database...\n",
      "Retrieved 10 results\n",
      "Retrieving: 8 keyword results, 1 chunk results, 1 keyword-chunk results\n",
      "Searching keyword database with 4 query terms...\n"
     ]
    },
    {
     "name": "stderr",
     "output_type": "stream",
     "text": [
      "\r",
      "Processing queries:  74%|█████████████████      | 26/35 [00:16<00:06,  1.34it/s]"
     ]
    },
    {
     "name": "stdout",
     "output_type": "stream",
     "text": [
      "Searching chunk database...\n",
      "Searching keyword-chunk database...\n",
      "Retrieved 10 results\n",
      "Retrieving: 1 keyword results, 1 chunk results, 8 keyword-chunk results\n",
      "Searching keyword database with 9 query terms...\n",
      "Searching chunk database...\n",
      "Searching keyword-chunk database...\n",
      "Retrieved 10 results\n",
      "Retrieving: 8 keyword results, 1 chunk results, 1 keyword-chunk results\n",
      "Searching keyword database with 9 query terms...\n"
     ]
    },
    {
     "name": "stderr",
     "output_type": "stream",
     "text": [
      "\r",
      "Processing queries:  77%|█████████████████▋     | 27/35 [00:17<00:07,  1.03it/s]"
     ]
    },
    {
     "name": "stdout",
     "output_type": "stream",
     "text": [
      "Searching chunk database...\n",
      "Searching keyword-chunk database...\n",
      "Retrieved 10 results\n",
      "Retrieving: 1 keyword results, 1 chunk results, 8 keyword-chunk results\n",
      "Searching keyword database with 4 query terms...\n",
      "Searching chunk database...\n",
      "Searching keyword-chunk database...\n",
      "Retrieved 10 results\n",
      "Retrieving: 8 keyword results, 1 chunk results, 1 keyword-chunk results\n",
      "Searching keyword database with 4 query terms...\n"
     ]
    },
    {
     "name": "stderr",
     "output_type": "stream",
     "text": [
      "\r",
      "Processing queries:  80%|██████████████████▍    | 28/35 [00:18<00:06,  1.13it/s]"
     ]
    },
    {
     "name": "stdout",
     "output_type": "stream",
     "text": [
      "Searching chunk database...\n",
      "Searching keyword-chunk database...\n",
      "Retrieved 10 results\n",
      "Retrieving: 1 keyword results, 1 chunk results, 8 keyword-chunk results\n",
      "Searching keyword database with 6 query terms...\n",
      "Searching chunk database...\n",
      "Searching keyword-chunk database...\n",
      "Retrieved 10 results\n",
      "Retrieving: 8 keyword results, 1 chunk results, 1 keyword-chunk results\n",
      "Searching keyword database with 6 query terms...\n"
     ]
    },
    {
     "name": "stderr",
     "output_type": "stream",
     "text": [
      "\r",
      "Processing queries:  83%|███████████████████    | 29/35 [00:19<00:05,  1.10it/s]"
     ]
    },
    {
     "name": "stdout",
     "output_type": "stream",
     "text": [
      "Searching chunk database...\n",
      "Searching keyword-chunk database...\n",
      "Retrieved 10 results\n",
      "Retrieving: 1 keyword results, 1 chunk results, 8 keyword-chunk results\n",
      "Searching keyword database with 4 query terms...\n",
      "Searching chunk database...\n",
      "Searching keyword-chunk database...\n",
      "Retrieved 10 results\n",
      "Retrieving: 8 keyword results, 1 chunk results, 1 keyword-chunk results\n",
      "Searching keyword database with 4 query terms...\n"
     ]
    },
    {
     "name": "stderr",
     "output_type": "stream",
     "text": [
      "\r",
      "Processing queries:  86%|███████████████████▋   | 30/35 [00:20<00:04,  1.17it/s]"
     ]
    },
    {
     "name": "stdout",
     "output_type": "stream",
     "text": [
      "Searching chunk database...\n",
      "Searching keyword-chunk database...\n",
      "Retrieved 10 results\n",
      "Retrieving: 1 keyword results, 1 chunk results, 8 keyword-chunk results\n",
      "Searching keyword database with 7 query terms...\n",
      "Searching chunk database...\n",
      "Searching keyword-chunk database...\n",
      "Retrieved 10 results\n",
      "Retrieving: 8 keyword results, 1 chunk results, 1 keyword-chunk results\n",
      "Searching keyword database with 7 query terms...\n"
     ]
    },
    {
     "name": "stderr",
     "output_type": "stream",
     "text": [
      "\r",
      "Processing queries:  89%|████████████████████▎  | 31/35 [00:21<00:03,  1.05it/s]"
     ]
    },
    {
     "name": "stdout",
     "output_type": "stream",
     "text": [
      "Searching chunk database...\n",
      "Searching keyword-chunk database...\n",
      "Retrieved 10 results\n",
      "Retrieving: 1 keyword results, 1 chunk results, 8 keyword-chunk results\n",
      "Searching keyword database with 6 query terms...\n",
      "Searching chunk database...\n",
      "Searching keyword-chunk database...\n",
      "Retrieved 10 results\n",
      "Retrieving: 8 keyword results, 1 chunk results, 1 keyword-chunk results\n",
      "Searching keyword database with 6 query terms...\n"
     ]
    },
    {
     "name": "stderr",
     "output_type": "stream",
     "text": [
      "\r",
      "Processing queries:  91%|█████████████████████  | 32/35 [00:22<00:02,  1.04it/s]"
     ]
    },
    {
     "name": "stdout",
     "output_type": "stream",
     "text": [
      "Searching chunk database...\n",
      "Searching keyword-chunk database...\n",
      "Retrieved 10 results\n",
      "Retrieving: 1 keyword results, 1 chunk results, 8 keyword-chunk results\n",
      "Searching keyword database with 5 query terms...\n",
      "Searching chunk database...\n",
      "Searching keyword-chunk database...\n",
      "Retrieved 10 results\n",
      "Retrieving: 8 keyword results, 1 chunk results, 1 keyword-chunk results\n",
      "Searching keyword database with 5 query terms...\n"
     ]
    },
    {
     "name": "stderr",
     "output_type": "stream",
     "text": [
      "\r",
      "Processing queries:  94%|█████████████████████▋ | 33/35 [00:23<00:01,  1.08it/s]"
     ]
    },
    {
     "name": "stdout",
     "output_type": "stream",
     "text": [
      "Searching chunk database...\n",
      "Searching keyword-chunk database...\n",
      "Retrieved 10 results\n",
      "Retrieving: 1 keyword results, 1 chunk results, 8 keyword-chunk results\n",
      "Searching keyword database with 23 query terms...\n",
      "Searching chunk database...\n",
      "Searching keyword-chunk database...\n",
      "Retrieved 10 results\n",
      "Retrieving: 8 keyword results, 1 chunk results, 1 keyword-chunk results\n",
      "Searching keyword database with 23 query terms...\n",
      "Searching chunk database...\n",
      "Searching keyword-chunk database...\n"
     ]
    },
    {
     "name": "stderr",
     "output_type": "stream",
     "text": [
      "\r",
      "Processing queries:  97%|██████████████████████▎| 34/35 [00:27<00:01,  1.92s/it]"
     ]
    },
    {
     "name": "stdout",
     "output_type": "stream",
     "text": [
      "Retrieved 10 results\n",
      "Retrieving: 1 keyword results, 1 chunk results, 8 keyword-chunk results\n",
      "Searching keyword database with 3 query terms...\n",
      "Searching chunk database...\n",
      "Searching keyword-chunk database...\n",
      "Retrieved 10 results\n",
      "Retrieving: 8 keyword results, 1 chunk results, 1 keyword-chunk results\n",
      "Searching keyword database with 3 query terms...\n"
     ]
    },
    {
     "name": "stderr",
     "output_type": "stream",
     "text": [
      "Processing queries: 100%|███████████████████████| 35/35 [00:28<00:00,  1.25it/s]"
     ]
    },
    {
     "name": "stdout",
     "output_type": "stream",
     "text": [
      "Searching chunk database...\n",
      "Searching keyword-chunk database...\n",
      "Retrieved 10 results\n"
     ]
    },
    {
     "name": "stderr",
     "output_type": "stream",
     "text": [
      "\n"
     ]
    }
   ],
   "source": [
    "from tqdm import tqdm\n",
    "# You could also generate test queries using an LLM if you have access to one\n",
    "\n",
    "## Run Queries on Both Systems\n",
    "\n",
    "# We'll run each query through both RAG systems and collect the results.\n",
    "\n",
    "naive_results = []\n",
    "contextual_hybrid_results = []\n",
    "contextual_keywords_only_results = []\n",
    "\n",
    "for query in tqdm(questions, desc=\"Processing queries\"):\n",
    "    # Get results from naive RAG\n",
    "    naive_result = naive_rag.process_query(query, top_k=10)\n",
    "    naive_results.append(naive_result)\n",
    "    \n",
    "    # Get results from contextual RAG (hybrid mode)\n",
    "    contextual_hybrid_result = contextual_rag.process_query(\n",
    "        query, \n",
    "        top_k=10, \n",
    "        keyword_weight=0.1,  # Emphasize keyword matches\n",
    "        chunk_weight=0.1,     # But also consider whole-chunk similarity\n",
    "        keyword_chunk_weight=0.8,\n",
    "    )\n",
    "    contextual_hybrid_results.append(contextual_hybrid_result)\n",
    "    \n",
    "    # Get results from contextual RAG (keywords-only mode)\n",
    "    contextual_keywords_result = contextual_rag.process_query(\n",
    "        query, \n",
    "        top_k=10, \n",
    "        keyword_weight=0.8,  # Emphasize keyword matches\n",
    "        chunk_weight=0.1,     # But also consider whole-chunk similarity\n",
    "        keyword_chunk_weight=0.1,\n",
    "    )\n",
    "    contextual_keywords_only_results.append(contextual_keywords_result)"
   ]
  },
  {
   "cell_type": "code",
   "execution_count": 17,
   "id": "060456c6",
   "metadata": {},
   "outputs": [],
   "source": [
    "## Prepare Data for RAGAS Evaluation\n",
    "\n",
    "# RAGAS requires data in specific format for evaluation.\n",
    "\n",
    "from datasets import Dataset\n",
    "\n",
    "from ragas.metrics import  (context_precision,\n",
    "    context_recall,\n",
    "    context_relevancy)\n",
    "\n",
    "def prepare_ragas_data(queries, answers, retrieval_results):\n",
    "    \"\"\"\n",
    "    Prepare data for RAGAS evaluation.\n",
    "    \n",
    "    Args:\n",
    "        queries: List of query strings\n",
    "        retrieval_results: List of retrieval results for each query\n",
    "        \n",
    "    Returns:\n",
    "        Dataset in RAGAS format\n",
    "    \"\"\"\n",
    "    data = {\n",
    "        \"question\": [],\n",
    "        'ground_truth': [],\n",
    "        \"contexts\": [],\n",
    "        # For a proper evaluation we'd need ground truth answers, but for now we'll skip answer evaluation\n",
    "        # \"answer\": [],\n",
    "        # \"ground_truths\": []\n",
    "    }\n",
    "    \n",
    "    for query, answer, results in zip(queries, answers, retrieval_results):\n",
    "        data[\"question\"].append(query)\n",
    "        data['ground_truth'].append(answer)\n",
    "        # Extract text from results\n",
    "        contexts = [result.get(\"text\", result.get('chunk_text'))for result in results]\n",
    "        data[\"contexts\"].append(contexts)\n",
    "        \n",
    "        # We'd need actual LLM-generated answers and ground truths for a complete evaluation\n",
    "        # data[\"answer\"].append(\"\")\n",
    "        # data[\"ground_truths\"].append([\"\"])\n",
    "    \n",
    "    return Dataset.from_dict(data)"
   ]
  },
  {
   "cell_type": "code",
   "execution_count": 18,
   "id": "a44c9f36",
   "metadata": {},
   "outputs": [],
   "source": [
    "from ragas.evaluation import evaluate\n",
    "# Prepare datasets for RAGAS\n",
    "naive_dataset = prepare_ragas_data(questions, answers, naive_results)\n",
    "contextual_hybrid_dataset = prepare_ragas_data(questions, answers, contextual_hybrid_results)\n",
    "contextual_keywords_dataset = prepare_ragas_data(questions, answers, contextual_keywords_only_results)\n"
   ]
  },
  {
   "cell_type": "code",
   "execution_count": 19,
   "id": "010f0156",
   "metadata": {},
   "outputs": [
    {
     "name": "stdout",
     "output_type": "stream",
     "text": [
      "Evaluating NaiveRAG...\n"
     ]
    },
    {
     "data": {
      "application/vnd.jupyter.widget-view+json": {
       "model_id": "2a2b1ebeb7b34632a9897713eb565b90",
       "version_major": 2,
       "version_minor": 0
      },
      "text/plain": [
       "Evaluating:   0%|          | 0/105 [00:00<?, ?it/s]"
      ]
     },
     "metadata": {},
     "output_type": "display_data"
    },
    {
     "name": "stderr",
     "output_type": "stream",
     "text": [
      "Failed to parse output. Returning None.\n"
     ]
    },
    {
     "name": "stdout",
     "output_type": "stream",
     "text": [
      "Evaluating ContextualRAG (hybrid mode)...\n"
     ]
    },
    {
     "data": {
      "application/vnd.jupyter.widget-view+json": {
       "model_id": "4b7634a32cf34da0827303ebff04f037",
       "version_major": 2,
       "version_minor": 0
      },
      "text/plain": [
       "Evaluating:   0%|          | 0/105 [00:00<?, ?it/s]"
      ]
     },
     "metadata": {},
     "output_type": "display_data"
    },
    {
     "name": "stdout",
     "output_type": "stream",
     "text": [
      "Evaluating ContextualRAG (keywords-only mode)...\n"
     ]
    },
    {
     "data": {
      "application/vnd.jupyter.widget-view+json": {
       "model_id": "c5087f14c2614e38b5a01767fd1f24df",
       "version_major": 2,
       "version_minor": 0
      },
      "text/plain": [
       "Evaluating:   0%|          | 0/105 [00:00<?, ?it/s]"
      ]
     },
     "metadata": {},
     "output_type": "display_data"
    },
    {
     "name": "stderr",
     "output_type": "stream",
     "text": [
      "Failed to parse output. Returning None.\n",
      "Failed to parse output. Returning None.\n"
     ]
    }
   ],
   "source": [
    "## Evaluate with RAGAS\n",
    "\n",
    "# Now we'll use RAGAS to evaluate the retrieval quality of each system.\n",
    "\n",
    "# Since we're focused on retrieval quality, we'll use the retrieval metrics\n",
    "metrics = [\n",
    "    context_precision,\n",
    "    context_recall,\n",
    "    context_relevancy\n",
    "]\n",
    "\n",
    "# Evaluate NaiveRAG\n",
    "print(\"Evaluating NaiveRAG...\")\n",
    "naive_results = evaluate(naive_dataset, metrics)\n",
    "\n",
    "# Evaluate ContextualRAG (hybrid mode)\n",
    "print(\"Evaluating ContextualRAG (hybrid mode)...\")\n",
    "contextual_hybrid_results = evaluate(contextual_hybrid_dataset, metrics)\n",
    "\n",
    "# Evaluate ContextualRAG (keywords-only mode)\n",
    "print(\"Evaluating ContextualRAG (keywords-only mode)...\")\n",
    "contextual_keywords_results = evaluate(contextual_keywords_dataset, metrics)\n",
    "\n",
    "## Compare Results\n",
    "\n",
    "# Function to extract metric scores\n",
    "def get_metric_scores(result):\n",
    "    return {\n",
    "        \"context_precision\": result[\"context_precision\"],\n",
    "        \"context_recall\": result[\"context_recall\"],\n",
    "        \"context_relevancy\": result[\"context_relevancy\"]\n",
    "    }\n",
    "\n",
    "# Get scores\n",
    "naive_scores = get_metric_scores(naive_results)\n",
    "contextual_hybrid_scores = get_metric_scores(contextual_hybrid_results)\n",
    "contextual_keywords_scores = get_metric_scores(contextual_keywords_results)\n",
    "\n",
    "# Create a comparison dataframe\n",
    "comparison_df = pd.DataFrame({\n",
    "    \"NaiveRAG\": naive_scores,\n",
    "    \"ContextualRAG (Hybrid)\": contextual_hybrid_scores,\n",
    "    \"ContextualRAG (Keywords-Only)\": contextual_keywords_scores\n",
    "})"
   ]
  },
  {
   "cell_type": "code",
   "execution_count": 20,
   "id": "ea77752c",
   "metadata": {},
   "outputs": [
    {
     "data": {
      "text/html": [
       "<div>\n",
       "<style scoped>\n",
       "    .dataframe tbody tr th:only-of-type {\n",
       "        vertical-align: middle;\n",
       "    }\n",
       "\n",
       "    .dataframe tbody tr th {\n",
       "        vertical-align: top;\n",
       "    }\n",
       "\n",
       "    .dataframe thead th {\n",
       "        text-align: right;\n",
       "    }\n",
       "</style>\n",
       "<table border=\"1\" class=\"dataframe\">\n",
       "  <thead>\n",
       "    <tr style=\"text-align: right;\">\n",
       "      <th></th>\n",
       "      <th>NaiveRAG</th>\n",
       "      <th>ContextualRAG (Hybrid)</th>\n",
       "      <th>ContextualRAG (Keywords-Only)</th>\n",
       "    </tr>\n",
       "  </thead>\n",
       "  <tbody>\n",
       "    <tr>\n",
       "      <th>context_precision</th>\n",
       "      <td>0.700931</td>\n",
       "      <td>0.815601</td>\n",
       "      <td>0.747947</td>\n",
       "    </tr>\n",
       "    <tr>\n",
       "      <th>context_recall</th>\n",
       "      <td>0.656863</td>\n",
       "      <td>0.825714</td>\n",
       "      <td>0.585859</td>\n",
       "    </tr>\n",
       "    <tr>\n",
       "      <th>context_relevancy</th>\n",
       "      <td>0.004670</td>\n",
       "      <td>0.005676</td>\n",
       "      <td>0.009598</td>\n",
       "    </tr>\n",
       "  </tbody>\n",
       "</table>\n",
       "</div>"
      ],
      "text/plain": [
       "                   NaiveRAG  ContextualRAG (Hybrid)  \\\n",
       "context_precision  0.700931                0.815601   \n",
       "context_recall     0.656863                0.825714   \n",
       "context_relevancy  0.004670                0.005676   \n",
       "\n",
       "                   ContextualRAG (Keywords-Only)  \n",
       "context_precision                       0.747947  \n",
       "context_recall                          0.585859  \n",
       "context_relevancy                       0.009598  "
      ]
     },
     "execution_count": 20,
     "metadata": {},
     "output_type": "execute_result"
    }
   ],
   "source": [
    "comparison_df"
   ]
  },
  {
   "cell_type": "code",
   "execution_count": 21,
   "id": "833a7ac6",
   "metadata": {},
   "outputs": [
    {
     "data": {
      "text/plain": [
       "<Figure size 1200x800 with 0 Axes>"
      ]
     },
     "metadata": {},
     "output_type": "display_data"
    },
    {
     "data": {
      "image/png": "[encoded data removed]",
      "text/plain": [
       "<Figure size 640x480 with 1 Axes>"
      ]
     },
     "metadata": {},
     "output_type": "display_data"
    }
   ],
   "source": [
    "import matplotlib.pyplot as plt\n",
    "# Visualize the comparison\n",
    "plt.figure(figsize=(12, 8))\n",
    "comparison_df.plot(kind='bar')\n",
    "plt.title('RAGAS Metrics Comparison: NaiveRAG vs ContextualRAG')\n",
    "plt.ylabel('Score')\n",
    "plt.ylim(0, 1)\n",
    "plt.grid(axis='y', linestyle='--', alpha=0.7)\n",
    "plt.legend(title='RAG System')\n",
    "plt.tight_layout()\n",
    "plt.savefig('rag_comparison.png', dpi=300)\n",
    "plt.show()"
   ]
  },
  {
   "cell_type": "code",
   "execution_count": null,
   "id": "89c31ed7",
   "metadata": {},
   "outputs": [],
   "source": []
  }
 ],
 "metadata": {
  "kernelspec": {
   "display_name": "Python 3 (ipykernel)",
   "language": "python",
   "name": "python3"
  },
  "language_info": {
   "codemirror_mode": {
    "name": "ipython",
    "version": 3
   },
   "file_extension": ".py",
   "mimetype": "text/x-python",
   "name": "python",
   "nbconvert_exporter": "python",
   "pygments_lexer": "ipython3",
   "version": "3.10.12"
  }
 },
 "nbformat": 4,
 "nbformat_minor": 5
}
