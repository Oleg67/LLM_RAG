{
 "cells": [
  {
   "cell_type": "markdown",
   "id": "2588af5e",
   "metadata": {},
   "source": [
    "### Fine tune LLM embeedings model\n"
   ]
  },
  {
   "cell_type": "code",
   "execution_count": 2,
   "id": "2208c73f",
   "metadata": {},
   "outputs": [],
   "source": [
    "#!pip install openai==0.28.1\n",
    "#!pip install openai --upgrade\n",
    "#!pip install ragas\n",
    "#!pip install unstructured\n",
    "#!pip install langchain[all]\n",
    "#!pip install --upgrade langchain\n",
    "\n",
    "#!pip install playwright\n",
    "#!pip install -U selenium unstructured\n",
    "#!pip install --upgrade langchain langchain-community langchainhub langchain-openai langchain-chroma bs4"
   ]
  },
  {
   "cell_type": "code",
   "execution_count": 1,
   "id": "d63c1067",
   "metadata": {},
   "outputs": [],
   "source": [
    "#!pip install pydantic==2.5\n",
    "#!pip install --upgrade --quiet  langchain_milvus\n",
    "#!pip install --upgrade scipy"
   ]
  },
  {
   "cell_type": "code",
   "execution_count": 1,
   "id": "20e13d6c",
   "metadata": {},
   "outputs": [],
   "source": [
    "import os, json\n",
    "#import openai\n",
    "#from langchain.chat_models import ChatOpenAI, ChatGooglePalm\n",
    "from utils import OPENAI_API_KEY\n",
    "\n",
    "os.environ['OPENAI_API_KEY'] =  OPENAI_API_KEY\n",
    "#os.environ[\"LANGCHAIN_TRACING_V2\"] = \"true\"\n",
    "#os.environ['CUDA_LAUNCH_BLOCKING'] = '1'\n",
    "\n",
    "#openai.api_key = os.environ['OPENAI_API_KEY']"
   ]
  },
  {
   "cell_type": "code",
   "execution_count": 2,
   "id": "2da0f4b7",
   "metadata": {},
   "outputs": [
    {
     "data": {
      "text/plain": [
       "True"
      ]
     },
     "execution_count": 2,
     "metadata": {},
     "output_type": "execute_result"
    }
   ],
   "source": [
    "import torch\n",
    "torch.cuda.is_available()"
   ]
  },
  {
   "cell_type": "code",
   "execution_count": 3,
   "id": "59018bfc",
   "metadata": {},
   "outputs": [],
   "source": [
    "from transformers import (BertTokenizer, \n",
    "                          BertForMaskedLM, \n",
    "                          Trainer, \n",
    "                          TrainingArguments, \n",
    "                          DataCollatorForLanguageModeling,\n",
    "                          DataCollatorForWholeWordMask,\n",
    "                          DataCollatorWithPadding\n",
    "                         )\n",
    "from datasets import load_dataset\n"
   ]
  },
  {
   "cell_type": "markdown",
   "id": "8721110a",
   "metadata": {},
   "source": [
    "### 1. Download articels from URL"
   ]
  },
  {
   "cell_type": "code",
   "execution_count": 4,
   "id": "075332bf",
   "metadata": {},
   "outputs": [],
   "source": [
    "import bs4\n",
    "#from langchain import hub\n",
    "from langchain_community.document_loaders import SeleniumURLLoader, TextLoader\n",
    "#from langchain_chroma import Chroma\n",
    "from langchain_milvus.vectorstores import Milvus\n",
    "#from langchain_core.output_parsers import StrOutputParser\n",
    "#from langchain_core.runnables import RunnablePassthrough\n",
    "#from langchain_openai import OpenAIEmbeddings\n",
    "from langchain_text_splitters import RecursiveCharacterTextSplitter, NLTKTextSplitter\n",
    "#from langchain.storage import InMemoryStore\n",
    "#from langchain.retrievers import ParentDocumentRetriever\n",
    "\n",
    "#from langchain.chains import create_history_aware_retriever, create_retrieval_chain\n",
    "#from langchain.chains.combine_documents import create_stuff_documents_chain\n",
    "#from langchain_community.chat_message_histories import ChatMessageHistory\n",
    "#from langchain_core.chat_history import BaseChatMessageHistory\n",
    "#from langchain_core.prompts import ChatPromptTemplate, MessagesPlaceholder\n",
    "#from langchain_core.runnables.history import RunnableWithMessageHistory\n",
    "from langchain_openai import ChatOpenAI, OpenAIEmbeddings\n"
   ]
  },
  {
   "cell_type": "code",
   "execution_count": 11,
   "id": "8841182e",
   "metadata": {},
   "outputs": [],
   "source": [
    "ai_model = \"gpt-3.5-turbo-0125\"\n",
    "tokens = 500\n",
    "\n",
    "llm = ChatOpenAI(model=ai_model, temperature=0.)"
   ]
  },
  {
   "cell_type": "code",
   "execution_count": 12,
   "id": "841cbba0",
   "metadata": {},
   "outputs": [],
   "source": [
    "def load_url_documets(list_urls):\n",
    "    \n",
    "    # Load, chunk and index the contents of the blog.\n",
    "    loader_url =SeleniumURLLoader( list_urls)\n",
    "    docs = loader_url.load()\n",
    "    #text_splitter = RecursiveCharacterTextSplitter(separators=[\"\\n\\n\",\"\\n\"], chunk_size=500, chunk_overlap=50)\n",
    "    text_splitter = NLTKTextSplitter(chunk_size=tokens, chunk_overlap=50)\n",
    "    splits = text_splitter.split_documents(docs)\n",
    "    \n",
    "    return splits, docs"
   ]
  },
  {
   "cell_type": "code",
   "execution_count": null,
   "id": "fd7e9e8f",
   "metadata": {},
   "outputs": [
    {
     "name": "stderr",
     "output_type": "stream",
     "text": [
      "There was an error managing chromedriver (error sending request for url (https://googlechromelabs.github.io/chrome-for-testing/known-good-versions-with-downloads.json): error trying to connect: dns error: failed to lookup address information: Try again); using driver found in the cache\n",
      "Error sending stats to Plausible: error sending request for url (https://plausible.io/api/event): operation timed out\n"
     ]
    }
   ],
   "source": [
    "url_list = [\"https://www.nature.com/articles/s41524-023-01062-z\",\n",
    "            \"https://www.nature.com/articles/s41699-023-00369-1\",\n",
    "          #  \"https://github.com/HSE-LAMBDA/ai4material_design/tree/main/docs/CONSTRUCTOR-MOCK.md\"\n",
    "          #  \"https://github.com/HSE-LAMBDA/ai4material_design/blob/main/docs/CONSTRUCTOR.md\",\n",
    "          #  \"https://github.com/HSE-LAMBDA/ai4material_design/blob/main/docs/DATA.md\",\n",
    "          #  \"https://github.com/HSE-LAMBDA/ai4material_design/blob/main/docs/ENVIRONMENT.md\",\n",
    "          #  \"https://github.com/HSE-LAMBDA/ai4material_design/blob/main/docs/GENERATING-CONSTRUCTOR.md\",\n",
    "          #  \"https://github.com/HSE-LAMBDA/ai4material_design/blob/main/docs/GENERATING-MOCK.md\",\n",
    "          #  \"https://github.com/HSE-LAMBDA/ai4material_design/blob/main/docs/PILOT.md\",\n",
    "          #  \"https://github.com/HSE-LAMBDA/ai4material_design/blob/main/docs/SPARSE-PAPER.md\"\n",
    "          #  \"https://www.nature.com/articles/s41377-024-01407-3\",\n",
    "          #  \"https://www.nature.com/articles/s41565-023-01407-1\",\n",
    "          #  \"https://www.nature.com/articles/s41699-023-00369-1\",\n",
    "           ]\n",
    "                               \n",
    "chunks, documents = load_url_documets(url_list)\n",
    "print(len(chunks), len(documents))"
   ]
  },
  {
   "cell_type": "code",
   "execution_count": null,
   "id": "73b50490",
   "metadata": {},
   "outputs": [],
   "source": [
    "len(chunks[3].page_content.split(\" \"))"
   ]
  },
  {
   "cell_type": "code",
   "execution_count": 38,
   "id": "f43a06c5",
   "metadata": {},
   "outputs": [],
   "source": [
    "import json\n",
    "train_size = 0.8  # 80% of the data for training\n",
    "\n",
    "# Save the train data\n",
    "with open('data/data_rag/file_train_chunks.json', 'w') as fp:\n",
    "    \n",
    "    for c  in chunks[:int(train_size*len(chunks))]:\n",
    "        # write each item on a new line\n",
    "        fp.write('{text: %s}\\n' % c.page_content.replace(\"\\n\", \" \"))\n",
    "        \n",
    "with open('data/data_rag/file_validation_chunks.json', 'w') as fp:\n",
    "    \n",
    "    for c  in chunks[int(train_size*len(chunks)):]:\n",
    "        # write each item on a new line\n",
    "        fp.write('{text: \"%s}\\n' % c.page_content.replace(\"\\n\", \" \"))\n",
    "    #fp.writelines(\"text:\".join(json.dumps(i) for i in chunks[:80]) + ',\\n'\n",
    "    #         \n",
    "    #    )"
   ]
  },
  {
   "cell_type": "markdown",
   "id": "e6138ce6",
   "metadata": {},
   "source": [
    "### Load Model"
   ]
  },
  {
   "cell_type": "code",
   "execution_count": 4,
   "id": "5dc8c193",
   "metadata": {},
   "outputs": [],
   "source": [
    "# Load a tokenizer specific to BAAI/bge-base-en-v1.5\n",
    "tokenizer = BertTokenizer.from_pretrained('BAAI/bge-base-en-v1.5')\n"
   ]
  },
  {
   "cell_type": "code",
   "execution_count": 5,
   "id": "bdb5f0bc",
   "metadata": {},
   "outputs": [],
   "source": [
    "tokenizer.tokenize_chinese_chars = False"
   ]
  },
  {
   "cell_type": "code",
   "execution_count": 6,
   "id": "61e1a919",
   "metadata": {},
   "outputs": [],
   "source": [
    "# Load a dataset\n",
    "dataset = load_dataset('text', \n",
    "                       data_files={'train': './data/data_rag/file_train_chunks.json', \n",
    "                                   'validation': './data/data_rag/file_validation_chunks.json'})\n"
   ]
  },
  {
   "cell_type": "code",
   "execution_count": 7,
   "id": "05943fab",
   "metadata": {},
   "outputs": [],
   "source": [
    "# Tokenize the dataset and apply masking\n",
    "def tokenize_function(examples):\n",
    "    return tokenizer(examples['text'], padding='max_length', truncation=True, max_length=512)\n",
    "\n",
    "tokenized_datasets = dataset.map(tokenize_function, batched=True, remove_columns=[\"text\"])\n"
   ]
  },
  {
   "cell_type": "code",
   "execution_count": 8,
   "id": "9a893517",
   "metadata": {},
   "outputs": [
    {
     "data": {
      "text/plain": [
       "'{text: In this work, we propose a method for predicting the energetic and electronic structures of defects in 2D materials with machine learning.  Firstly, a machine learning-friendly 2D Material Defect database (2DMD) was established employing high throughput DFT calculations15.  The database is composed of both structured datasets and dispersive datasets of defects in represented 2D materials such as MoS2, WSe2, h-BN, GaSe, InSe, and black phosphorous (BP).}'"
      ]
     },
     "execution_count": 8,
     "metadata": {},
     "output_type": "execute_result"
    }
   ],
   "source": [
    "dataset['train'][10]['text']"
   ]
  },
  {
   "cell_type": "code",
   "execution_count": 9,
   "id": "6f78d17a",
   "metadata": {},
   "outputs": [
    {
     "name": "stdout",
     "output_type": "stream",
     "text": [
      "512\n",
      "[101, 1063, 3793, 1024, 2057, 2224, 1996, 2951, 13462, 2015, 2000, 16157, 1996, 2836, 1997, 1996, 3130, 2988, 8107, 2247, 2007, 14635, 1521, 2029, 2001, 11974, 2881, 2000, 3073, 8321, 6412, 1997, 4475, 2007, 18419, 1012, 2256, 15078, 7885, 2265, 2008, 2256, 3921, 3640, 1037, 3278, 3623, 1999, 17547, 10640, 4102, 2000, 1996, 2110, 1011, 1997, 1011, 1996, 1011, 2396, 2236, 4725, 1012, 1065, 102, 0, 0, 0, 0, 0, 0, 0, 0, 0, 0, 0, 0, 0, 0, 0, 0, 0, 0, 0, 0, 0, 0, 0, 0, 0, 0, 0, 0, 0, 0, 0, 0, 0, 0, 0, 0, 0, 0, 0, 0, 0, 0, 0, 0, 0, 0, 0, 0, 0, 0, 0, 0, 0, 0, 0, 0, 0, 0, 0, 0, 0, 0, 0, 0, 0, 0, 0, 0, 0, 0, 0, 0, 0, 0, 0, 0, 0, 0, 0, 0, 0, 0, 0, 0, 0, 0, 0, 0, 0, 0, 0, 0, 0, 0, 0, 0, 0, 0, 0, 0, 0, 0, 0, 0, 0, 0, 0, 0, 0, 0, 0, 0, 0, 0, 0, 0, 0, 0, 0, 0, 0, 0, 0, 0, 0, 0, 0, 0, 0, 0, 0, 0, 0, 0, 0, 0, 0, 0, 0, 0, 0, 0, 0, 0, 0, 0, 0, 0, 0, 0, 0, 0, 0, 0, 0, 0, 0, 0, 0, 0, 0, 0, 0, 0, 0, 0, 0, 0, 0, 0, 0, 0, 0, 0, 0, 0, 0, 0, 0, 0, 0, 0, 0, 0, 0, 0, 0, 0, 0, 0, 0, 0, 0, 0, 0, 0, 0, 0, 0, 0, 0, 0, 0, 0, 0, 0, 0, 0, 0, 0, 0, 0, 0, 0, 0, 0, 0, 0, 0, 0, 0, 0, 0, 0, 0, 0, 0, 0, 0, 0, 0, 0, 0, 0, 0, 0, 0, 0, 0, 0, 0, 0, 0, 0, 0, 0, 0, 0, 0, 0, 0, 0, 0, 0, 0, 0, 0, 0, 0, 0, 0, 0, 0, 0, 0, 0, 0, 0, 0, 0, 0, 0, 0, 0, 0, 0, 0, 0, 0, 0, 0, 0, 0, 0, 0, 0, 0, 0, 0, 0, 0, 0, 0, 0, 0, 0, 0, 0, 0, 0, 0, 0, 0, 0, 0, 0, 0, 0, 0, 0, 0, 0, 0, 0, 0, 0, 0, 0, 0, 0, 0, 0, 0, 0, 0, 0, 0, 0, 0, 0, 0, 0, 0, 0, 0, 0, 0, 0, 0, 0, 0, 0, 0, 0, 0, 0, 0, 0, 0, 0, 0, 0, 0, 0, 0, 0, 0, 0, 0, 0, 0, 0, 0, 0, 0, 0, 0, 0, 0, 0, 0, 0, 0, 0, 0, 0, 0, 0, 0, 0, 0, 0, 0, 0, 0, 0, 0, 0, 0, 0, 0, 0, 0, 0, 0, 0, 0, 0, 0, 0, 0, 0, 0, 0, 0, 0, 0, 0, 0, 0, 0, 0, 0, 0, 0, 0, 0, 0, 0, 0, 0, 0, 0, 0, 0, 0, 0, 0, 0, 0, 0, 0, 0, 0, 0, 0, 0, 0, 0, 0, 0, 0, 0, 0, 0, 0, 0]\n"
     ]
    }
   ],
   "source": [
    "print(len(tokenized_datasets['train'][10]['input_ids'])) # 512\n",
    "print(tokenized_datasets['train'][11]['input_ids'])\n"
   ]
  },
  {
   "cell_type": "code",
   "execution_count": 10,
   "id": "efffbc6a",
   "metadata": {},
   "outputs": [],
   "source": [
    "# Data collator for dynamic masking\n",
    "data_collator = DataCollatorForLanguageModeling(\n",
    "    tokenizer=tokenizer,\n",
    "    mlm=True,\n",
    "    mlm_probability=0.2\n",
    ")\n"
   ]
  },
  {
   "cell_type": "markdown",
   "id": "a2fd1f66",
   "metadata": {},
   "source": [
    "Some weights of BertForMaskedLM were not initialized from the model checkpoint at BAAI/bge-large-en-v1.5 and are newly initialized: ['cls.predictions.bias', 'cls.predictions.decoder.bias', 'cls.predictions.transform.LayerNorm.bias', 'cls.predictions.transform.LayerNorm.weight', 'cls.predictions.transform.dense.bias', 'cls.predictions.transform.dense.weight']\n",
    "You should probably TRAIN this model on a down-stream task to be able to use it for predictions and inference."
   ]
  },
  {
   "cell_type": "code",
   "execution_count": 11,
   "id": "224c873e",
   "metadata": {},
   "outputs": [
    {
     "name": "stderr",
     "output_type": "stream",
     "text": [
      "Some weights of BertForMaskedLM were not initialized from the model checkpoint at BAAI/bge-base-en-v1.5 and are newly initialized: ['cls.predictions.bias', 'cls.predictions.decoder.bias', 'cls.predictions.transform.LayerNorm.bias', 'cls.predictions.transform.LayerNorm.weight', 'cls.predictions.transform.dense.bias', 'cls.predictions.transform.dense.weight']\n",
      "You should probably TRAIN this model on a down-stream task to be able to use it for predictions and inference.\n"
     ]
    }
   ],
   "source": [
    "# Load the BAAI/bge-base-en-v1.5 model for masked language modeling\n",
    "model = BertForMaskedLM.from_pretrained('BAAI/bge-base-en-v1.5')"
   ]
  },
  {
   "cell_type": "code",
   "execution_count": 12,
   "id": "4066f23c",
   "metadata": {},
   "outputs": [
    {
     "name": "stderr",
     "output_type": "stream",
     "text": [
      "/home/oleg/miniconda3/envs/llm/lib/python3.10/site-packages/transformers/training_args.py:1474: FutureWarning: `evaluation_strategy` is deprecated and will be removed in version 4.46 of 🤗 Transformers. Use `eval_strategy` instead\n",
      "  warnings.warn(\n"
     ]
    }
   ],
   "source": [
    "# Define training arguments\n",
    "training_args = TrainingArguments(\n",
    "    output_dir='./results512a',\n",
    "    evaluation_strategy=\"epoch\",\n",
    "    learning_rate=2e-4,\n",
    "  #  lr_scheduler_type  = 'cosine_with_restarts',\n",
    "    gradient_accumulation_steps = 4, \n",
    "    per_device_train_batch_size=4, # batch size 4 and 512 tokens length takes 3400 Mbs of GPU\n",
    "    per_device_eval_batch_size=4,  # 8 batch size more usefull for trainig, then 2\n",
    "    num_train_epochs=100,\n",
    "    weight_decay=0.01,\n",
    ")"
   ]
  },
  {
   "cell_type": "code",
   "execution_count": 13,
   "id": "f82a3990",
   "metadata": {},
   "outputs": [],
   "source": [
    "# Create a Trainer instance\n",
    "trainer = Trainer(\n",
    "    model=model,\n",
    "    args=training_args,\n",
    "    train_dataset=tokenized_datasets['train'],\n",
    "    eval_dataset=tokenized_datasets['validation'],\n",
    "    data_collator=data_collator,\n",
    ")"
   ]
  },
  {
   "cell_type": "code",
   "execution_count": 14,
   "id": "ee693de3",
   "metadata": {
    "scrolled": true
   },
   "outputs": [
    {
     "data": {
      "text/plain": [
       "device(type='cuda', index=0)"
      ]
     },
     "execution_count": 14,
     "metadata": {},
     "output_type": "execute_result"
    }
   ],
   "source": [
    "model.device"
   ]
  },
  {
   "cell_type": "code",
   "execution_count": 15,
   "id": "e50f3dbf",
   "metadata": {},
   "outputs": [
    {
     "name": "stdout",
     "output_type": "stream",
     "text": [
      "model parameters: 109.514 M\n"
     ]
    }
   ],
   "source": [
    "# calculate only the trainable parameters:\n",
    "\n",
    "pytorch_total_params = sum(p.numel() for p in model.parameters() if p.requires_grad)\n",
    "\n",
    "print(\"model parameters:\", round(pytorch_total_params/1e6,3), \"M\")"
   ]
  },
  {
   "cell_type": "code",
   "execution_count": 16,
   "id": "577b7d0a",
   "metadata": {
    "scrolled": true
   },
   "outputs": [
    {
     "data": {
      "text/html": [
       "\n",
       "    <div>\n",
       "      \n",
       "      <progress value='1100' max='1100' style='width:300px; height:20px; vertical-align: middle;'></progress>\n",
       "      [1100/1100 2:07:07, Epoch 93/100]\n",
       "    </div>\n",
       "    <table border=\"1\" class=\"dataframe\">\n",
       "  <thead>\n",
       " <tr style=\"text-align: left;\">\n",
       "      <th>Epoch</th>\n",
       "      <th>Training Loss</th>\n",
       "      <th>Validation Loss</th>\n",
       "    </tr>\n",
       "  </thead>\n",
       "  <tbody>\n",
       "    <tr>\n",
       "      <td>0</td>\n",
       "      <td>No log</td>\n",
       "      <td>6.960860</td>\n",
       "    </tr>\n",
       "    <tr>\n",
       "      <td>1</td>\n",
       "      <td>No log</td>\n",
       "      <td>6.422420</td>\n",
       "    </tr>\n",
       "    <tr>\n",
       "      <td>2</td>\n",
       "      <td>No log</td>\n",
       "      <td>6.282650</td>\n",
       "    </tr>\n",
       "    <tr>\n",
       "      <td>4</td>\n",
       "      <td>No log</td>\n",
       "      <td>6.084062</td>\n",
       "    </tr>\n",
       "    <tr>\n",
       "      <td>5</td>\n",
       "      <td>No log</td>\n",
       "      <td>6.204672</td>\n",
       "    </tr>\n",
       "    <tr>\n",
       "      <td>6</td>\n",
       "      <td>No log</td>\n",
       "      <td>6.136813</td>\n",
       "    </tr>\n",
       "    <tr>\n",
       "      <td>8</td>\n",
       "      <td>No log</td>\n",
       "      <td>5.823820</td>\n",
       "    </tr>\n",
       "    <tr>\n",
       "      <td>9</td>\n",
       "      <td>No log</td>\n",
       "      <td>5.943426</td>\n",
       "    </tr>\n",
       "    <tr>\n",
       "      <td>10</td>\n",
       "      <td>No log</td>\n",
       "      <td>5.820554</td>\n",
       "    </tr>\n",
       "    <tr>\n",
       "      <td>12</td>\n",
       "      <td>No log</td>\n",
       "      <td>5.595556</td>\n",
       "    </tr>\n",
       "    <tr>\n",
       "      <td>13</td>\n",
       "      <td>No log</td>\n",
       "      <td>5.642794</td>\n",
       "    </tr>\n",
       "    <tr>\n",
       "      <td>14</td>\n",
       "      <td>No log</td>\n",
       "      <td>5.647243</td>\n",
       "    </tr>\n",
       "    <tr>\n",
       "      <td>16</td>\n",
       "      <td>No log</td>\n",
       "      <td>5.626409</td>\n",
       "    </tr>\n",
       "    <tr>\n",
       "      <td>17</td>\n",
       "      <td>No log</td>\n",
       "      <td>5.527695</td>\n",
       "    </tr>\n",
       "    <tr>\n",
       "      <td>18</td>\n",
       "      <td>No log</td>\n",
       "      <td>5.480936</td>\n",
       "    </tr>\n",
       "    <tr>\n",
       "      <td>20</td>\n",
       "      <td>No log</td>\n",
       "      <td>4.916962</td>\n",
       "    </tr>\n",
       "    <tr>\n",
       "      <td>21</td>\n",
       "      <td>No log</td>\n",
       "      <td>5.028299</td>\n",
       "    </tr>\n",
       "    <tr>\n",
       "      <td>22</td>\n",
       "      <td>No log</td>\n",
       "      <td>4.890584</td>\n",
       "    </tr>\n",
       "    <tr>\n",
       "      <td>24</td>\n",
       "      <td>No log</td>\n",
       "      <td>4.297911</td>\n",
       "    </tr>\n",
       "    <tr>\n",
       "      <td>25</td>\n",
       "      <td>No log</td>\n",
       "      <td>4.076789</td>\n",
       "    </tr>\n",
       "    <tr>\n",
       "      <td>26</td>\n",
       "      <td>No log</td>\n",
       "      <td>3.980025</td>\n",
       "    </tr>\n",
       "    <tr>\n",
       "      <td>28</td>\n",
       "      <td>No log</td>\n",
       "      <td>3.708674</td>\n",
       "    </tr>\n",
       "    <tr>\n",
       "      <td>29</td>\n",
       "      <td>No log</td>\n",
       "      <td>3.936939</td>\n",
       "    </tr>\n",
       "    <tr>\n",
       "      <td>30</td>\n",
       "      <td>No log</td>\n",
       "      <td>3.819258</td>\n",
       "    </tr>\n",
       "    <tr>\n",
       "      <td>32</td>\n",
       "      <td>No log</td>\n",
       "      <td>3.492900</td>\n",
       "    </tr>\n",
       "    <tr>\n",
       "      <td>33</td>\n",
       "      <td>No log</td>\n",
       "      <td>3.740168</td>\n",
       "    </tr>\n",
       "    <tr>\n",
       "      <td>34</td>\n",
       "      <td>No log</td>\n",
       "      <td>3.249136</td>\n",
       "    </tr>\n",
       "    <tr>\n",
       "      <td>36</td>\n",
       "      <td>No log</td>\n",
       "      <td>3.388892</td>\n",
       "    </tr>\n",
       "    <tr>\n",
       "      <td>37</td>\n",
       "      <td>No log</td>\n",
       "      <td>3.173328</td>\n",
       "    </tr>\n",
       "    <tr>\n",
       "      <td>38</td>\n",
       "      <td>No log</td>\n",
       "      <td>3.214972</td>\n",
       "    </tr>\n",
       "    <tr>\n",
       "      <td>40</td>\n",
       "      <td>No log</td>\n",
       "      <td>3.090436</td>\n",
       "    </tr>\n",
       "    <tr>\n",
       "      <td>41</td>\n",
       "      <td>No log</td>\n",
       "      <td>3.067657</td>\n",
       "    </tr>\n",
       "    <tr>\n",
       "      <td>42</td>\n",
       "      <td>4.220800</td>\n",
       "      <td>3.093683</td>\n",
       "    </tr>\n",
       "    <tr>\n",
       "      <td>44</td>\n",
       "      <td>4.220800</td>\n",
       "      <td>2.924738</td>\n",
       "    </tr>\n",
       "    <tr>\n",
       "      <td>45</td>\n",
       "      <td>4.220800</td>\n",
       "      <td>2.916366</td>\n",
       "    </tr>\n",
       "    <tr>\n",
       "      <td>46</td>\n",
       "      <td>4.220800</td>\n",
       "      <td>2.948514</td>\n",
       "    </tr>\n",
       "    <tr>\n",
       "      <td>48</td>\n",
       "      <td>4.220800</td>\n",
       "      <td>2.997685</td>\n",
       "    </tr>\n",
       "    <tr>\n",
       "      <td>49</td>\n",
       "      <td>4.220800</td>\n",
       "      <td>2.786241</td>\n",
       "    </tr>\n",
       "    <tr>\n",
       "      <td>50</td>\n",
       "      <td>4.220800</td>\n",
       "      <td>2.979261</td>\n",
       "    </tr>\n",
       "    <tr>\n",
       "      <td>52</td>\n",
       "      <td>4.220800</td>\n",
       "      <td>2.623811</td>\n",
       "    </tr>\n",
       "    <tr>\n",
       "      <td>53</td>\n",
       "      <td>4.220800</td>\n",
       "      <td>2.801431</td>\n",
       "    </tr>\n",
       "    <tr>\n",
       "      <td>54</td>\n",
       "      <td>4.220800</td>\n",
       "      <td>2.648566</td>\n",
       "    </tr>\n",
       "    <tr>\n",
       "      <td>56</td>\n",
       "      <td>4.220800</td>\n",
       "      <td>2.467402</td>\n",
       "    </tr>\n",
       "    <tr>\n",
       "      <td>57</td>\n",
       "      <td>4.220800</td>\n",
       "      <td>2.805202</td>\n",
       "    </tr>\n",
       "    <tr>\n",
       "      <td>58</td>\n",
       "      <td>4.220800</td>\n",
       "      <td>2.779776</td>\n",
       "    </tr>\n",
       "    <tr>\n",
       "      <td>60</td>\n",
       "      <td>4.220800</td>\n",
       "      <td>2.727691</td>\n",
       "    </tr>\n",
       "    <tr>\n",
       "      <td>61</td>\n",
       "      <td>4.220800</td>\n",
       "      <td>2.772953</td>\n",
       "    </tr>\n",
       "    <tr>\n",
       "      <td>62</td>\n",
       "      <td>4.220800</td>\n",
       "      <td>2.615841</td>\n",
       "    </tr>\n",
       "    <tr>\n",
       "      <td>64</td>\n",
       "      <td>4.220800</td>\n",
       "      <td>2.581881</td>\n",
       "    </tr>\n",
       "    <tr>\n",
       "      <td>65</td>\n",
       "      <td>4.220800</td>\n",
       "      <td>2.690757</td>\n",
       "    </tr>\n",
       "    <tr>\n",
       "      <td>66</td>\n",
       "      <td>4.220800</td>\n",
       "      <td>2.663996</td>\n",
       "    </tr>\n",
       "    <tr>\n",
       "      <td>68</td>\n",
       "      <td>4.220800</td>\n",
       "      <td>2.515438</td>\n",
       "    </tr>\n",
       "    <tr>\n",
       "      <td>69</td>\n",
       "      <td>4.220800</td>\n",
       "      <td>2.545212</td>\n",
       "    </tr>\n",
       "    <tr>\n",
       "      <td>70</td>\n",
       "      <td>4.220800</td>\n",
       "      <td>2.506399</td>\n",
       "    </tr>\n",
       "    <tr>\n",
       "      <td>72</td>\n",
       "      <td>4.220800</td>\n",
       "      <td>2.607189</td>\n",
       "    </tr>\n",
       "    <tr>\n",
       "      <td>73</td>\n",
       "      <td>4.220800</td>\n",
       "      <td>2.498257</td>\n",
       "    </tr>\n",
       "    <tr>\n",
       "      <td>74</td>\n",
       "      <td>4.220800</td>\n",
       "      <td>2.476972</td>\n",
       "    </tr>\n",
       "    <tr>\n",
       "      <td>76</td>\n",
       "      <td>4.220800</td>\n",
       "      <td>2.469248</td>\n",
       "    </tr>\n",
       "    <tr>\n",
       "      <td>77</td>\n",
       "      <td>4.220800</td>\n",
       "      <td>2.562613</td>\n",
       "    </tr>\n",
       "    <tr>\n",
       "      <td>78</td>\n",
       "      <td>4.220800</td>\n",
       "      <td>2.393988</td>\n",
       "    </tr>\n",
       "    <tr>\n",
       "      <td>80</td>\n",
       "      <td>4.220800</td>\n",
       "      <td>2.484040</td>\n",
       "    </tr>\n",
       "    <tr>\n",
       "      <td>81</td>\n",
       "      <td>4.220800</td>\n",
       "      <td>2.393851</td>\n",
       "    </tr>\n",
       "    <tr>\n",
       "      <td>82</td>\n",
       "      <td>4.220800</td>\n",
       "      <td>2.388913</td>\n",
       "    </tr>\n",
       "    <tr>\n",
       "      <td>84</td>\n",
       "      <td>4.220800</td>\n",
       "      <td>2.500747</td>\n",
       "    </tr>\n",
       "    <tr>\n",
       "      <td>85</td>\n",
       "      <td>1.259700</td>\n",
       "      <td>2.435066</td>\n",
       "    </tr>\n",
       "    <tr>\n",
       "      <td>86</td>\n",
       "      <td>1.259700</td>\n",
       "      <td>2.346194</td>\n",
       "    </tr>\n",
       "    <tr>\n",
       "      <td>88</td>\n",
       "      <td>1.259700</td>\n",
       "      <td>2.368456</td>\n",
       "    </tr>\n",
       "    <tr>\n",
       "      <td>89</td>\n",
       "      <td>1.259700</td>\n",
       "      <td>2.517292</td>\n",
       "    </tr>\n",
       "    <tr>\n",
       "      <td>90</td>\n",
       "      <td>1.259700</td>\n",
       "      <td>2.382053</td>\n",
       "    </tr>\n",
       "    <tr>\n",
       "      <td>92</td>\n",
       "      <td>1.259700</td>\n",
       "      <td>2.346984</td>\n",
       "    </tr>\n",
       "    <tr>\n",
       "      <td>93</td>\n",
       "      <td>1.259700</td>\n",
       "      <td>2.732093</td>\n",
       "    </tr>\n",
       "  </tbody>\n",
       "</table><p>"
      ],
      "text/plain": [
       "<IPython.core.display.HTML object>"
      ]
     },
     "metadata": {},
     "output_type": "display_data"
    },
    {
     "data": {
      "text/plain": [
       "TrainOutput(global_step=1100, training_loss=2.5661329928311436, metrics={'train_runtime': 7634.0017, 'train_samples_per_second': 2.423, 'train_steps_per_second': 0.144, 'total_flos': 4558970562508800.0, 'train_loss': 2.5661329928311436, 'epoch': 93.61702127659575})"
      ]
     },
     "execution_count": 16,
     "metadata": {},
     "output_type": "execute_result"
    }
   ],
   "source": [
    "# Train the model\n",
    "trainer.train()\n"
   ]
  },
  {
   "cell_type": "code",
   "execution_count": 20,
   "id": "88c9368d",
   "metadata": {},
   "outputs": [
    {
     "name": "stderr",
     "output_type": "stream",
     "text": [
      "/home/oleg/miniconda3/envs/llm/lib/python3.10/site-packages/transformers/training_args.py:1474: FutureWarning: `evaluation_strategy` is deprecated and will be removed in version 4.46 of 🤗 Transformers. Use `eval_strategy` instead\n",
      "  warnings.warn(\n"
     ]
    }
   ],
   "source": [
    "# Define training arguments\n",
    "training_args = TrainingArguments(\n",
    "    output_dir='./results512a',\n",
    "    evaluation_strategy=\"epoch\",\n",
    "    learning_rate=2e-4,\n",
    "  #  lr_scheduler_type  = 'cosine_with_restarts',\n",
    "    gradient_accumulation_steps = 4, \n",
    "    per_device_train_batch_size=4, # batch size 4 and 512 tokens length takes 3400 Mbs of GPU\n",
    "    per_device_eval_batch_size=4,  # 8 batch size more usefull for trainig, then 2\n",
    "    num_train_epochs=100,\n",
    "    weight_decay=0.01,\n",
    ")"
   ]
  },
  {
   "cell_type": "code",
   "execution_count": 21,
   "id": "a87164e8",
   "metadata": {},
   "outputs": [],
   "source": [
    "# Create a Trainer instance\n",
    "trainer = Trainer(\n",
    "    model=model,\n",
    "    args=training_args,\n",
    "    train_dataset=tokenized_datasets['train'],\n",
    "    eval_dataset=tokenized_datasets['validation'],\n",
    "    data_collator=data_collator,\n",
    ")"
   ]
  },
  {
   "cell_type": "code",
   "execution_count": 18,
   "id": "51660cb7",
   "metadata": {
    "scrolled": true
   },
   "outputs": [
    {
     "ename": "TypeError",
     "evalue": "log_metrics() missing 2 required positional arguments: 'split' and 'metrics'",
     "output_type": "error",
     "traceback": [
      "\u001b[0;31m---------------------------------------------------------------------------\u001b[0m",
      "\u001b[0;31mTypeError\u001b[0m                                 Traceback (most recent call last)",
      "Cell \u001b[0;32mIn[18], line 2\u001b[0m\n\u001b[1;32m      1\u001b[0m \u001b[38;5;66;03m# Train the model\u001b[39;00m\n\u001b[0;32m----> 2\u001b[0m \u001b[43mtrainer\u001b[49m\u001b[38;5;241;43m.\u001b[39;49m\u001b[43mlog_metrics\u001b[49m\u001b[43m(\u001b[49m\u001b[43m)\u001b[49m\n",
      "\u001b[0;31mTypeError\u001b[0m: log_metrics() missing 2 required positional arguments: 'split' and 'metrics'"
     ]
    }
   ],
   "source": [
    "# Train the model\n",
    "trainer.log_metrics()\n"
   ]
  },
  {
   "cell_type": "code",
   "execution_count": 1,
   "id": "557350f6",
   "metadata": {},
   "outputs": [],
   "source": [
    "data_train = \"\"\"0 \tNo log \t6.960860\n",
    "1 \tNo log \t6.422420\n",
    "2 \tNo log \t6.282650\n",
    "4 \tNo log \t6.084062\n",
    "5 \tNo log \t6.204672\n",
    "6 \tNo log \t6.136813\n",
    "8 \tNo log \t5.823820\n",
    "9 \tNo log \t5.943426\n",
    "10 \tNo log \t5.820554\n",
    "12 \tNo log \t5.595556\n",
    "13 \tNo log \t5.642794\n",
    "14 \tNo log \t5.647243\n",
    "16 \tNo log \t5.626409\n",
    "17 \tNo log \t5.527695\n",
    "18 \tNo log \t5.480936\n",
    "20 \tNo log \t4.916962\n",
    "21 \tNo log \t5.028299\n",
    "22 \tNo log \t4.890584\n",
    "24 \tNo log \t4.297911\n",
    "25 \tNo log \t4.076789\n",
    "26 \tNo log \t3.980025\n",
    "28 \tNo log \t3.708674\n",
    "29 \tNo log \t3.936939\n",
    "30 \tNo log \t3.819258\n",
    "32 \tNo log \t3.492900\n",
    "33 \tNo log \t3.740168\n",
    "34 \tNo log \t3.249136\n",
    "36 \tNo log \t3.388892\n",
    "37 \tNo log \t3.173328\n",
    "38 \tNo log \t3.214972\n",
    "40 \tNo log \t3.090436\n",
    "41 \tNo log \t3.067657\n",
    "42 \t4.220800 \t3.093683\n",
    "44 \t4.220800 \t2.924738\n",
    "45 \t4.220800 \t2.916366\n",
    "46 \t4.220800 \t2.948514\n",
    "48 \t4.220800 \t2.997685\n",
    "49 \t4.220800 \t2.786241\n",
    "50 \t4.220800 \t2.979261\n",
    "52 \t4.220800 \t2.623811\n",
    "53 \t4.220800 \t2.801431\n",
    "54 \t4.220800 \t2.648566\n",
    "56 \t4.220800 \t2.467402\n",
    "57 \t4.220800 \t2.805202\n",
    "58 \t4.220800 \t2.779776\n",
    "60 \t4.220800 \t2.727691\n",
    "61 \t4.220800 \t2.772953\n",
    "62 \t4.220800 \t2.615841\n",
    "64 \t4.220800 \t2.581881\n",
    "65 \t4.220800 \t2.690757\n",
    "66 \t4.220800 \t2.663996\n",
    "68 \t4.220800 \t2.515438\n",
    "69 \t4.220800 \t2.545212\n",
    "70 \t4.220800 \t2.506399\n",
    "72 \t4.220800 \t2.607189\n",
    "73 \t4.220800 \t2.498257\n",
    "74 \t4.220800 \t2.476972\n",
    "76 \t4.220800 \t2.469248\n",
    "77 \t4.220800 \t2.562613\n",
    "78 \t4.220800 \t2.393988\n",
    "80 \t4.220800 \t2.484040\n",
    "81 \t4.220800 \t2.393851\n",
    "82 \t4.220800 \t2.388913\n",
    "84 \t4.220800 \t2.500747\n",
    "85 \t1.259700 \t2.435066\n",
    "86 \t1.259700 \t2.346194\n",
    "88 \t1.259700 \t2.368456\n",
    "89 \t1.259700 \t2.517292\n",
    "90 \t1.259700 \t2.382053\n",
    "92 \t1.259700 \t2.346984\n",
    "93 \t1.259700 \t2.732093\n",
    "\"\"\""
   ]
  },
  {
   "cell_type": "code",
   "execution_count": 6,
   "id": "94fbd839",
   "metadata": {},
   "outputs": [
    {
     "data": {
      "text/plain": [
       "['No log ', '6.960860']"
      ]
     },
     "execution_count": 6,
     "metadata": {},
     "output_type": "execute_result"
    }
   ],
   "source": [
    "data_train.split('\\n')[0].split('\\t')[1:]"
   ]
  },
  {
   "cell_type": "code",
   "execution_count": 14,
   "id": "53496b24",
   "metadata": {},
   "outputs": [],
   "source": [
    "log_train = [x.split('\\t')[1:] for x in data_train.split('\\n') ]\n",
    "log_val = [x[1] for x in log_train[:-1]]\n",
    "log_train = [x[0] for x in log_train[:-1]]"
   ]
  },
  {
   "cell_type": "code",
   "execution_count": 11,
   "id": "926c66e4",
   "metadata": {},
   "outputs": [],
   "source": [
    "def _get_float(s):\n",
    "    try:\n",
    "        return float(s)\n",
    "    except ValueError:\n",
    "        return None"
   ]
  },
  {
   "cell_type": "code",
   "execution_count": 17,
   "id": "7321d0ad",
   "metadata": {},
   "outputs": [],
   "source": [
    "_train = list(map(_get_float, log_train))\n",
    "_val = list(map(_get_float, log_val))"
   ]
  },
  {
   "cell_type": "code",
   "execution_count": 18,
   "id": "4b4ae282",
   "metadata": {},
   "outputs": [],
   "source": [
    "import matplotlib.pyplot as plt"
   ]
  },
  {
   "cell_type": "code",
   "execution_count": 20,
   "id": "0dc7a0f5",
   "metadata": {},
   "outputs": [
    {
     "data": {
      "image/png": "[encoded data removed]",
      "text/plain": [
       "<Figure size 640x480 with 1 Axes>"
      ]
     },
     "metadata": {},
     "output_type": "display_data"
    }
   ],
   "source": [
    "plt.plot(_train, label='train')\n",
    "plt.plot(_val, label='val')\n",
    "plt.title(\"Loss\")\n",
    "plt.legend()\n",
    "plt.show()"
   ]
  },
  {
   "cell_type": "code",
   "execution_count": null,
   "id": "f48691d6",
   "metadata": {},
   "outputs": [],
   "source": []
  }
 ],
 "metadata": {
  "kernelspec": {
   "display_name": "Python 3 (ipykernel)",
   "language": "python",
   "name": "python3"
  },
  "language_info": {
   "codemirror_mode": {
    "name": "ipython",
    "version": 3
   },
   "file_extension": ".py",
   "mimetype": "text/x-python",
   "name": "python",
   "nbconvert_exporter": "python",
   "pygments_lexer": "ipython3",
   "version": "3.10.12"
  }
 },
 "nbformat": 4,
 "nbformat_minor": 5
}
